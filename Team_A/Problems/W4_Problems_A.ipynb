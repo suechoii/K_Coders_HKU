{
 "cells": [
  {
   "cell_type": "markdown",
   "id": "4559ce15",
   "metadata": {},
   "source": [
    "# Week 4, 5 Problems (Team A)\n",
    "\n",
    "- Algorithm: Sorting\n",
    "- Data Structure: Stack, Queue, Binary Tree, BST, Hash, Matrix\n",
    "\n",
    "__Source에 제공된 링크로 들어가 문제를 봅니다. 참고로 해당 플랫폼의 계정을 만들어야 합니다.__ <br>\n",
    "__문제풀이 테스트 하는 법: 해당 링크로 들어간다 --> 언어를 파이썬으로 설정한다 --> 자신의 풀이 코드를 넣고 돌려본다.__"
   ]
  },
  {
   "cell_type": "markdown",
   "id": "b1a75b44",
   "metadata": {},
   "source": [
    "### Feb 7\n",
    "\n",
    "Comment: Sorting 문제들은 더 찾아서 많이 풀어보시는걸 권장드립니다!"
   ]
  },
  {
   "cell_type": "markdown",
   "id": "614800b7",
   "metadata": {},
   "source": [
    "__Q1. Insertion Sort 1__ <br>\n",
    "\n",
    "__Problem No.__: HAS005 <br>\n",
    "__Topic__: Sort <br>\n",
    "__Source__: https://www.hackerrank.com/challenges/insertionsort1/problem?isFullScreen=true <br>\n",
    "__Difficulty__: Easy"
   ]
  },
  {
   "cell_type": "markdown",
   "id": "69713245",
   "metadata": {},
   "source": [
    "__Q2. Insertion Sort 2__ <br>\n",
    "\n",
    "__Problem No.__: HAS006 <br>\n",
    "__Topic__: Sort <br>\n",
    "__Source__: https://www.hackerrank.com/challenges/insertionsort2/problem?isFullScreen=true <br>\n",
    "__Difficulty__: Easy"
   ]
  },
  {
   "cell_type": "markdown",
   "id": "0bb25661",
   "metadata": {},
   "source": [
    "__Q3. Quick Sort__ <br>\n",
    "\n",
    "__Problem No.__: HAS007 <br>\n",
    "__Topic__: Sort <br>\n",
    "__Source__: https://www.hackerrank.com/challenges/quicksort1/problem?isFullScreen=true <br>\n",
    "__Difficulty__: Easy"
   ]
  },
  {
   "cell_type": "markdown",
   "id": "85ff6375",
   "metadata": {},
   "source": [
    "__Q4. Counting Sort__ <br>\n",
    "\n",
    "__Problem No.__: HAS008 <br>\n",
    "__Topic__: Sort <br>\n",
    "__Source__: https://www.hackerrank.com/challenges/countingsort4/problem?isFullScreen=true <br>\n",
    "__Difficulty__: Easy"
   ]
  },
  {
   "cell_type": "markdown",
   "id": "83b742f2",
   "metadata": {},
   "source": [
    "__Q5. Sort Colors__ <br>\n",
    "\n",
    "__Problem No.__: LAS004 <br>\n",
    "__Topic__: Sort <br>\n",
    "__Source__: https://leetcode.com/problems/sort-colors/ <br>\n",
    "__Difficulty__: Easy"
   ]
  },
  {
   "cell_type": "markdown",
   "id": "34639924",
   "metadata": {},
   "source": [
    "### Feb 8\n",
    "\n",
    "Comment: Stack은 짧고 굵게!"
   ]
  },
  {
   "cell_type": "markdown",
   "id": "97292079",
   "metadata": {},
   "source": [
    "__Q1. Relative Sort Array__ <br>\n",
    "\n",
    "__Problem No.__: LAS005 <br>\n",
    "__Topic__: Sort <br>\n",
    "__Source__: https://leetcode.com/problems/relative-sort-array/ <br>\n",
    "__Difficulty__: Easy"
   ]
  },
  {
   "cell_type": "markdown",
   "id": "c987c447",
   "metadata": {},
   "source": [
    "__Q2. Sort Matrix Diagonally__ <br>\n",
    "\n",
    "__Problem No.__: LAS006 <br>\n",
    "__Topic__: Sort <br>\n",
    "__Source__: https://leetcode.com/problems/sort-the-matrix-diagonally/ <br>\n",
    "__Difficulty__: Medium"
   ]
  },
  {
   "cell_type": "markdown",
   "id": "14ff4561",
   "metadata": {},
   "source": [
    "__Q3. Equal Stacks__ <br>\n",
    "\n",
    "__Problem No.__: HDS001 <br>\n",
    "__Topic__: Stack <br>\n",
    "__Source__: https://www.hackerrank.com/challenges/equal-stacks/problem?isFullScreen=true <br>\n",
    "__Difficulty__: Easy"
   ]
  },
  {
   "cell_type": "markdown",
   "id": "9d77db71",
   "metadata": {},
   "source": [
    "__Q4. Largest Rectangle__ <br>\n",
    "\n",
    "__Problem No.__: HDS002 <br>\n",
    "__Topic__: Stack <br>\n",
    "__Source__: https://www.hackerrank.com/challenges/largest-rectangle/problem?isFullScreen=true <br>\n",
    "__Difficulty__: Medium"
   ]
  },
  {
   "cell_type": "markdown",
   "id": "88744b35",
   "metadata": {},
   "source": [
    "__Q5. Maximum Frequency Stack__ <br>\n",
    "\n",
    "__Problem No.__: LDS001 <br>\n",
    "__Topic__: Stack <br>\n",
    "__Source__: https://leetcode.com/problems/maximum-frequency-stack/ <br>\n",
    "__Difficulty__: Medium"
   ]
  },
  {
   "cell_type": "markdown",
   "id": "fb50595e",
   "metadata": {},
   "source": [
    "### Feb 9"
   ]
  },
  {
   "cell_type": "markdown",
   "id": "0d0dec16",
   "metadata": {},
   "source": [
    "__Q1. Balanced Brackets__ <br>\n",
    "\n",
    "__Problem No.__: HDS003 <br>\n",
    "__Topic__: Stack <br>\n",
    "__Source__: https://www.hackerrank.com/challenges/balanced-brackets/problem?isFullScreen=true <br>\n",
    "__Difficulty__: Medium"
   ]
  },
  {
   "cell_type": "markdown",
   "id": "22fbfe8a",
   "metadata": {},
   "source": [
    "__Q2. Queue Using Two Stacks__ <br>\n",
    "\n",
    "__Problem No.__: HDQ001 <br>\n",
    "__Topic__: Queue <br>\n",
    "__Source__: https://www.hackerrank.com/challenges/queue-using-two-stacks/problem?isFullScreen=true<br>\n",
    "__Difficulty__: Medium"
   ]
  },
  {
   "cell_type": "markdown",
   "id": "8617c1ad",
   "metadata": {},
   "source": [
    "__Q3. Queue Operations__ <br>\n",
    "\n",
    "__Problem No.__: GDQ001 <br>\n",
    "__Topic__: Queue <br>\n",
    "__Source__: https://practice.geeksforgeeks.org/problems/queue-operations/1/?category[]=Queue&category[]=Queue&page=1&query=category[]Queuepage1category[]Queue <br>\n",
    "__Difficulty__: Easy"
   ]
  },
  {
   "cell_type": "markdown",
   "id": "7d64d5b8",
   "metadata": {},
   "source": [
    "__Q4. Reverse First k Elements of Queue__ <br>\n",
    "\n",
    "__Problem No.__: GDQ002 <br>\n",
    "__Topic__: Queue <br>\n",
    "__Source__: https://practice.geeksforgeeks.org/problems/reverse-first-k-elements-of-queue/1/?category[]=Queue&category[]=Queue&page=1&query=category[]Queuepage1category[]Queue <br>\n",
    "__Difficulty__: Easy"
   ]
  },
  {
   "cell_type": "markdown",
   "id": "e0d5b807",
   "metadata": {},
   "source": [
    "__Q5. Design Front Middle Back Queue__ <br>\n",
    "\n",
    "__Problem No.__: LDQ001 <br>\n",
    "__Topic__: Queue <br>\n",
    "__Source__: https://leetcode.com/problems/design-front-middle-back-queue/ <br>\n",
    "__Difficulty__: Hard"
   ]
  },
  {
   "cell_type": "markdown",
   "id": "9d2c9db8",
   "metadata": {},
   "source": [
    "### Feb 10\n",
    "Comment: Binary Tree"
   ]
  },
  {
   "cell_type": "markdown",
   "id": "afa79453",
   "metadata": {},
   "source": [
    "__Q1. Balanced Binary Tree__ <br>\n",
    "\n",
    "__Problem No.__: LDB001 <br>\n",
    "__Topic__: Binary Tree <br>\n",
    "__Source__: https://leetcode.com/problems/balanced-binary-tree/ <br>\n",
    "__Difficulty__: Easy"
   ]
  },
  {
   "cell_type": "markdown",
   "id": "eeb99b83",
   "metadata": {},
   "source": [
    "__Q2. Print Binary Tree__ <br>\n",
    "\n",
    "__Problem No.__: LDB002 <br>\n",
    "__Topic__: Binary Tree <br>\n",
    "__Source__: https://leetcode.com/problems/print-binary-tree/<br>\n",
    "__Difficulty__: Easy"
   ]
  },
  {
   "cell_type": "markdown",
   "id": "bc22b6d9",
   "metadata": {},
   "source": [
    "__Q3. Binary Tree Pruning__ <br>\n",
    "\n",
    "__Problem No.__: LDB003 <br>\n",
    "__Topic__: Binary Tree <br>\n",
    "__Source__: https://leetcode.com/problems/binary-tree-pruning/<br>\n",
    "__Difficulty__: Medium"
   ]
  },
  {
   "cell_type": "markdown",
   "id": "e45e93e5",
   "metadata": {},
   "source": [
    "__Q4. Preorder Traversal__ <br>\n",
    "\n",
    "__Problem No.__: HDB002 <br>\n",
    "__Topic__: Binary Tree <br>\n",
    "__Source__: https://www.hackerrank.com/challenges/tree-preorder-traversal/problem?isFullScreen=true<br>\n",
    "__Difficulty__: Easy"
   ]
  },
  {
   "cell_type": "markdown",
   "id": "d3bff1a6",
   "metadata": {},
   "source": [
    "__Q5. Tree Height__ <br>\n",
    "\n",
    "__Problem No.__: HDB003 <br>\n",
    "__Topic__: Binary Tree <br>\n",
    "__Source__: https://www.hackerrank.com/challenges/tree-height-of-a-binary-tree/problem?isFullScreen=true <br>\n",
    "__Difficulty__: Easy"
   ]
  },
  {
   "cell_type": "markdown",
   "id": "c4fc69cb",
   "metadata": {},
   "source": [
    "### Feb 11"
   ]
  },
  {
   "cell_type": "markdown",
   "id": "25048827",
   "metadata": {},
   "source": [
    "__Q1. Is this Binary Search Tree?__ <br>\n",
    "\n",
    "__Problem No.__: HDB004 <br>\n",
    "__Topic__: Binary Search Tree <br>\n",
    "__Source__: https://www.hackerrank.com/challenges/is-binary-search-tree/problem?isFullScreen=true <br>\n",
    "__Difficulty__: Medium"
   ]
  },
  {
   "cell_type": "markdown",
   "id": "47b80151",
   "metadata": {},
   "source": [
    "__Q2. Search in a Binary Search Tree__ <br>\n",
    "\n",
    "__Problem No.__: LDB005 <br>\n",
    "__Topic__: Binary Search Tree <br>\n",
    "__Source__: https://leetcode.com/problems/search-in-a-binary-search-tree/ <br>\n",
    "__Difficulty__: Easy"
   ]
  },
  {
   "cell_type": "markdown",
   "id": "33b0c265",
   "metadata": {},
   "source": [
    "__Q3. Convert Sorted Array to BST__ <br>\n",
    "\n",
    "__Problem No.__: LDB006 <br>\n",
    "__Topic__: Binary Search Tree <br>\n",
    "__Source__: https://leetcode.com/problems/convert-sorted-array-to-binary-search-tree/ <br>\n",
    "__Difficulty__: Medium"
   ]
  },
  {
   "cell_type": "markdown",
   "id": "5ad839ef",
   "metadata": {},
   "source": [
    "__Q4. Balanced Forest__ <br>\n",
    "\n",
    "__Problem No.__: HDB005 <br>\n",
    "__Topic__: Binary Search Tree <br>\n",
    "__Source__: https://www.hackerrank.com/challenges/balanced-forest/problem?isFullScreen=true <br>\n",
    "__Difficulty__: Hard"
   ]
  },
  {
   "cell_type": "markdown",
   "id": "e3fefd2a",
   "metadata": {},
   "source": [
    "__Q5. Unique BST__ <br>\n",
    "\n",
    "__Problem No.__: LDB007 <br>\n",
    "__Topic__: Binary Search Tree <br>\n",
    "__Source__: https://leetcode.com/problems/unique-binary-search-trees/ <br>\n",
    "__Difficulty__: Medium"
   ]
  }
 ],
 "metadata": {
  "kernelspec": {
   "display_name": "Python 3 (ipykernel)",
   "language": "python",
   "name": "python3"
  },
  "language_info": {
   "codemirror_mode": {
    "name": "ipython",
    "version": 3
   },
   "file_extension": ".py",
   "mimetype": "text/x-python",
   "name": "python",
   "nbconvert_exporter": "python",
   "pygments_lexer": "ipython3",
   "version": "3.9.7"
  }
 },
 "nbformat": 4,
 "nbformat_minor": 5
}
