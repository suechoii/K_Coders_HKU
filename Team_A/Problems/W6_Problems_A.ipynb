{
 "cells": [
  {
   "cell_type": "markdown",
   "id": "4294966c",
   "metadata": {},
   "source": [
    "# Week 6, 7 Problems (Team A)\n",
    "\n",
    "- Algorithms: BFS, DFS, Greedy\n",
    "\n",
    "__Source에 제공된 링크로 들어가 문제를 봅니다. 참고로 해당 플랫폼의 계정을 만들어야 합니다.__ <br>\n",
    "__문제풀이 테스트 하는 법: 해당 링크로 들어간다 --> 언어를 파이썬으로 설정한다 --> 자신의 풀이 코드를 넣고 돌려본다.__"
   ]
  },
  {
   "cell_type": "markdown",
   "id": "6ed61575",
   "metadata": {},
   "source": [
    "### Feb 23\n",
    "__Comment: BFS와 DFS는 Algorithm/Graph_Algorithm 폴더에 저장해 주세요!__"
   ]
  },
  {
   "cell_type": "markdown",
   "id": "3ee2830a",
   "metadata": {},
   "source": [
    "__Q1.Same Tree__ <br>\n",
    "\n",
    "__Problem No.__: LAB001 <br>\n",
    "__Topic__: BFS <br>\n",
    "__Source__: https://leetcode.com/problems/same-tree/ <br>\n",
    "__Difficulty__: Easy"
   ]
  },
  {
   "cell_type": "markdown",
   "id": "88db9dec",
   "metadata": {},
   "source": [
    "__Q2. Binary Tree Level Order Traversal__ <br>\n",
    "\n",
    "__Problem No.__: LAB002 <br>\n",
    "__Topic__: BFS <br>\n",
    "__Source__: https://leetcode.com/problems/binary-tree-level-order-traversal/<br>\n",
    "__Difficulty__: Easy"
   ]
  },
  {
   "cell_type": "markdown",
   "id": "b229eac1",
   "metadata": {},
   "source": [
    "__Q3. Path Sum__ <br>\n",
    "\n",
    "__Problem No.__: LAB003<br>\n",
    "__Topic__: BFS <br>\n",
    "__Source__: https://leetcode.com/problems/path-sum/ <br>\n",
    "__Difficulty__: Easy"
   ]
  },
  {
   "cell_type": "markdown",
   "id": "83c84eaa",
   "metadata": {},
   "source": [
    "__Q4. Populating Next Right Pointers in Each Node__ <br>\n",
    "\n",
    "__Problem No.__: LAB004 <br>\n",
    "__Topic__: BFS <br>\n",
    "__Source__: https://leetcode.com/problems/populating-next-right-pointers-in-each-node/ <br>\n",
    "__Difficulty__: Medium"
   ]
  },
  {
   "cell_type": "markdown",
   "id": "e15966cc",
   "metadata": {},
   "source": [
    "__Q5. Word Ladder 2__ <br>\n",
    "\n",
    "__Problem No.__: LAB005 <br>\n",
    "__Topic__: BFS <br>\n",
    "__Source__: https://leetcode.com/problems/word-ladder-ii/ <br>\n",
    "__Difficulty__: Hard"
   ]
  },
  {
   "cell_type": "markdown",
   "id": "c807bf0d",
   "metadata": {},
   "source": [
    "### Feb 24\n",
    "Comment: DFS"
   ]
  },
  {
   "cell_type": "markdown",
   "id": "dfa1e50b",
   "metadata": {},
   "source": [
    "__Q1. Lexicographical Numbers__ <br>\n",
    "\n",
    "__Problem No.__: LAB006 <br>\n",
    "__Topic__: DFS <br>\n",
    "__Source__: https://leetcode.com/problems/lexicographical-numbers/ <br>\n",
    "__Difficulty__: Medium"
   ]
  },
  {
   "cell_type": "markdown",
   "id": "f3aa4215",
   "metadata": {},
   "source": [
    "__Q2. Evaluate Division__ <br>\n",
    "\n",
    "__Problem No.__: LAB007<br>\n",
    "__Topic__: DFS <br>\n",
    "__Source__: https://leetcode.com/problems/evaluate-division/ <br>\n",
    "__Difficulty__: Medium"
   ]
  },
  {
   "cell_type": "markdown",
   "id": "165b17a8",
   "metadata": {},
   "source": [
    "__Q3. Sum of Left Leaves__ <br>\n",
    "\n",
    "__Problem No.__: LAB008 <br>\n",
    "__Topic__: DFS <br>\n",
    "__Source__: https://leetcode.com/problems/sum-of-left-leaves/ <br>\n",
    "__Difficulty__: Easy"
   ]
  },
  {
   "cell_type": "markdown",
   "id": "68a6d810",
   "metadata": {},
   "source": [
    "__Q4. Path Sum 3__ <br>\n",
    "\n",
    "__Problem No.__: LAB009 <br>\n",
    "__Topic__: DFS <br>\n",
    "__Source__: https://leetcode.com/problems/path-sum-iii/ <br>\n",
    "__Difficulty__: Medium"
   ]
  },
  {
   "cell_type": "markdown",
   "id": "fe6d4e16",
   "metadata": {},
   "source": [
    "__Q5. Most Frequent Subtree Sum__ <br>\n",
    "\n",
    "__Problem No.__: LAB010 <br>\n",
    "__Topic__: DFS <br>\n",
    "__Source__: https://leetcode.com/problems/most-frequent-subtree-sum/ <br>\n",
    "__Difficulty__: Medium"
   ]
  },
  {
   "cell_type": "markdown",
   "id": "b42d9c88",
   "metadata": {},
   "source": [
    "### Feb 25\n",
    "Comment: Greedy - Hackerrank Essentials"
   ]
  },
  {
   "cell_type": "markdown",
   "id": "44a81631",
   "metadata": {},
   "source": [
    "__Q1.Minimum Absolute Difference in an Array__ <br>\n",
    "\n",
    "__Problem No.__: HAG001 <br>\n",
    "__Topic__: Greedy <br>\n",
    "__Source__: https://www.hackerrank.com/challenges/minimum-absolute-difference-in-an-array/problem?isFullScreen=true <br>\n",
    "__Difficulty__: Easy"
   ]
  },
  {
   "cell_type": "markdown",
   "id": "64fc74d9",
   "metadata": {},
   "source": [
    "__Q2. Luck Balance__ <br>\n",
    "\n",
    "__Problem No.__: HAG002 <br>\n",
    "__Topic__: Greedy <br>\n",
    "__Source__: https://www.hackerrank.com/challenges/luck-balance/problem?isFullScreen=true <br>\n",
    "__Difficulty__: Easy"
   ]
  },
  {
   "cell_type": "markdown",
   "id": "f0d2859a",
   "metadata": {},
   "source": [
    "__Q3. Maximum Perimeter Triangle__ <br>\n",
    "\n",
    "__Problem No.__: HAG003 <br>\n",
    "__Topic__: Greedy <br>\n",
    "__Source__: https://www.hackerrank.com/challenges/maximum-perimeter-triangle/problem?isFullScreen=true<br>\n",
    "__Difficulty__: Easy"
   ]
  },
  {
   "cell_type": "markdown",
   "id": "56cd8474",
   "metadata": {},
   "source": [
    "__Q4. Candies__ <br>\n",
    "\n",
    "__Problem No.__: HAG004 <br>\n",
    "__Topic__: Greedy <br>\n",
    "__Source__: https://www.hackerrank.com/challenges/candies/problem?isFullScreen=true<br>\n",
    "__Difficulty__: Medium"
   ]
  },
  {
   "cell_type": "markdown",
   "id": "b44daa19",
   "metadata": {},
   "source": [
    "__Q5. Largest Permutation__ <br>\n",
    "\n",
    "__Problem No.__: HAG005 <br>\n",
    "__Topic__: Greedy <br>\n",
    "__Source__: https://www.hackerrank.com/challenges/largest-permutation/problem?isFullScreen=true<br>\n",
    "__Difficulty__: Easy"
   ]
  },
  {
   "cell_type": "markdown",
   "id": "5d95a858",
   "metadata": {},
   "source": [
    "### Feb 28"
   ]
  },
  {
   "cell_type": "markdown",
   "id": "443a5439",
   "metadata": {},
   "source": [
    "__Q1.__ <br>\n",
    "\n",
    "__Problem No.__: <br>\n",
    "__Topic__: <br>\n",
    "__Source__: <br>\n",
    "__Difficulty__:"
   ]
  },
  {
   "cell_type": "markdown",
   "id": "6ca1633e",
   "metadata": {},
   "source": [
    "__Q2.__ <br>\n",
    "\n",
    "__Problem No.__: <br>\n",
    "__Topic__: <br>\n",
    "__Source__: <br>\n",
    "__Difficulty__:"
   ]
  },
  {
   "cell_type": "markdown",
   "id": "4ecdb9cb",
   "metadata": {},
   "source": [
    "__Q3.__ <br>\n",
    "\n",
    "__Problem No.__: <br>\n",
    "__Topic__: <br>\n",
    "__Source__: <br>\n",
    "__Difficulty__:"
   ]
  },
  {
   "cell_type": "markdown",
   "id": "bb9633ae",
   "metadata": {},
   "source": [
    "__Q4.__ <br>\n",
    "\n",
    "__Problem No.__: <br>\n",
    "__Topic__: <br>\n",
    "__Source__: <br>\n",
    "__Difficulty__:"
   ]
  },
  {
   "cell_type": "markdown",
   "id": "b3cfd4ed",
   "metadata": {},
   "source": [
    "__Q5.__ <br>\n",
    "\n",
    "__Problem No.__: <br>\n",
    "__Topic__: <br>\n",
    "__Source__: <br>\n",
    "__Difficulty__:"
   ]
  },
  {
   "cell_type": "markdown",
   "id": "b3c9a5fd",
   "metadata": {},
   "source": [
    "### Mar 1\n",
    "Comment: "
   ]
  },
  {
   "cell_type": "markdown",
   "id": "64c3db02",
   "metadata": {},
   "source": [
    "__Q1.__ <br>\n",
    "\n",
    "__Problem No.__: <br>\n",
    "__Topic__: <br>\n",
    "__Source__: <br>\n",
    "__Difficulty__:"
   ]
  },
  {
   "cell_type": "markdown",
   "id": "4370f243",
   "metadata": {},
   "source": [
    "__Q2.__ <br>\n",
    "\n",
    "__Problem No.__: <br>\n",
    "__Topic__: <br>\n",
    "__Source__: <br>\n",
    "__Difficulty__:"
   ]
  },
  {
   "cell_type": "markdown",
   "id": "3b21a929",
   "metadata": {},
   "source": [
    "__Q3.__ <br>\n",
    "\n",
    "__Problem No.__: <br>\n",
    "__Topic__: <br>\n",
    "__Source__: <br>\n",
    "__Difficulty__:"
   ]
  },
  {
   "cell_type": "markdown",
   "id": "2857f3a5",
   "metadata": {},
   "source": [
    "__Q4.__ <br>\n",
    "\n",
    "__Problem No.__: <br>\n",
    "__Topic__: <br>\n",
    "__Source__: <br>\n",
    "__Difficulty__:"
   ]
  },
  {
   "cell_type": "markdown",
   "id": "352fcd27",
   "metadata": {},
   "source": [
    "__Q5.__ <br>\n",
    "\n",
    "__Problem No.__: <br>\n",
    "__Topic__: <br>\n",
    "__Source__: <br>\n",
    "__Difficulty__:"
   ]
  },
  {
   "cell_type": "markdown",
   "id": "2cc7a00d",
   "metadata": {},
   "source": [
    "### Mar 2"
   ]
  },
  {
   "cell_type": "markdown",
   "id": "c50acfa6",
   "metadata": {},
   "source": [
    "__Q1.__ <br>\n",
    "\n",
    "__Problem No.__: <br>\n",
    "__Topic__: <br>\n",
    "__Source__: <br>\n",
    "__Difficulty__:"
   ]
  },
  {
   "cell_type": "markdown",
   "id": "f517c5f2",
   "metadata": {},
   "source": [
    "__Q2.__ <br>\n",
    "\n",
    "__Problem No.__: <br>\n",
    "__Topic__: <br>\n",
    "__Source__: <br>\n",
    "__Difficulty__:"
   ]
  },
  {
   "cell_type": "markdown",
   "id": "60387382",
   "metadata": {},
   "source": [
    "__Q3.__ <br>\n",
    "\n",
    "__Problem No.__: <br>\n",
    "__Topic__: <br>\n",
    "__Source__: <br>\n",
    "__Difficulty__:"
   ]
  },
  {
   "cell_type": "markdown",
   "id": "c5c73d1f",
   "metadata": {},
   "source": [
    "__Q4.__ <br>\n",
    "\n",
    "__Problem No.__: <br>\n",
    "__Topic__: <br>\n",
    "__Source__: <br>\n",
    "__Difficulty__:"
   ]
  },
  {
   "cell_type": "markdown",
   "id": "647661e7",
   "metadata": {},
   "source": [
    "__Q5.__ <br>\n",
    "\n",
    "__Problem No.__: <br>\n",
    "__Topic__: <br>\n",
    "__Source__: <br>\n",
    "__Difficulty__:"
   ]
  }
 ],
 "metadata": {
  "kernelspec": {
   "display_name": "Python 3 (ipykernel)",
   "language": "python",
   "name": "python3"
  },
  "language_info": {
   "codemirror_mode": {
    "name": "ipython",
    "version": 3
   },
   "file_extension": ".py",
   "mimetype": "text/x-python",
   "name": "python",
   "nbconvert_exporter": "python",
   "pygments_lexer": "ipython3",
   "version": "3.9.5"
  }
 },
 "nbformat": 4,
 "nbformat_minor": 5
}
