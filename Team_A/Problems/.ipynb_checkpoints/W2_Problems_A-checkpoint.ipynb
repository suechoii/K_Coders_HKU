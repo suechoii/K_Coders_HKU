{
 "cells": [
  {
   "cell_type": "markdown",
   "id": "8a85852b",
   "metadata": {},
   "source": [
    "## Week 2 Problems (Team A)\n",
    "\n",
    "- Algorithm: Search, Math\n",
    "- Data Structure: Array, Linked List\n",
    "  \n",
    "__Source에 제공된 링크로 들어가 문제를 봅니다. 참고로 해당 플랫폼의 계정을 만들어야 합니다.__ <br>\n",
    "__문제풀이 테스트 하는 법: 해당 링크로 들어간다 --> 언어를 파이썬으로 설정한다 --> 자신의 풀이 코드를 넣고 돌려본다.__"
   ]
  },
  {
   "cell_type": "markdown",
   "id": "91b56cb6",
   "metadata": {},
   "source": [
    "### 24 Jan 2022\n",
    "\n",
    "Comment: Q5 푸시는 분이 과연 계실까요..?"
   ]
  },
  {
   "cell_type": "markdown",
   "id": "726c8b8d",
   "metadata": {},
   "source": [
    "__Q1. Sum of digits__ <br>\n",
    "\n",
    "__Problem No.__: GDA001 <br>\n",
    "__Topic__: Array <br>\n",
    "__Source__: https://practice.geeksforgeeks.org/problems/sum-of-digits1742/1/?page=2&query=page2 <br>\n",
    "__Difficulty: Basic__"
   ]
  },
  {
   "cell_type": "code",
   "execution_count": null,
   "id": "cc7c2d92",
   "metadata": {},
   "outputs": [],
   "source": [
    "def sumOfDigits(N):\n",
    "    #Your Solution Here\n",
    "    "
   ]
  },
  {
   "cell_type": "markdown",
   "id": "47c4ead1",
   "metadata": {},
   "source": [
    "__Q2. Remove Duplicates from Sorted Array__ <br>\n",
    "\n",
    "__Problem No.__: LDA001 <br>\n",
    "__Topic__: Array <br>\n",
    "__Source__: https://leetcode.com/problems/remove-duplicates-from-sorted-array/ <br>\n",
    "__Difficulty__: Easy"
   ]
  },
  {
   "cell_type": "code",
   "execution_count": null,
   "id": "73af34da",
   "metadata": {},
   "outputs": [],
   "source": [
    "class Solution:\n",
    "    def removeDuplicates(self, nums: List[int]) -> int:\n",
    "        #Your Solution Here"
   ]
  },
  {
   "cell_type": "markdown",
   "id": "8c9b6024",
   "metadata": {},
   "source": [
    "__Q3. HackerRank 2D Array__ <br>\n",
    "\n",
    "__Problem No.__: HDA001 <br>\n",
    "__Topic__: Array <br>\n",
    "__Source__: https://www.hackerrank.com/challenges/2d-array/problem?isFullScreen=true <br>\n",
    "__Difficulty__: Medium"
   ]
  },
  {
   "cell_type": "code",
   "execution_count": null,
   "id": "3ed6cc63",
   "metadata": {},
   "outputs": [],
   "source": [
    "#!/bin/python3\n",
    "\n",
    "import math\n",
    "import os\n",
    "import random\n",
    "import re\n",
    "import sys\n",
    "\n",
    "#\n",
    "# Complete the 'hourglassSum' function below.\n",
    "#\n",
    "# The function is expected to return an INTEGER.\n",
    "# The function accepts 2D_INTEGER_ARRAY arr as parameter.\n",
    "#\n",
    "\n",
    "def hourglassSum(arr):\n",
    "    # Write your code here\n",
    "\n",
    "if __name__ == '__main__':\n",
    "    fptr = open(os.environ['OUTPUT_PATH'], 'w')\n",
    "\n",
    "    arr = []\n",
    "\n",
    "    for _ in range(6):\n",
    "        arr.append(list(map(int, input().rstrip().split())))\n",
    "\n",
    "    result = hourglassSum(arr)\n",
    "\n",
    "    fptr.write(str(result) + '\\n')\n",
    "\n",
    "    fptr.close()"
   ]
  },
  {
   "cell_type": "markdown",
   "id": "53d74c76",
   "metadata": {},
   "source": [
    "__Q4. Median of Two Sorted Array__ <br>\n",
    "\n",
    "__Problem No.__: LDA002 <br>\n",
    "__Topic__: Array <br>\n",
    "__Source__: https://leetcode.com/problems/median-of-two-sorted-arrays/ <br>\n",
    "__Difficulty__: Medium"
   ]
  },
  {
   "cell_type": "code",
   "execution_count": null,
   "id": "50184610",
   "metadata": {},
   "outputs": [],
   "source": [
    "class Solution:\n",
    "    def findMedianSortedArrays(self, nums1: List[int], nums2: List[int]) -> float:\n",
    "        # Your Solution here"
   ]
  },
  {
   "cell_type": "markdown",
   "id": "4fcd58c4",
   "metadata": {},
   "source": [
    "__Q5. Sudoku Solver__ <br>\n",
    "\n",
    "__Problem No.__: LDA006 <br>\n",
    "__Topic__: Array, Backtracking, Matrix <br>\n",
    "__Source__: https://leetcode.com/problems/sudoku-solver/ <br>\n",
    "__Difficulty__: Hard"
   ]
  },
  {
   "cell_type": "code",
   "execution_count": null,
   "id": "d5835842",
   "metadata": {},
   "outputs": [],
   "source": [
    "class Solution:\n",
    "    def solveSudoku(self, board: List[List[str]]) -> None:\n",
    "        \"\"\"\n",
    "        Do not return anything, modify board in-place instead.\n",
    "        \"\"\"\n",
    "        # Your Solution here"
   ]
  },
  {
   "cell_type": "markdown",
   "id": "2172fa7e",
   "metadata": {},
   "source": [
    "### 25 Jan 2022\n",
    "\n",
    "Comment: Array 정복 문제들"
   ]
  },
  {
   "cell_type": "markdown",
   "id": "8f5494f0",
   "metadata": {},
   "source": [
    "__Q1. Ishaan Loves Chocolates__ <br>\n",
    "\n",
    "__Problem No.__: GDA002 <br>\n",
    "__Topic__: Array <br>\n",
    "__Source__: https://practice.geeksforgeeks.org/problems/ishaan-loves-chocolates2156/1/?category[]=Arrays&category[]=Arrays&page=1&query=category[]Arrayspage1category[]Arrays <br>\n",
    "__Difficulty__: Easy"
   ]
  },
  {
   "cell_type": "code",
   "execution_count": null,
   "id": "67d91236",
   "metadata": {},
   "outputs": [],
   "source": [
    "def chocolates (arr, n) : \n",
    "    #Complete the function\n",
    "    "
   ]
  },
  {
   "cell_type": "markdown",
   "id": "15a60235",
   "metadata": {},
   "source": [
    "__Q2. HackerRank Sparse Arrays__ <br>\n",
    "\n",
    "__Problem No.__: HDA002 <br>\n",
    "__Topic__: Array <br>\n",
    "__Source__: https://www.hackerrank.com/challenges/sparse-arrays/problem?isFullScreen=true <br>\n",
    "__Difficulty__: Hard"
   ]
  },
  {
   "cell_type": "code",
   "execution_count": null,
   "id": "0d4ea573",
   "metadata": {},
   "outputs": [],
   "source": [
    "#!/bin/python3\n",
    "\n",
    "import math\n",
    "import os\n",
    "import random\n",
    "import re\n",
    "import sys\n",
    "\n",
    "#\n",
    "# Complete the 'matchingStrings' function below.\n",
    "#\n",
    "# The function is expected to return an INTEGER_ARRAY.\n",
    "# The function accepts following parameters:\n",
    "#  1. STRING_ARRAY strings\n",
    "#  2. STRING_ARRAY queries\n",
    "#\n",
    "\n",
    "def matchingStrings(strings, queries):\n",
    "    # Write your code here\n",
    "\n",
    "if __name__ == '__main__':\n",
    "    fptr = open(os.environ['OUTPUT_PATH'], 'w')\n",
    "\n",
    "    strings_count = int(input().strip())\n",
    "\n",
    "    strings = []\n",
    "\n",
    "    for _ in range(strings_count):\n",
    "        strings_item = input()\n",
    "        strings.append(strings_item)\n",
    "\n",
    "    queries_count = int(input().strip())\n",
    "\n",
    "    queries = []\n",
    "\n",
    "    for _ in range(queries_count):\n",
    "        queries_item = input()\n",
    "        queries.append(queries_item)\n",
    "\n",
    "    res = matchingStrings(strings, queries)\n",
    "\n",
    "    fptr.write('\\n'.join(map(str, res)))\n",
    "    fptr.write('\\n')\n",
    "\n",
    "    fptr.close()"
   ]
  },
  {
   "cell_type": "markdown",
   "id": "ff7a6103",
   "metadata": {},
   "source": [
    "__Q3. HackerRank Array Manipulation__ <br>\n",
    "\n",
    "__Problem No.__: HDA003 <br>\n",
    "__Topic__: Array <br>\n",
    "__Source__: https://www.hackerrank.com/challenges/crush/problem?isFullScreen=true <br>\n",
    "__Difficulty__: Hard"
   ]
  },
  {
   "cell_type": "code",
   "execution_count": null,
   "id": "a38ad8d4",
   "metadata": {},
   "outputs": [],
   "source": [
    "#!/bin/python3\n",
    "\n",
    "import math\n",
    "import os\n",
    "import random\n",
    "import re\n",
    "import sys\n",
    "\n",
    "#\n",
    "# Complete the 'arrayManipulation' function below.\n",
    "#\n",
    "# The function is expected to return a LONG_INTEGER.\n",
    "# The function accepts following parameters:\n",
    "#  1. INTEGER n\n",
    "#  2. 2D_INTEGER_ARRAY queries\n",
    "#\n",
    "\n",
    "def arrayManipulation(n, queries):\n",
    "    # Write your code here\n",
    "\n",
    "if __name__ == '__main__':\n",
    "    fptr = open(os.environ['OUTPUT_PATH'], 'w')\n",
    "\n",
    "    first_multiple_input = input().rstrip().split()\n",
    "\n",
    "    n = int(first_multiple_input[0])\n",
    "\n",
    "    m = int(first_multiple_input[1])\n",
    "\n",
    "    queries = []\n",
    "\n",
    "    for _ in range(m):\n",
    "        queries.append(list(map(int, input().rstrip().split())))\n",
    "\n",
    "    result = arrayManipulation(n, queries)\n",
    "\n",
    "    fptr.write(str(result) + '\\n')\n",
    "\n",
    "    fptr.close()"
   ]
  },
  {
   "cell_type": "markdown",
   "id": "038d896e",
   "metadata": {},
   "source": [
    "__Q4. Trapping Rain Water__ <br>\n",
    "\n",
    "__Problem No.__: LDA003 <br>\n",
    "__Topic__: Array, DP, Stack, Two Pointer <br>\n",
    "__Source__: https://leetcode.com/problems/trapping-rain-water/ <br>\n",
    "__Difficulty__: Hard"
   ]
  },
  {
   "cell_type": "code",
   "execution_count": null,
   "id": "3c0f0b0a",
   "metadata": {},
   "outputs": [],
   "source": [
    "class Solution:\n",
    "    def trap(self, height: List[int]) -> int:\n",
    "        #Your Solution Here"
   ]
  },
  {
   "cell_type": "markdown",
   "id": "41fb5aee",
   "metadata": {},
   "source": [
    "__Q5. N-Queens__ <br>\n",
    "\n",
    "__Problem No.__: LDA004 <br>\n",
    "__Topic__: Array, Backtracking  <br>\n",
    "__Source__: https://leetcode.com/problems/n-queens/ <br>\n",
    "__Difficulty__: Medium"
   ]
  },
  {
   "cell_type": "code",
   "execution_count": 1,
   "id": "9207bef1",
   "metadata": {},
   "outputs": [
    {
     "ename": "IndentationError",
     "evalue": "expected an indented block (3228998043.py, line 3)",
     "output_type": "error",
     "traceback": [
      "\u001b[0;36m  File \u001b[0;32m\"/var/folders/fm/q5qxvfmn78x_1sr2vjqhbbg00000gn/T/ipykernel_97809/3228998043.py\"\u001b[0;36m, line \u001b[0;32m3\u001b[0m\n\u001b[0;31m    #Your Solution Here\u001b[0m\n\u001b[0m                       ^\u001b[0m\n\u001b[0;31mIndentationError\u001b[0m\u001b[0;31m:\u001b[0m expected an indented block\n"
     ]
    }
   ],
   "source": [
    "class Solution:\n",
    "    def solveNQueens(self, n: int) -> List[List[str]]:\n",
    "        #Your Solution Here"
   ]
  },
  {
   "cell_type": "markdown",
   "id": "bc97903c",
   "metadata": {},
   "source": [
    "### 26 Jan 2022\n",
    "\n",
    "Comment: LL 정석 문제들입니다~, 3번 같은 경우 sorting을 알아야 할 수도 있겠네요"
   ]
  },
  {
   "cell_type": "markdown",
   "id": "b4b99126",
   "metadata": {},
   "source": [
    "__Q1. Delete Alternate Nodes__ <br>\n",
    "\n",
    "__Problem No.__: GDL001 <br>\n",
    "__Topic__: Linked List  <br>\n",
    "__Source__: https://practice.geeksforgeeks.org/problems/delete-alternate-nodes/1/?page=1&category[]=Linked%20List&query=page1category[]Linked%20List <br>\n",
    "__Difficulty__: Easy"
   ]
  },
  {
   "cell_type": "code",
   "execution_count": null,
   "id": "89988e2d",
   "metadata": {},
   "outputs": [],
   "source": [
    "'''class Node: \n",
    "   \n",
    "    # Function to initialize the node object \n",
    "    def __init__(self, data): \n",
    "        self.data = data  \n",
    "        self.next = None'''\n",
    "\n",
    "class Solution: \n",
    "    \n",
    "    \n",
    "    def deleteAlt(self, head):\n",
    "        \n",
    "        #add code here"
   ]
  },
  {
   "cell_type": "markdown",
   "id": "5a37ba9a",
   "metadata": {},
   "source": [
    "__Q2. Reverse a linked list__ <br>\n",
    "\n",
    "__Problem No.__: HDL001 <br>\n",
    "__Topic__: Linked List  <br>\n",
    "__Source__: https://www.hackerrank.com/challenges/reverse-a-linked-list/problem?isFullScreen=true <br>\n",
    "__Difficulty__: Easy"
   ]
  },
  {
   "cell_type": "code",
   "execution_count": null,
   "id": "d3ba7cd1",
   "metadata": {},
   "outputs": [],
   "source": [
    "#!/bin/python3\n",
    "\n",
    "import math\n",
    "import os\n",
    "import random\n",
    "import re\n",
    "import sys\n",
    "\n",
    "class SinglyLinkedListNode:\n",
    "    def __init__(self, node_data):\n",
    "        self.data = node_data\n",
    "        self.next = None\n",
    "\n",
    "class SinglyLinkedList:\n",
    "    def __init__(self):\n",
    "        self.head = None\n",
    "        self.tail = None\n",
    "\n",
    "    def insert_node(self, node_data):\n",
    "        node = SinglyLinkedListNode(node_data)\n",
    "\n",
    "        if not self.head:\n",
    "            self.head = node\n",
    "        else:\n",
    "            self.tail.next = node\n",
    "\n",
    "\n",
    "        self.tail = node\n",
    "\n",
    "def print_singly_linked_list(node, sep, fptr):\n",
    "    while node:\n",
    "        fptr.write(str(node.data))\n",
    "\n",
    "        node = node.next\n",
    "\n",
    "        if node:\n",
    "            fptr.write(sep)\n",
    "\n",
    "#\n",
    "# Complete the 'reverse' function below.\n",
    "#\n",
    "# The function is expected to return an INTEGER_SINGLY_LINKED_LIST.\n",
    "# The function accepts INTEGER_SINGLY_LINKED_LIST llist as parameter.\n",
    "#\n",
    "\n",
    "#\n",
    "# For your reference:\n",
    "#\n",
    "# SinglyLinkedListNode:\n",
    "#     int data\n",
    "#     SinglyLinkedListNode next\n",
    "#\n",
    "#\n",
    "\n",
    "def reverse(llist):\n",
    "    # Write your code here\n",
    "\n",
    "if __name__ == '__main__':\n",
    "    fptr = open(os.environ['OUTPUT_PATH'], 'w')\n",
    "\n",
    "    tests = int(input())\n",
    "\n",
    "    for tests_itr in range(tests):\n",
    "        llist_count = int(input())\n",
    "\n",
    "        llist = SinglyLinkedList()\n",
    "\n",
    "        for _ in range(llist_count):\n",
    "            llist_item = int(input())\n",
    "            llist.insert_node(llist_item)\n",
    "\n",
    "        llist1 = reverse(llist.head)\n",
    "\n",
    "        print_singly_linked_list(llist1, ' ', fptr)\n",
    "        fptr.write('\\n')\n",
    "\n",
    "    fptr.close()"
   ]
  },
  {
   "cell_type": "markdown",
   "id": "4fc7e805",
   "metadata": {},
   "source": [
    "__Q3. Merge k Sorted Lists__ <br>\n",
    "\n",
    "__Problem No.__: LDL001 <br>\n",
    "__Topic__: Linked List  <br>\n",
    "__Source__: https://leetcode.com/problems/merge-k-sorted-lists/ <br>\n",
    "__Difficulty__: Medium"
   ]
  },
  {
   "cell_type": "code",
   "execution_count": null,
   "id": "0c905c03",
   "metadata": {},
   "outputs": [],
   "source": [
    "# Definition for singly-linked list.\n",
    "# class ListNode:\n",
    "#     def __init__(self, val=0, next=None):\n",
    "#         self.val = val\n",
    "#         self.next = next\n",
    "class Solution:\n",
    "    def mergeKLists(self, lists: List[Optional[ListNode]]) -> Optional[ListNode]:\n",
    "        #Your Solution Here"
   ]
  },
  {
   "cell_type": "markdown",
   "id": "4e4e1a34",
   "metadata": {},
   "source": [
    "__Q4. Cycle Detection__ <br>\n",
    "\n",
    "__Problem No.__: HDL002 <br>\n",
    "__Topic__: Linked List  <br>\n",
    "__Source__: https://www.hackerrank.com/challenges/detect-whether-a-linked-list-contains-a-cycle/problem?isFullScreen=true <br>\n",
    "__Difficulty__: Medium"
   ]
  },
  {
   "cell_type": "code",
   "execution_count": null,
   "id": "35e2f4a1",
   "metadata": {},
   "outputs": [],
   "source": [
    "#!/bin/python3\n",
    "\n",
    "import math\n",
    "import os\n",
    "import random\n",
    "import re\n",
    "import sys\n",
    "\n",
    "# Complete the has_cycle function below.\n",
    "\n",
    "#\n",
    "# For your reference:\n",
    "#\n",
    "# SinglyLinkedListNode:\n",
    "#     int data\n",
    "#     SinglyLinkedListNode next\n",
    "\n",
    "def has_cycle(head):\n",
    "\n",
    "if __name__ == '__main__':\n",
    "    fptr = open(os.environ['OUTPUT_PATH'], 'w')\n",
    "\n",
    "    tests = int(input())\n",
    "\n",
    "    for tests_itr in range(tests):\n",
    "        index = int(input())\n",
    "\n",
    "        llist_count = int(input())\n",
    "\n",
    "        llist = SinglyLinkedList()\n",
    "\n",
    "        for _ in range(llist_count):\n",
    "            llist_item = int(input())\n",
    "            llist.insert_node(llist_item)\n",
    "\n",
    "        extra = SinglyLinkedListNode(-1);\n",
    "        temp = llist.head;\n",
    "\n",
    "        for i in range(llist_count):\n",
    "            if i == index:\n",
    "                extra = temp\n",
    "\n",
    "            if i != llist_count-1:\n",
    "                temp = temp.next\n",
    "\n",
    "        temp.next = extra\n",
    "\n",
    "        result = has_cycle(llist.head)\n",
    "\n",
    "        fptr.write(str(int(result)) + '\\n')\n",
    "\n",
    "    fptr.close()"
   ]
  },
  {
   "cell_type": "markdown",
   "id": "8cf7dd40",
   "metadata": {},
   "source": [
    "__Q5. Partition List__ <br>\n",
    "\n",
    "__Problem No.__: LDL002 <br>\n",
    "__Topic__: Linked List  <br>\n",
    "__Source__: https://leetcode.com/problems/partition-list/ <br>\n",
    "__Difficulty__: Medium"
   ]
  },
  {
   "cell_type": "code",
   "execution_count": null,
   "id": "3ae2f5ea",
   "metadata": {},
   "outputs": [],
   "source": [
    "# Definition for singly-linked list.\n",
    "# class ListNode:\n",
    "#     def __init__(self, val=0, next=None):\n",
    "#         self.val = val\n",
    "#         self.next = next\n",
    "class Solution:\n",
    "    def partition(self, head: Optional[ListNode], x: int) -> Optional[ListNode]:\n",
    "        #Your Solution Here"
   ]
  },
  {
   "cell_type": "markdown",
   "id": "15de248f",
   "metadata": {},
   "source": [
    "### 27 Jan 2022\n",
    "  \n",
    "Comment: Search 시작!"
   ]
  },
  {
   "cell_type": "markdown",
   "id": "4e1813ed",
   "metadata": {},
   "source": [
    "__Q1. Count Pairs whose sum is equal to X__ <br>\n",
    "\n",
    "__Problem No.__: GDL002 <br>\n",
    "__Topic__: Linked List  <br>\n",
    "__Source__: https://practice.geeksforgeeks.org/problems/count-pairs-whose-sum-is-equal-to-x/1/?page=1&category[]=Linked%20List&query=page1category[]Linked%20List <br>\n",
    "__Difficulty__: Easy"
   ]
  },
  {
   "cell_type": "code",
   "execution_count": null,
   "id": "191094fe",
   "metadata": {},
   "outputs": [],
   "source": [
    "'''\n",
    "class Node:\n",
    "    def __init__(self, data):   # data -> value stored in node\n",
    "        self.data = data\n",
    "        self.next = None\n",
    "'''\n",
    "class Solution:\n",
    "    def countPair(self,h1,h2,n1,n2,x):\n",
    "        '''\n",
    "        h1:  head of linkedList 1\n",
    "        h2:  head of linkedList 2\n",
    "        n1:  len of  linkedList 1\n",
    "        n2:   len of linkedList 1\n",
    "        X:   given sum\n",
    "        '''\n",
    "        #Your Solution here"
   ]
  },
  {
   "cell_type": "markdown",
   "id": "fef0e571",
   "metadata": {},
   "source": [
    "__Q2. Remove duplicates from sorted list 2__ <br>\n",
    "\n",
    "__Problem No.__: LDL003 <br>\n",
    "__Topic__: Linked List  <br>\n",
    "__Source__: https://leetcode.com/problems/remove-duplicates-from-sorted-list-ii/ <br>\n",
    "__Difficulty__: Medium"
   ]
  },
  {
   "cell_type": "code",
   "execution_count": null,
   "id": "3961f8f7",
   "metadata": {},
   "outputs": [],
   "source": [
    "# Definition for singly-linked list.\n",
    "# class ListNode:\n",
    "#     def __init__(self, val=0, next=None):\n",
    "#         self.val = val\n",
    "#         self.next = next\n",
    "class Solution:\n",
    "    def deleteDuplicates(self, head: Optional[ListNode]) -> Optional[ListNode]:\n",
    "        #Your Solution Here"
   ]
  },
  {
   "cell_type": "markdown",
   "id": "eb88a36c",
   "metadata": {},
   "source": [
    "__Q3. Occurence of an integer in a Linked List__ <br>\n",
    "\n",
    "__Problem No.__: GDL003 <br>\n",
    "__Topic__: Linked List, Search  <br>\n",
    "__Source__: https://practice.geeksforgeeks.org/problems/occurence-of-an-integer-in-a-linked-list/1/?page=1&category[]=Searching&category[]=Linked%20List&query=page1category[]Searchingcategory[]Linked%20List <br>\n",
    "__Difficulty__: Easy"
   ]
  },
  {
   "cell_type": "code",
   "execution_count": null,
   "id": "598723c5",
   "metadata": {},
   "outputs": [],
   "source": [
    "\"\"\"  \n",
    "class Node:\n",
    "    def __init__(self, data):\n",
    "\t\tself.data = data\n",
    "\t\tself.next = None\n",
    "  This is method only submission.\n",
    "  You only need to complete the method.\n",
    "\"\"\"\n",
    "class Solution:\n",
    "    def count(self, head, search_for):\n",
    "        # Code here"
   ]
  },
  {
   "cell_type": "markdown",
   "id": "113a561d",
   "metadata": {},
   "source": [
    "__Q4. Minimum Loss__ <br>\n",
    "\n",
    "__Problem No.__: HAS001 <br>\n",
    "__Topic__: Search  <br>\n",
    "__Source__: https://www.hackerrank.com/challenges/minimum-loss/problem?isFullScreen=true <br>\n",
    "__Difficulty__: Easy"
   ]
  },
  {
   "cell_type": "code",
   "execution_count": null,
   "id": "86b621ed",
   "metadata": {},
   "outputs": [],
   "source": [
    "#!/bin/python3\n",
    "\n",
    "import math\n",
    "import os\n",
    "import random\n",
    "import re\n",
    "import sys\n",
    "\n",
    "#\n",
    "# Complete the 'minimumLoss' function below.\n",
    "#\n",
    "# The function is expected to return an INTEGER.\n",
    "# The function accepts LONG_INTEGER_ARRAY price as parameter.\n",
    "#\n",
    "\n",
    "def minimumLoss(price):\n",
    "    # Write your code here\n",
    "\n",
    "if __name__ == '__main__':\n",
    "    fptr = open(os.environ['OUTPUT_PATH'], 'w')\n",
    "\n",
    "    n = int(input().strip())\n",
    "\n",
    "    price = list(map(int, input().rstrip().split()))\n",
    "\n",
    "    result = minimumLoss(price)\n",
    "\n",
    "    fptr.write(str(result) + '\\n')\n",
    "\n",
    "    fptr.close()"
   ]
  },
  {
   "cell_type": "markdown",
   "id": "dd781719",
   "metadata": {},
   "source": [
    "__Q5. Search in Rotated Sorted Array__ <br>\n",
    "\n",
    "__Problem No.__: LAS001 <br>\n",
    "__Topic__: Array, Search  <br>\n",
    "__Source__: https://leetcode.com/problems/search-in-rotated-sorted-array/ <br>\n",
    "__Difficulty__: Easy"
   ]
  },
  {
   "cell_type": "code",
   "execution_count": null,
   "id": "e76d71d4",
   "metadata": {},
   "outputs": [],
   "source": [
    "class Solution:\n",
    "    def search(self, nums: List[int], target: int) -> int:\n",
    "        #Your Solution Here"
   ]
  },
  {
   "cell_type": "markdown",
   "id": "83d3ea84",
   "metadata": {},
   "source": [
    "### 28 Jan 2022\n",
    "Comment: Search 완전 정복? +5번은 Challenge 문제!"
   ]
  },
  {
   "cell_type": "markdown",
   "id": "34af978f",
   "metadata": {},
   "source": [
    "__Q1. Maximum Subarray Sum__ <br>\n",
    "\n",
    "__Problem No.__: HAS002 <br>\n",
    "__Topic__: Search  <br>\n",
    "__Source__: https://www.hackerrank.com/challenges/maximum-subarray-sum/problem?isFullScreen=true <br>\n",
    "__Difficulty__: Hard"
   ]
  },
  {
   "cell_type": "code",
   "execution_count": null,
   "id": "25df7b64",
   "metadata": {},
   "outputs": [],
   "source": [
    "#!/bin/python3\n",
    "\n",
    "import math\n",
    "import os\n",
    "import random\n",
    "import re\n",
    "import sys\n",
    "\n",
    "#\n",
    "# Complete the 'maximumSum' function below.\n",
    "#\n",
    "# The function is expected to return a LONG_INTEGER.\n",
    "# The function accepts following parameters:\n",
    "#  1. LONG_INTEGER_ARRAY a\n",
    "#  2. LONG_INTEGER m\n",
    "#\n",
    "\n",
    "def maximumSum(a, m):\n",
    "    # Write your code here\n",
    "\n",
    "if __name__ == '__main__':\n",
    "    fptr = open(os.environ['OUTPUT_PATH'], 'w')\n",
    "\n",
    "    q = int(input().strip())\n",
    "\n",
    "    for q_itr in range(q):\n",
    "        first_multiple_input = input().rstrip().split()\n",
    "\n",
    "        n = int(first_multiple_input[0])\n",
    "\n",
    "        m = int(first_multiple_input[1])\n",
    "\n",
    "        a = list(map(int, input().rstrip().split()))\n",
    "\n",
    "        result = maximumSum(a, m)\n",
    "\n",
    "        fptr.write(str(result) + '\\n')\n",
    "\n",
    "    fptr.close()"
   ]
  },
  {
   "cell_type": "markdown",
   "id": "c3acdf82",
   "metadata": {},
   "source": [
    "__Q2. Short Palindrome__ <br>\n",
    "\n",
    "__Problem No.__: HAS003 <br>\n",
    "__Topic__: Search  <br>\n",
    "__Source__: https://www.hackerrank.com/challenges/short-palindrome/problem?isFullScreen=true <br>\n",
    "__Difficulty__: Medium"
   ]
  },
  {
   "cell_type": "code",
   "execution_count": null,
   "id": "55a519fc",
   "metadata": {},
   "outputs": [],
   "source": [
    "#!/bin/python3\n",
    "\n",
    "import math\n",
    "import os\n",
    "import random\n",
    "import re\n",
    "import sys\n",
    "\n",
    "#\n",
    "# Complete the 'shortPalindrome' function below.\n",
    "#\n",
    "# The function is expected to return an INTEGER.\n",
    "# The function accepts STRING s as parameter.\n",
    "#\n",
    "\n",
    "def shortPalindrome(s):\n",
    "    # Write your code here\n",
    "\n",
    "if __name__ == '__main__':\n",
    "    fptr = open(os.environ['OUTPUT_PATH'], 'w')\n",
    "\n",
    "    s = input()\n",
    "\n",
    "    result = shortPalindrome(s)\n",
    "\n",
    "    fptr.write(str(result) + '\\n')\n",
    "\n",
    "    fptr.close()\n"
   ]
  },
  {
   "cell_type": "markdown",
   "id": "cea8b943",
   "metadata": {},
   "source": [
    "__Q3. Median of two sorted arrays__ <br>\n",
    "\n",
    "__Problem No.__: LAS002 <br>\n",
    "__Topic__: Search  <br>\n",
    "__Source__: https://leetcode.com/problems/median-of-two-sorted-arrays/ <br>\n",
    "__Difficulty__: Medium"
   ]
  },
  {
   "cell_type": "code",
   "execution_count": null,
   "id": "3a0c0d76",
   "metadata": {},
   "outputs": [],
   "source": [
    "class Solution:\n",
    "    def findMedianSortedArrays(self, nums1: List[int], nums2: List[int]) -> float:\n",
    "        #Your Solution Here"
   ]
  },
  {
   "cell_type": "markdown",
   "id": "0845f61f",
   "metadata": {},
   "source": [
    "__Q4. Find Peak Element__ <br>\n",
    "\n",
    "__Problem No.__: LAS003 <br>\n",
    "__Topic__: Search  <br>\n",
    "__Source__: https://leetcode.com/problems/find-peak-element/ <br>\n",
    "__Difficulty__: Easy"
   ]
  },
  {
   "cell_type": "code",
   "execution_count": 1,
   "id": "f9182374",
   "metadata": {},
   "outputs": [
    {
     "ename": "IndentationError",
     "evalue": "expected an indented block (1272507961.py, line 3)",
     "output_type": "error",
     "traceback": [
      "\u001b[0;36m  File \u001b[0;32m\"/var/folders/fm/q5qxvfmn78x_1sr2vjqhbbg00000gn/T/ipykernel_1726/1272507961.py\"\u001b[0;36m, line \u001b[0;32m3\u001b[0m\n\u001b[0;31m    #Your Solution Here\u001b[0m\n\u001b[0m                       ^\u001b[0m\n\u001b[0;31mIndentationError\u001b[0m\u001b[0;31m:\u001b[0m expected an indented block\n"
     ]
    }
   ],
   "source": [
    "class Solution:\n",
    "    def findPeakElement(self, nums: List[int]) -> int:\n",
    "        #Your Solution Here"
   ]
  },
  {
   "cell_type": "markdown",
   "id": "68d6d6c2",
   "metadata": {},
   "source": [
    "__Q5. Gridland Metro__ <br>\n",
    "\n",
    "__Problem No.__: HAS004 <br>\n",
    "__Topic__: Matrix, Search  <br>\n",
    "__Source__: https://www.hackerrank.com/challenges/gridland-metro/problem?isFullScreen=true <br>\n",
    "__Difficulty__: Hard"
   ]
  },
  {
   "cell_type": "code",
   "execution_count": null,
   "id": "2527198c",
   "metadata": {},
   "outputs": [],
   "source": [
    "#!/bin/python3\n",
    "\n",
    "import math\n",
    "import os\n",
    "import random\n",
    "import re\n",
    "import sys\n",
    "\n",
    "#\n",
    "# Complete the 'gridlandMetro' function below.\n",
    "#\n",
    "# The function is expected to return an INTEGER.\n",
    "# The function accepts following parameters:\n",
    "#  1. INTEGER n\n",
    "#  2. INTEGER m\n",
    "#  3. INTEGER k\n",
    "#  4. 2D_INTEGER_ARRAY track\n",
    "#\n",
    "\n",
    "def gridlandMetro(n, m, k, track):\n",
    "    # Write your code here\n",
    "\n",
    "if __name__ == '__main__':\n",
    "    fptr = open(os.environ['OUTPUT_PATH'], 'w')\n",
    "\n",
    "    first_multiple_input = input().rstrip().split()\n",
    "\n",
    "    n = int(first_multiple_input[0])\n",
    "\n",
    "    m = int(first_multiple_input[1])\n",
    "\n",
    "    k = int(first_multiple_input[2])\n",
    "\n",
    "    track = []\n",
    "\n",
    "    for _ in range(k):\n",
    "        track.append(list(map(int, input().rstrip().split())))\n",
    "\n",
    "    result = gridlandMetro(n, m, k, track)\n",
    "\n",
    "    fptr.write(str(result) + '\\n')\n",
    "\n",
    "    fptr.close()\n"
   ]
  }
 ],
 "metadata": {
  "kernelspec": {
   "display_name": "Python 3 (ipykernel)",
   "language": "python",
   "name": "python3"
  },
  "language_info": {
   "codemirror_mode": {
    "name": "ipython",
    "version": 3
   },
   "file_extension": ".py",
   "mimetype": "text/x-python",
   "name": "python",
   "nbconvert_exporter": "python",
   "pygments_lexer": "ipython3",
   "version": "3.9.5"
  }
 },
 "nbformat": 4,
 "nbformat_minor": 5
}
