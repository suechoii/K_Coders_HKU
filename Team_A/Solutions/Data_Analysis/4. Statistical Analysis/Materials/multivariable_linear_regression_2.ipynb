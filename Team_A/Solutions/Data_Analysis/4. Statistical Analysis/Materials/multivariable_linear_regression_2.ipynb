{
 "cells": [
  {
   "cell_type": "markdown",
   "metadata": {},
   "source": [
    "# Multivariable Linear Regression"
   ]
  },
  {
   "cell_type": "markdown",
   "metadata": {},
   "source": [
    "### Multivariable linear regression 식인 y=w1x1+w2x2+w3x3+b에서 weight(w1, w2, w3) 값과 bias(b) 값을 텐서플로우 구현하여 찾아보고자한다."
   ]
  },
  {
   "cell_type": "markdown",
   "metadata": {},
   "source": [
    "### 이번에는 weight, bias를 여러개 설정하여 값을 구하지 않고, matrix 계산으로 한번에 구해본다."
   ]
  },
  {
   "cell_type": "code",
   "execution_count": 4,
   "metadata": {},
   "outputs": [],
   "source": [
    "##tenssorflow==2.3 환경에서 구현  \n",
    "import tensorflow as tf\n",
    "# weigh와 bias 변수 설정\n",
    "w = tf.Variable(tf.random.uniform([1,3])) #weight 1*3 matrix를 variable로 설정\n",
    "b = tf.Variable(tf.random.uniform([1]))\n",
    "\n",
    "#input 데이터와 ouput 데이터 설정\n",
    "#x1,x2,x3는 y와 각각 일정한 관계를 형성하는데 x1의 1배, x2는 1/2배, x3는 2배를하여 합산한 후, 10을 더한 값이 y값이고 이때, 가중치인 1, 1/2, 2와 bias 10을 텐서플로우로 구현\n",
    "label_x=[[10,30,40,60,70], [34,12,44,22,50], [12,4,34,5,30]] #input data [[x1데이터],[x2데이터],[x3데이터]]\n",
    "label_y=[61,54,140,91,165] #output data   "
   ]
  },
  {
   "cell_type": "code",
   "execution_count": 5,
   "metadata": {},
   "outputs": [
    {
     "name": "stdout",
     "output_type": "stream",
     "text": [
      "0 loss_value: 3369.308 weight: [[0.36058468 0.9976525  0.09665639]] bias: 0.97861356\n",
      "100 loss_value: 47.571087 weight: [[0.9281533 1.5568345 0.6825515]] bias: 1.5304638\n",
      "200 loss_value: 43.12451 weight: [[0.93470854 1.5347482  0.74352884]] bias: 1.4877094\n",
      "300 loss_value: 38.57496 weight: [[0.9369372  1.4963375  0.80844057]] bias: 1.4284222\n",
      "400 loss_value: 33.86727 weight: [[0.94202626 1.4509988  0.87875855]] bias: 1.366013\n",
      "500 loss_value: 29.283932 weight: [[0.9494812 1.4010429 0.951631 ]] bias: 1.3053689\n",
      "600 loss_value: 25.02114 weight: [[0.9584435 1.3485644 1.0251833]] bias: 1.2504969\n",
      "700 loss_value: 21.206367 weight: [[0.96809644 1.2953657  1.0979825 ]] bias: 1.2047918\n",
      "800 loss_value: 17.906155 weight: [[0.97781307 1.2429013  1.1687939 ]] bias: 1.171108\n",
      "900 loss_value: 15.13566 weight: [[0.9871685 1.1922857 1.2365359]] bias: 1.1517814\n",
      "1000 loss_value: 12.871251 weight: [[0.99589443 1.1443394  1.3003088 ]] bias: 1.1486212\n",
      "1100 loss_value: 11.0629835 weight: [[1.0038298 1.0996307 1.3594289]] bias: 1.1629199\n",
      "1200 loss_value: 9.646101 weight: [[1.010885  1.0585148 1.4134455]] bias: 1.1954726\n",
      "1300 loss_value: 8.550525 weight: [[1.0170203 1.0211625 1.4621348]] bias: 1.2466081\n",
      "1400 loss_value: 7.7079635 weight: [[1.0222323  0.98758966 1.5054822 ]] bias: 1.3162372\n",
      "1500 loss_value: 7.056916 weight: [[1.0265481 0.9576808 1.5436476]] bias: 1.4039096\n",
      "1600 loss_value: 6.545129 weight: [[1.030017  0.9312176 1.5769345]] bias: 1.5088767\n",
      "1700 loss_value: 6.130612 weight: [[1.032705  0.9079042 1.6057527]] bias: 1.630163\n",
      "1800 loss_value: 5.781358 weight: [[1.0346898 0.8873939 1.6305822]] bias: 1.7666305\n",
      "1900 loss_value: 5.473996 weight: [[1.036055 0.869313 1.651941]] bias: 1.9170457\n",
      "2000 loss_value: 5.192468 weight: [[1.0368862 0.8532815 1.6703553]] bias: 2.0801332\n",
      "2100 loss_value: 4.926263 weight: [[1.0372661 0.8389319 1.6863362]] bias: 2.2546287\n",
      "2200 loss_value: 4.6689386 weight: [[1.0372726 0.8259218 1.7003592]] bias: 2.4393096\n",
      "2300 loss_value: 4.4169087 weight: [[1.0369762 0.8139442 1.7128522]] bias: 2.633027\n",
      "2400 loss_value: 4.168425 weight: [[1.0364387 0.8027337 1.7241865]] bias: 2.834716\n",
      "2500 loss_value: 3.9229255 weight: [[1.0357127  0.79206914 1.7346729 ]] bias: 3.0434017\n",
      "2600 loss_value: 3.6805077 weight: [[1.0348418 0.7817716 1.7445645]] bias: 3.2581995\n",
      "2700 loss_value: 3.4416747 weight: [[1.0338619  0.77170306 1.7540586 ]] bias: 3.4783034\n",
      "2800 loss_value: 3.2071157 weight: [[1.0328003 0.761762  1.7633028]] bias: 3.702973\n",
      "2900 loss_value: 2.9776025 weight: [[1.0316789 0.7518777 1.772404 ]] bias: 3.9315224\n",
      "3000 loss_value: 2.7539196 weight: [[1.0305146 0.7420051 1.7814319]] bias: 4.1633043\n",
      "3100 loss_value: 2.5368123 weight: [[1.0293189 0.7321195 1.7904321]] bias: 4.3976903\n",
      "3200 loss_value: 2.327018 weight: [[1.0281022 0.7222111 1.799427 ]] bias: 4.63407\n",
      "3300 loss_value: 2.1252148 weight: [[1.0268714 0.7122836 1.8084227]] bias: 4.871832\n",
      "3400 loss_value: 1.931998 weight: [[1.0256326 0.7023486 1.8174142]] bias: 5.1103635\n",
      "3500 loss_value: 1.7479045 weight: [[1.0243903  0.69242245 1.8263916 ]] bias: 5.349031\n",
      "3600 loss_value: 1.5733975 weight: [[1.0231483 0.6825273 1.8353372]] bias: 5.5872116\n",
      "3700 loss_value: 1.408843 weight: [[1.0219107 0.6726867 1.8442304]] bias: 5.824257\n",
      "3800 loss_value: 1.2545317 weight: [[1.0206816  0.66292584 1.8530495 ]] bias: 6.0595107\n",
      "3900 loss_value: 1.1106341 weight: [[1.019465   0.65327126 1.8617702 ]] bias: 6.292308\n",
      "4000 loss_value: 0.97726953 weight: [[1.0182642 0.6437502 1.8703673]] bias: 6.521982\n",
      "4100 loss_value: 0.85441893 weight: [[1.0170817  0.63439095 1.8788179 ]] bias: 6.747867\n",
      "4200 loss_value: 0.7420022 weight: [[1.0159223 0.6252196 1.8870968]] bias: 6.9693036\n",
      "4300 loss_value: 0.63983744 weight: [[1.014789  0.616263  1.8951805]] bias: 7.1856313\n",
      "4400 loss_value: 0.547651 weight: [[1.0136852 0.6075476 1.9030452]] bias: 7.3962183\n",
      "4500 loss_value: 0.465094 weight: [[1.0126141  0.59909797 1.9106687 ]] bias: 7.600452\n",
      "4600 loss_value: 0.3917429 weight: [[1.011579  0.5909381 1.9180294]] bias: 7.797747\n",
      "4700 loss_value: 0.32712477 weight: [[1.0105827 0.5830901 1.9251076]] bias: 7.987558\n",
      "4800 loss_value: 0.27067882 weight: [[1.009628   0.57557493 1.9318851 ]] bias: 8.169377\n",
      "4900 loss_value: 0.22183175 weight: [[1.0087174 0.5684105 1.9383453]] bias: 8.34275\n",
      "5000 loss_value: 0.17996967 weight: [[1.0078529  0.56161374 1.9444734 ]] bias: 8.507275\n",
      "5100 loss_value: 0.14446136 weight: [[1.0070364  0.55519754 1.9502578 ]] bias: 8.662613\n",
      "5200 loss_value: 0.114665344 weight: [[1.0062697 0.5491734 1.9556879]] bias: 8.808477\n",
      "5300 loss_value: 0.08994082 weight: [[1.0055532  0.54354846 1.9607576 ]] bias: 8.944716\n",
      "5400 loss_value: 0.06967245 weight: [[1.0048879  0.53832734 1.9654636 ]] bias: 9.071193\n",
      "5500 loss_value: 0.05326761 weight: [[1.0042742 0.5335112 1.9698038]] bias: 9.187866\n",
      "5600 loss_value: 0.040165763 weight: [[1.0037118 0.5290982 1.9737809]] bias: 9.294785\n",
      "5700 loss_value: 0.029844603 weight: [[1.0031996 0.5250821 1.9773996]] bias: 9.392107\n",
      "5800 loss_value: 0.021837931 weight: [[1.002737   0.52145493 1.9806683 ]] bias: 9.48\n",
      "5900 loss_value: 0.015722549 weight: [[1.0023224 0.518204  1.9835976]] bias: 9.558779\n",
      "6000 loss_value: 0.01112746 weight: [[1.001954   0.51531446 1.9862012 ]] bias: 9.628809\n",
      "6100 loss_value: 0.0077347234 weight: [[1.001629  0.5127681 1.9884957]] bias: 9.690526\n",
      "6200 loss_value: 0.005275476 weight: [[1.0013454 0.5105447 1.9904994]] bias: 9.74442\n",
      "6300 loss_value: 0.0035264553 weight: [[1.0011002 0.5086213 1.992232 ]] bias: 9.79103\n",
      "6400 loss_value: 0.0023083647 weight: [[1.0008901 0.5069751 1.9937152]] bias: 9.830931\n",
      "6500 loss_value: 0.001477924 weight: [[1.0007122 0.5055811 1.9949716]] bias: 9.864726\n",
      "6600 loss_value: 0.0009240836 weight: [[1.000563  0.5044133 1.9960235]] bias: 9.893025\n",
      "6700 loss_value: 0.000563854 weight: [[1.00044   0.5034473 1.9968939]] bias: 9.916443\n",
      "6800 loss_value: 0.0003351379 weight: [[1.0003392  0.50265765 1.9976053 ]] bias: 9.935578\n",
      "6900 loss_value: 0.00019385558 weight: [[1.0002581 0.5020212 1.9981791]] bias: 9.951009\n",
      "7000 loss_value: 0.00010893607 weight: [[1.0001934  0.50151503 1.9986349 ]] bias: 9.963277\n",
      "7100 loss_value: 5.9334136e-05 weight: [[1.0001428 0.5011183 1.9989923]] bias: 9.97289\n",
      "7200 loss_value: 3.1335436e-05 weight: [[1.0001036  0.50081253 1.9992678 ]] bias: 9.980306\n",
      "7300 loss_value: 1.5987851e-05 weight: [[1.0000741 0.5005803 1.9994771]] bias: 9.985932\n",
      "7400 loss_value: 7.876687e-06 weight: [[1.0000521 0.5004072 1.9996332]] bias: 9.990132\n",
      "7500 loss_value: 3.7327438e-06 weight: [[1.0000356  0.50028014 1.9997474 ]] bias: 9.993207\n",
      "7600 loss_value: 1.7037615e-06 weight: [[1.0000241  0.50018924 1.9998298 ]] bias: 9.995417\n",
      "7700 loss_value: 7.310591e-07 weight: [[1.0000157 0.5001248 1.9998872]] bias: 9.996971\n",
      "7800 loss_value: 3.1076198e-07 weight: [[1.0000101 0.5000806 1.9999273]] bias: 9.998043\n",
      "7900 loss_value: 1.2075762e-07 weight: [[1.0000064  0.50005096 1.9999541 ]] bias: 9.998766\n",
      "8000 loss_value: 4.755566e-08 weight: [[1.000004   0.50003123 1.9999716 ]] bias: 9.999239\n",
      "8100 loss_value: 1.6987906e-08 weight: [[1.0000024 0.5000188 1.9999827]] bias: 9.999547\n",
      "8200 loss_value: 5.9982996e-09 weight: [[1.0000013  0.50001097 1.9999901 ]] bias: 9.999733\n",
      "8300 loss_value: 2.462184e-09 weight: [[1.0000008 0.5000068 1.9999939]] bias: 9.999837\n",
      "8400 loss_value: 4.773028e-10 weight: [[1.0000005 0.5000034 1.999997 ]] bias: 9.999923\n",
      "8500 loss_value: 2.3574104e-10 weight: [[1.0000002  0.50000244 1.9999982 ]] bias: 9.999938\n",
      "8600 loss_value: 2.939487e-10 weight: [[1.0000002 0.5000021 1.9999983]] bias: 9.999942\n",
      "8700 loss_value: 2.386514e-10 weight: [[1.0000004  0.50000215 1.9999982 ]] bias: 9.999942\n",
      "8800 loss_value: 2.386514e-10 weight: [[1.0000004  0.50000215 1.9999982 ]] bias: 9.999942\n",
      "8900 loss_value: 2.0081643e-10 weight: [[1.0000004  0.50000226 1.9999982 ]] bias: 9.999942\n",
      "9000 loss_value: 2.7939678e-10 weight: [[1.0000002 0.5000022 1.9999985]] bias: 9.999945\n",
      "9100 loss_value: 1.5133991e-10 weight: [[1.0000002 0.5000017 1.9999983]] bias: 9.999957\n",
      "9200 loss_value: 1.7753336e-10 weight: [[1.0000002 0.5000016 1.9999987]] bias: 9.999959\n",
      "9300 loss_value: 1.6880222e-10 weight: [[1.0000002 0.5000013 1.9999992]] bias: 9.999961\n",
      "9400 loss_value: 1.193257e-10 weight: [[1.0000001 0.5000014 1.9999988]] bias: 9.999966\n",
      "9500 loss_value: 7.2759576e-11 weight: [[1.0000002 0.5000012 1.999999 ]] bias: 9.999969\n",
      "9600 loss_value: 8.440111e-11 weight: [[1.0000002  0.50000125 1.999999  ]] bias: 9.9999695\n",
      "9700 loss_value: 9.313226e-11 weight: [[1.0000002 0.5000011 1.9999992]] bias: 9.999971\n",
      "9800 loss_value: 1.1641532e-10 weight: [[1.0000001 0.5000009 1.9999992]] bias: 9.999972\n",
      "9900 loss_value: 6.9849196e-11 weight: [[1.0000001 0.5000009 1.9999996]] bias: 9.999975\n"
     ]
    }
   ],
   "source": [
    "#loss function 정의\n",
    "def loss_function():\n",
    "#w,b를 aprroximation하여 pred_y값을 도출하고 Mean squared error를 loss function으로 loss 값도출\n",
    "  pred_y = tf.matmul(w,label_x) + b # w*x는 행렬 곱셈 후, bias를 더하여 pred_y를 계산\n",
    "  cost = tf.reduce_mean(tf.square(pred_y - label_y)) #Mean squared error를 loss function으로 활용 \n",
    "  return cost\n",
    "\n",
    "\n",
    "optimizer = tf.optimizers.Adam(learning_rate=0.01) #보편적으로 가장 많이 사용하는 adam optimizer 활용\n",
    "for step in range(10000): #train\n",
    "    cost_val=optimizer.minimize(loss_function, var_list=[w,b])\n",
    "    if step % 100 == 0:\n",
    "        print(step,\"loss_value:\", loss_function().numpy(), 'weight:', w.numpy(), 'bias:', b.numpy()[0])\n"
   ]
  },
  {
   "cell_type": "markdown",
   "metadata": {},
   "source": [
    "## plot result"
   ]
  },
  {
   "cell_type": "code",
   "execution_count": 18,
   "metadata": {},
   "outputs": [
    {
     "name": "stdout",
     "output_type": "stream",
     "text": [
      "tf.Tensor([[ 61.000023  54.00001  140.00002   91.00002  165.00003 ]], shape=(1, 5), dtype=float32)\n"
     ]
    },
    {
     "data": {
      "image/png": "[encoded data removed]",
      "text/plain": [
       "<Figure size 432x288 with 1 Axes>"
      ]
     },
     "metadata": {
      "needs_background": "light"
     },
     "output_type": "display_data"
    },
    {
     "data": {
      "image/png": "[encoded data removed]",
      "text/plain": [
       "<Figure size 432x288 with 1 Axes>"
      ]
     },
     "metadata": {
      "needs_background": "light"
     },
     "output_type": "display_data"
    }
   ],
   "source": [
    "import matplotlib.pyplot as plt\n",
    "pred_y_list= tf.matmul(w,label_x)+b #위에서 구한 weight와 bias값을 이용해 y값 prediction\n",
    "print(pred_y_list) #실제 y값과 비교\n",
    "data_number=[1,2,3,4,5]\n",
    "# original data plot\n",
    "plt.title(\"Orginal data\")\n",
    "plt.xlabel(\"data number\")\n",
    "plt.ylabel(\"Label Y value\")\n",
    "plt.plot(data_number, label_y, 'ro', label='Original data')\n",
    "plt.show()\n",
    "# predicted value plot\n",
    "plt.title(\"Predicted value\")\n",
    "plt.xlabel(\"data number\")\n",
    "plt.ylabel(\"Predicted Y value\")\n",
    "plt.plot(data_number, pred_y_list[0],'bo', label='Predicted data')\n",
    "plt.legend()\n",
    "plt.show()"
   ]
  },
  {
   "cell_type": "code",
   "execution_count": null,
   "metadata": {},
   "outputs": [],
   "source": []
  }
 ],
 "metadata": {
  "anaconda-cloud": {},
  "kernelspec": {
   "display_name": "Python 3",
   "language": "python",
   "name": "python3"
  },
  "language_info": {
   "codemirror_mode": {
    "name": "ipython",
    "version": 3
   },
   "file_extension": ".py",
   "mimetype": "text/x-python",
   "name": "python",
   "nbconvert_exporter": "python",
   "pygments_lexer": "ipython3",
   "version": "3.6.8"
  }
 },
 "nbformat": 4,
 "nbformat_minor": 4
}
