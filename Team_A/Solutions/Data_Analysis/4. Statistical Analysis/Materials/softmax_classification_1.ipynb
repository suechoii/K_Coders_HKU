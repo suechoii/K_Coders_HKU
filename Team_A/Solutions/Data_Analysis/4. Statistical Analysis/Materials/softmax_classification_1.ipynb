{
 "cells": [
  {
   "cell_type": "markdown",
   "metadata": {},
   "source": [
    "# Softmax Classification"
   ]
  },
  {
   "cell_type": "markdown",
   "metadata": {},
   "source": [
    "### tensorflow로 Softmax Classification을 구현하여 여러 class 데이터의 분류를 해보고자 한다."
   ]
  },
  {
   "cell_type": "code",
   "execution_count": 55,
   "metadata": {},
   "outputs": [],
   "source": [
    "##tenssorflow==2.3 환경에서 구현  \n",
    "import tensorflow as tf\n",
    "import numpy as np\n",
    "# weigh와 bias 변수 설정\n",
    "w = tf.Variable(tf.random.uniform([2,3]))\n",
    "b = tf.Variable(tf.random.uniform([3]))\n",
    "#2D 데이터에서 특정 직선에 따라서 3개의 class로 나누어지는 데이터(class a=[1,0,0], class b=[0,1,0], class c=[0,0,1])\n",
    "#input data\n",
    "label_x=np.array([[3,2],[2,2],[2,3],[3,4],[1,5],[5,5],[5,7],[6,6],[7,5],[8,5],[6,11],[7,12],[8,10],[9,11],[10,10]],dtype=np.float32)\n",
    "#output data\n",
    "label_y=np.array([[1,0,0],[1,0,0],[1,0,0],[1,0,0],[1,0,0],[0,1,0],[0,1,0],[0,1,0],[0,1,0],[0,1,0],[0,0,1],[0,0,1],[0,0,1],[0,0,1],[0,0,1]],dtype=np.float32)"
   ]
  },
  {
   "cell_type": "code",
   "execution_count": 57,
   "metadata": {},
   "outputs": [
    {
     "name": "stdout",
     "output_type": "stream",
     "text": [
      "0 loss_value: 0.92258793\n",
      "100 loss_value: 0.54017335\n",
      "200 loss_value: 0.42786142\n",
      "300 loss_value: 0.35728648\n",
      "400 loss_value: 0.3071434\n",
      "500 loss_value: 0.2685879\n",
      "600 loss_value: 0.23752412\n",
      "700 loss_value: 0.21175696\n",
      "800 loss_value: 0.18996534\n",
      "900 loss_value: 0.17128257\n",
      "1000 loss_value: 0.15510185\n",
      "1100 loss_value: 0.1409773\n",
      "1200 loss_value: 0.12856857\n",
      "1300 loss_value: 0.11760847\n",
      "1400 loss_value: 0.10788236\n",
      "1500 loss_value: 0.09921506\n",
      "1600 loss_value: 0.091461584\n",
      "1700 loss_value: 0.084500834\n",
      "1800 loss_value: 0.07823089\n",
      "1900 loss_value: 0.072565444\n",
      "2000 loss_value: 0.06743093\n",
      "2100 loss_value: 0.062764354\n",
      "2200 loss_value: 0.058511756\n",
      "2300 loss_value: 0.054626547\n",
      "2400 loss_value: 0.05106841\n",
      "2500 loss_value: 0.047802385\n",
      "2600 loss_value: 0.044797968\n",
      "2700 loss_value: 0.04202853\n",
      "2800 loss_value: 0.039470863\n",
      "2900 loss_value: 0.03710437\n",
      "3000 loss_value: 0.03491098\n",
      "3100 loss_value: 0.03287475\n",
      "3200 loss_value: 0.03098152\n",
      "3300 loss_value: 0.02921871\n",
      "3400 loss_value: 0.027575037\n",
      "3500 loss_value: 0.02604057\n",
      "3600 loss_value: 0.024606282\n",
      "3700 loss_value: 0.023264047\n",
      "3800 loss_value: 0.022006672\n",
      "3900 loss_value: 0.020827599\n",
      "4000 loss_value: 0.019720819\n",
      "4100 loss_value: 0.018681025\n",
      "4200 loss_value: 0.017703325\n",
      "4300 loss_value: 0.016783291\n",
      "4400 loss_value: 0.015916845\n",
      "4500 loss_value: 0.015100223\n",
      "4600 loss_value: 0.014330143\n",
      "4700 loss_value: 0.0136034535\n",
      "4800 loss_value: 0.012917286\n",
      "4900 loss_value: 0.012268997\n",
      "5000 loss_value: 0.0116562145\n",
      "5100 loss_value: 0.011076665\n",
      "5200 loss_value: 0.010528282\n",
      "5300 loss_value: 0.010009208\n",
      "5400 loss_value: 0.009517583\n",
      "5500 loss_value: 0.009051816\n",
      "5600 loss_value: 0.008610424\n",
      "5700 loss_value: 0.008191866\n",
      "5800 loss_value: 0.0077949148\n",
      "5900 loss_value: 0.0074183107\n",
      "6000 loss_value: 0.007060875\n",
      "6100 loss_value: 0.00672159\n",
      "6200 loss_value: 0.006399391\n",
      "6300 loss_value: 0.0060933456\n",
      "6400 loss_value: 0.0058026034\n",
      "6500 loss_value: 0.0055263164\n",
      "6600 loss_value: 0.005263716\n",
      "6700 loss_value: 0.005014048\n",
      "6800 loss_value: 0.0047766813\n",
      "6900 loss_value: 0.004550921\n",
      "7000 loss_value: 0.0043361406\n",
      "7100 loss_value: 0.0041318336\n",
      "7200 loss_value: 0.0039374186\n",
      "7300 loss_value: 0.0037524165\n",
      "7400 loss_value: 0.0035763287\n",
      "7500 loss_value: 0.003408707\n",
      "7600 loss_value: 0.0032491041\n",
      "7700 loss_value: 0.0030971423\n",
      "7800 loss_value: 0.0029524441\n",
      "7900 loss_value: 0.002814614\n",
      "8000 loss_value: 0.0026833839\n",
      "8100 loss_value: 0.0025583478\n",
      "8200 loss_value: 0.0024392004\n",
      "8300 loss_value: 0.0023257437\n",
      "8400 loss_value: 0.0022175813\n",
      "8500 loss_value: 0.002114553\n",
      "8600 loss_value: 0.0020163793\n",
      "8700 loss_value: 0.0019228285\n",
      "8800 loss_value: 0.0018336539\n",
      "8900 loss_value: 0.0017486729\n",
      "9000 loss_value: 0.0016676191\n",
      "9100 loss_value: 0.0015903705\n",
      "9200 loss_value: 0.0015167488\n",
      "9300 loss_value: 0.0014465412\n",
      "9400 loss_value: 0.0013796255\n",
      "9500 loss_value: 0.0013158168\n",
      "9600 loss_value: 0.00125499\n",
      "9700 loss_value: 0.0011969919\n",
      "9800 loss_value: 0.00114169\n",
      "9900 loss_value: 0.0010889472\n"
     ]
    }
   ],
   "source": [
    "#loss function 정의\n",
    "def loss_function():\n",
    "#softmax function으로 pred_y값을 도출하고 categorical cross entropy loss를 loss function으로 loss 값도출\n",
    "  z= tf.matmul(label_x,w)+b\n",
    "  pred_y = tf.nn.softmax(z)\n",
    "  cost = -tf.reduce_mean(tf.reduce_sum(label_y * tf.math.log(pred_y),axis=1))#categorical cross entropy loss를 loss function으로 활용\n",
    "  return cost\n",
    "optimizer = tf.optimizers.Adam(learning_rate=0.01) #보편적으로 가장 많이 사용하는 adam optimizer 활용\n",
    "for step in range(10000): #train\n",
    "    cost_val=optimizer.minimize(loss_function, var_list=[w,b])\n",
    "    if step % 100 == 0:\n",
    "        print(step,\"loss_value:\", loss_function().numpy())"
   ]
  },
  {
   "cell_type": "code",
   "execution_count": 95,
   "metadata": {},
   "outputs": [
    {
     "name": "stdout",
     "output_type": "stream",
     "text": [
      "accuracy: 1.0\n"
     ]
    }
   ],
   "source": [
    "#최종 train accuracy 측정\n",
    "pred_y = tf.nn.softmax(tf.matmul(label_x,w)+b)\n",
    "argmax_y=tf.argmax(label_y,1) #label 데이터의 argmax\n",
    "pred_final = tf.argmax(pred_y,1)#모델이 예측한 pred_y 데이터의 argmax\n",
    "accuracy = tf.reduce_mean(tf.cast(tf.equal(pred_final,argmax_y),dtype=tf.float32)) #train_accuracy\n",
    "print(\"accuracy:\", accuracy.numpy())"
   ]
  },
  {
   "cell_type": "markdown",
   "metadata": {},
   "source": [
    "## predict"
   ]
  },
  {
   "cell_type": "code",
   "execution_count": 75,
   "metadata": {},
   "outputs": [
    {
     "name": "stdout",
     "output_type": "stream",
     "text": [
      "accuracy: 1.0\n"
     ]
    }
   ],
   "source": [
    "#test data 설정 및 학습한 모델로 predict\n",
    "test_x=np.array([[1,3],[6,5],[10,11]],dtype=np.float32) \n",
    "test_y=np.array([[1,0,0],[0,1,0],[0,0,1]],dtype=np.float32)\n",
    "\n",
    "test_pred= tf.nn.softmax(tf.matmul(test_x,w)+b)\n",
    "test_argmax_y=tf.argmax(test_y,1)\n",
    "test_pred_final= tf.argmax(test_pred,1) \n",
    "test_accuracy = tf.reduce_mean(tf.cast(tf.equal(test_pred_final,test_argmax_y),dtype=tf.float32)) #test_accuracy\n",
    "print(\"accuracy:\", test_accuracy.numpy())"
   ]
  },
  {
   "cell_type": "markdown",
   "metadata": {},
   "source": [
    "## plot result"
   ]
  },
  {
   "cell_type": "code",
   "execution_count": 98,
   "metadata": {},
   "outputs": [
    {
     "data": {
      "image/png": "[encoded data removed]",
      "text/plain": [
       "<Figure size 432x288 with 1 Axes>"
      ]
     },
     "metadata": {
      "needs_background": "light"
     },
     "output_type": "display_data"
    },
    {
     "data": {
      "image/png": "[encoded data removed]",
      "text/plain": [
       "<Figure size 432x288 with 1 Axes>"
      ]
     },
     "metadata": {
      "needs_background": "light"
     },
     "output_type": "display_data"
    }
   ],
   "source": [
    "import matplotlib.pyplot as plt\n",
    "test_pred_final=np.array(test_pred_final)\n",
    "pred_final=np.array(pred_final)\n",
    "argmax_y=np.array(argmax_y)\n",
    "#label_x,test_x 데이터에서 x축, y축 데이터 분리\n",
    "label_x_x1=label_x[:,0]\n",
    "label_x_y1=label_x[:,1]\n",
    "\n",
    "test_x_x1=test_x[:,0]\n",
    "test_x_y1=test_x[:,1]\n",
    "\n",
    "#시각화를 위해 class a([1,0,0]), b([0,1,0]), c([0,0,1])에 따라서 데이터를 분리한 후, 결과 plot\n",
    "label_x_x1_0=label_x_x1[argmax_y==0] \n",
    "label_x_x1_1=label_x_x1[argmax_y==1]\n",
    "label_x_x1_2=label_x_x1[argmax_y==2]\n",
    "label_x_y1_0=label_x_y1[argmax_y==0] \n",
    "label_x_y1_1=label_x_y1[argmax_y==1]\n",
    "label_x_y1_2=label_x_y1[argmax_y==2]\n",
    "# original data plot\n",
    "plt.figure()\n",
    "plt.title(\"Original data\")\n",
    "plt.xlabel(\"X value\")\n",
    "plt.ylabel(\"Y value\")\n",
    "plt.plot(label_x_x1_0, label_x_y1_0, 'ro', label='class a train data')\n",
    "plt.plot(label_x_x1_1, label_x_y1_1,'bo', label='class b train data')\n",
    "plt.plot(label_x_x1_2, label_x_y1_2,'go', label='class c train data')\n",
    "plt.plot(test_x_x1, test_x_y1,'yo', label='test data')\n",
    "plt.legend()\n",
    "plt.show()\n",
    "\n",
    "pred_x_x1_0=label_x_x1[pred_final==0] \n",
    "pred_x_x1_1=label_x_x1[pred_final==1]\n",
    "pred_x_x1_2=label_x_x1[pred_final==2]\n",
    "pred_x_y1_0=label_x_y1[pred_final==0] \n",
    "pred_x_y1_1=label_x_y1[pred_final==1]\n",
    "pred_x_y1_2=label_x_y1[pred_final==2]\n",
    "\n",
    "pred_test_x_x1_0=test_x_x1[test_pred_final==0]\n",
    "pred_test_x_x1_1=test_x_x1[test_pred_final==1]\n",
    "pred_test_x_x1_2=test_x_x1[test_pred_final==2]\n",
    "pred_test_x_y1_0=test_x_y1[test_pred_final==0]\n",
    "pred_test_x_y1_1=test_x_y1[test_pred_final==1]\n",
    "pred_test_x_y1_2=test_x_y1[test_pred_final==2]\n",
    "\n",
    "# preidicted value plot\n",
    "plt.figure()\n",
    "plt.title(\"Predicted value\")\n",
    "plt.xlabel(\"X value\")\n",
    "plt.ylabel(\"Y value\")\n",
    "plt.plot(pred_x_x1_0, pred_x_y1_0, 'co', label='class a(prediction)')\n",
    "plt.plot(pred_x_x1_1, pred_x_y1_1,'mo', label='class b(prediction)')\n",
    "plt.plot(pred_x_x1_2, pred_x_y1_2,'ko', label='class c(prediction)')\n",
    "plt.plot(pred_test_x_x1_0, pred_test_x_y1_0,'co')\n",
    "plt.plot(pred_test_x_x1_1, pred_test_x_y1_1,'mo')\n",
    "plt.plot(pred_test_x_x1_2, pred_test_x_y1_2,'ko')\n",
    "plt.legend()\n",
    "plt.show()"
   ]
  },
  {
   "cell_type": "code",
   "execution_count": null,
   "metadata": {},
   "outputs": [],
   "source": []
  }
 ],
 "metadata": {
  "anaconda-cloud": {},
  "kernelspec": {
   "display_name": "Python 3",
   "language": "python",
   "name": "python3"
  },
  "language_info": {
   "codemirror_mode": {
    "name": "ipython",
    "version": 3
   },
   "file_extension": ".py",
   "mimetype": "text/x-python",
   "name": "python",
   "nbconvert_exporter": "python",
   "pygments_lexer": "ipython3",
   "version": "3.6.8"
  }
 },
 "nbformat": 4,
 "nbformat_minor": 4
}
