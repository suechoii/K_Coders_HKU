{
 "cells": [
  {
   "cell_type": "markdown",
   "metadata": {},
   "source": [
    "# Multivariable Linear Regression"
   ]
  },
  {
   "cell_type": "markdown",
   "metadata": {},
   "source": [
    "### Multivariable linear regression 식인 y=w1x1+w2x2+w3x3+b에서 weight(w1, w2, w3) 값과 bias(b) 값을 텐서플로우 구현하여 찾아보고자한다."
   ]
  },
  {
   "cell_type": "code",
   "execution_count": null,
   "metadata": {},
   "outputs": [],
   "source": [
    "##tenssorflow==2.3 환경에서 구현  \n",
    "import tensorflow as tf\n",
    "# weigh와 bias 변수 설정\n",
    "w1 = tf.Variable(tf.random.uniform([1]))\n",
    "w2 = tf.Variable(tf.random.uniform([1]))\n",
    "w3 = tf.Variable(tf.random.uniform([1]))#weight 1*3 matrix를 variable로 설정\n",
    "b = tf.Variable(tf.random.uniform([1]))\n",
    "\n",
    "#input 데이터와 ouput 데이터 설정\n",
    "#x1,x2,x3는 y와 각각 일정한 관계를 형성하는데 x1의 1배, x2는 1/2배, x3는 2배를하여 합산한 후, 10을 더한 값이 y값이고 이때, 가중치인 1, 1/2, 2와 bias 10을 텐서플로우로 구현\n",
    "label_x1=[10,30,40,60,70]\n",
    "label_x2=[34,12,44,22,50]\n",
    "label_x3=[12,4,34,5,30] #input data [[x1데이터],[x2데이터],[x3데이터]]\n",
    "label_y=[61,54,140,91,165] #output data   "
   ]
  },
  {
   "cell_type": "code",
   "execution_count": 13,
   "metadata": {},
   "outputs": [
    {
     "name": "stdout",
     "output_type": "stream",
     "text": [
      "0 loss_value: 1690.8617 weight: [0.7665307] [0.993066] [0.07370443] bias: 0.80602914\n",
      "100 loss_value: 65.72305 weight: [1.116929] [1.4116998] [0.5639032] bias: 1.169436\n",
      "200 loss_value: 43.32111 weight: [1.0340263] [1.4228152] [0.7277618] bias: 1.0861304\n",
      "300 loss_value: 32.380836 weight: [0.9884485] [1.4026577] [0.87255853] bias: 1.0021306\n",
      "400 loss_value: 25.989828 weight: [0.97420615] [1.3556314] [0.9913457] bias: 0.9268595\n",
      "500 loss_value: 21.084888 weight: [0.9770795] [1.2951454] [1.0932484] bias: 0.8681914\n",
      "600 loss_value: 17.098324 weight: [0.9863702] [1.2312881] [1.1851133] bias: 0.8321332\n",
      "700 loss_value: 13.957342 weight: [0.99686074] [1.1695539] [1.2692034] bias: 0.8232428\n",
      "800 loss_value: 11.575519 weight: [1.0066121] [1.1124974] [1.3454008] bias: 0.84454226\n",
      "900 loss_value: 9.821877 weight: [1.0150335] [1.0611943] [1.4131228] bias: 0.89749587\n",
      "1000 loss_value: 8.551056 weight: [1.0219896] [1.0159682] [1.4721141] bias: 0.98214835\n",
      "1100 loss_value: 7.6280146 weight: [1.027507] [0.9766905] [1.5225942] bias: 1.097363\n",
      "1200 loss_value: 6.9407563 weight: [1.0316856] [0.94293225] [1.5651755] bias: 1.2411042\n",
      "1300 loss_value: 6.4044333 weight: [1.034669] [0.91407144] [1.6007371] bias: 1.41073\n",
      "1400 loss_value: 5.95963 weight: [1.0366237] [0.8893851] [1.6303004] bias: 1.6032665\n",
      "1500 loss_value: 5.567829 weight: [1.0377213] [0.8681238] [1.6549231] bias: 1.8156344\n",
      "1600 loss_value: 5.2058816 weight: [1.0381268] [0.8495687] [1.6756212] bias: 2.0448327\n",
      "1700 loss_value: 4.8610954 weight: [1.0379905] [0.8330736] [1.6933101] bias: 2.2880602\n",
      "1800 loss_value: 4.527268 weight: [1.0374421] [0.81808543] [1.708775] bias: 2.5427916\n",
      "1900 loss_value: 4.202023 weight: [1.0365891] [0.8041558] [1.7226559] bias: 2.8068001\n",
      "2000 loss_value: 3.8850143 weight: [1.0355175] [0.790938] [1.7354524] bias: 3.0781546\n",
      "2100 loss_value: 3.5768256 weight: [1.0342935] [0.7781778] [1.7475344] bias: 3.3551834\n",
      "2200 loss_value: 3.2784646 weight: [1.032966] [0.7656995] [1.7591622] bias: 3.6364384\n",
      "2300 loss_value: 2.9910014 weight: [1.0315714] [0.753392] [1.7705092] bias: 3.9206433\n",
      "2400 loss_value: 2.715525 weight: [1.0301354] [0.7411912] [1.7816801] bias: 4.206648\n",
      "2500 loss_value: 2.452938 weight: [1.0286754] [0.7290705] [1.7927309] bias: 4.493399\n",
      "2600 loss_value: 2.2040691 weight: [1.0272058] [0.7170258] [1.8036839] bias: 4.7799\n",
      "2700 loss_value: 1.9695246 weight: [1.0257351] [0.7050711] [1.8145379] bias: 5.0652027\n",
      "2800 loss_value: 1.7498348 weight: [1.0242709] [0.69322985] [1.8252791] bias: 5.348384\n",
      "2900 loss_value: 1.5453031 weight: [1.0228198] [0.6815312] [1.8358833] bias: 5.628539\n",
      "3000 loss_value: 1.3560807 weight: [1.0213865] [0.67000794] [1.8463242] bias: 5.9047832\n",
      "3100 loss_value: 1.182194 weight: [1.0199766] [0.65869313] [1.8565718] bias: 6.176246\n",
      "3200 loss_value: 1.0234659 weight: [1.0185943] [0.6476208] [1.8665965] bias: 6.4420834\n",
      "3300 loss_value: 0.8796398 weight: [1.0172447] [0.63682395] [1.8763684] bias: 6.7014704\n",
      "3400 loss_value: 0.7502595 weight: [1.0159317] [0.6263349] [1.8858594] bias: 6.953622\n",
      "3500 loss_value: 0.6347862 weight: [1.014659] [0.61618406] [1.8950416] bias: 7.197781\n",
      "3600 loss_value: 0.53256714 weight: [1.0134312] [0.6063997] [1.9038897] bias: 7.4332438\n",
      "3700 loss_value: 0.44284922 weight: [1.0122509] [0.59700894] [1.9123803] bias: 7.659355\n",
      "3800 loss_value: 0.36482495 weight: [1.0111221] [0.58803535] [1.9204919] bias: 7.8755116\n",
      "3900 loss_value: 0.2975923 weight: [1.0100473] [0.5795002] [1.9282055] bias: 8.081191\n",
      "4000 loss_value: 0.24024796 weight: [1.0090294] [0.57142204] [1.9355049] bias: 8.275932\n",
      "4100 loss_value: 0.19183853 weight: [1.0080699] [0.56381536] [1.9423772] bias: 8.459363\n",
      "4200 loss_value: 0.15143137 weight: [1.007171] [0.55669194] [1.948812] bias: 8.631195\n",
      "4300 loss_value: 0.11808741 weight: [1.0063332] [0.55005926] [1.954803] bias: 8.791233\n",
      "4400 loss_value: 0.09091363 weight: [1.0055575] [0.54392064] [1.9603468] bias: 8.939383\n",
      "4500 loss_value: 0.06905477 weight: [1.0048442] [0.5382755] [1.9654444] bias: 9.075639\n",
      "4600 loss_value: 0.051709227 weight: [1.004192] [0.5331196] [1.9700998] bias: 9.200112\n",
      "4700 loss_value: 0.03814396 weight: [1.0036007] [0.528444] [1.9743215] bias: 9.313001\n",
      "4800 loss_value: 0.027693525 weight: [1.0030683] [0.5242362] [1.9781206] bias: 9.414612\n",
      "4900 loss_value: 0.019776117 weight: [1.0025928] [0.5204794] [1.9815124] bias: 9.505339\n",
      "5000 loss_value: 0.013873989 weight: [1.0021719] [0.51715344] [1.9845152] bias: 9.585662\n",
      "5100 loss_value: 0.009555025 weight: [1.0018026] [0.51423526] [1.9871494] bias: 9.656145\n",
      "5200 loss_value: 0.006453736 weight: [1.0014813] [0.5116987] [1.9894395] bias: 9.717416\n",
      "5300 loss_value: 0.0042693643 weight: [1.0012048] [0.5095155] [1.99141] bias: 9.770149\n",
      "5400 loss_value: 0.0027640928 weight: [1.0009694] [0.5076563] [1.9930888] bias: 9.81506\n",
      "5500 loss_value: 0.0017489912 weight: [1.0007713] [0.5060903] [1.9945022] bias: 9.852888\n",
      "5600 loss_value: 0.0010801913 weight: [1.0006062] [0.5047864] [1.9956794] bias: 9.884381\n",
      "5700 loss_value: 0.00065052585 weight: [1.0004702] [0.503714] [1.9966471] bias: 9.910281\n",
      "5800 loss_value: 0.00038122205 weight: [1.0003603] [0.5028438] [1.9974331] bias: 9.931306\n",
      "5900 loss_value: 0.000217239 weight: [1.000272] [0.50214696] [1.9980619] bias: 9.948138\n",
      "6000 loss_value: 0.0001202533 weight: [1.0002023] [0.50159675] [1.9985584] bias: 9.961429\n",
      "6100 loss_value: 6.441751e-05 weight: [1.0001479] [0.5011691] [1.9989446] bias: 9.971758\n",
      "6200 loss_value: 3.3444565e-05 weight: [1.0001066] [0.5008419] [1.9992397] bias: 9.979661\n",
      "6300 loss_value: 1.673623e-05 weight: [1.0000753] [0.5005959] [1.9994622] bias: 9.985606\n",
      "6400 loss_value: 8.080926e-06 weight: [1.0000525] [0.50041395] [1.999626] bias: 9.989997\n",
      "6500 loss_value: 3.7530233e-06 weight: [1.0000358] [0.50028217] [1.9997451] bias: 9.993183\n",
      "6600 loss_value: 1.665682e-06 weight: [1.0000237] [0.5001885] [1.9998299] bias: 9.995451\n",
      "6700 loss_value: 7.1229005e-07 weight: [1.0000155] [0.500123] [1.999889] bias: 9.997028\n",
      "6800 loss_value: 2.9405345e-07 weight: [1.00001] [0.5000786] [1.999929] bias: 9.998102\n",
      "6900 loss_value: 1.11490955e-07 weight: [1.0000063] [0.500049] [1.9999558] bias: 9.998816\n",
      "7000 loss_value: 4.2986358e-08 weight: [1.0000037] [0.50003004] [1.9999732] bias: 9.999279\n",
      "7100 loss_value: 1.5052501e-08 weight: [1.0000019] [0.5000175] [1.9999841] bias: 9.999575\n",
      "7200 loss_value: 4.25207e-09 weight: [1.0000013] [0.50000995] [1.9999912] bias: 9.99976\n",
      "7300 loss_value: 1.4348188e-09 weight: [1.0000008] [0.5000059] [1.9999944] bias: 9.999855\n",
      "7400 loss_value: 3.958121e-10 weight: [1.0000004] [0.5000029] [1.9999975] bias: 9.999927\n",
      "7500 loss_value: 3.405148e-10 weight: [1.0000001] [0.50000244] [1.9999981] bias: 9.999938\n",
      "7600 loss_value: 2.939487e-10 weight: [1.0000001] [0.5000024] [1.9999981] bias: 9.999942\n",
      "7700 loss_value: 1.6880222e-10 weight: [1.0000005] [0.5000019] [1.9999982] bias: 9.99995\n",
      "7800 loss_value: 1.9790605e-10 weight: [1.0000002] [0.5000018] [1.9999985] bias: 9.999953\n",
      "7900 loss_value: 2.0081643e-10 weight: [1.0000002] [0.5000017] [1.9999985] bias: 9.999953\n",
      "8000 loss_value: 1.6589183e-10 weight: [1.0000002] [0.50000155] [1.9999989] bias: 9.999958\n",
      "8100 loss_value: 1.6880222e-10 weight: [1.0000002] [0.5000015] [1.9999988] bias: 9.999958\n",
      "8200 loss_value: 1.2223608e-10 weight: [1.0000002] [0.5000016] [1.999999] bias: 9.999958\n",
      "8300 loss_value: 1.3387762e-10 weight: [1.0000001] [0.50000155] [1.9999986] bias: 9.999967\n",
      "8400 loss_value: 5.820766e-11 weight: [1.0000001] [0.5000012] [1.999999] bias: 9.99997\n",
      "8500 loss_value: 2.4447216e-10 weight: [1.] [0.50000125] [1.9999987] bias: 9.999971\n",
      "8600 loss_value: 2.2700988e-10 weight: [1.0000002] [0.5000011] [1.9999995] bias: 9.999972\n",
      "8700 loss_value: 1.8626452e-10 weight: [0.9999999] [0.50000054] [1.9999995] bias: 9.999984\n",
      "8800 loss_value: 2.1245797e-10 weight: [0.99999994] [0.5000003] [1.9999996] bias: 9.999984\n",
      "8900 loss_value: 5.820766e-11 weight: [1.] [0.5000006] [1.9999998] bias: 9.999984\n",
      "9000 loss_value: 5.820766e-11 weight: [1.] [0.50000054] [1.9999995] bias: 9.999986\n",
      "9100 loss_value: 1.07684174e-10 weight: [1.] [0.50000054] [2.] bias: 9.999989\n",
      "9200 loss_value: 1.6589183e-10 weight: [1.0000001] [0.5000006] [2.] bias: 9.999989\n",
      "9300 loss_value: 1.5716069e-10 weight: [1.] [0.5000002] [1.9999998] bias: 9.9999895\n",
      "9400 loss_value: 1.2805686e-10 weight: [0.9999999] [0.5000002] [2.] bias: 9.99999\n",
      "9500 loss_value: 2.066372e-09 weight: [0.99999946] [0.49999967] [1.9999995] bias: 9.999997\n",
      "9600 loss_value: 0.0 weight: [1.] [0.5000002] [1.9999999] bias: 9.999998\n",
      "9700 loss_value: 0.0 weight: [1.] [0.5000002] [1.9999999] bias: 9.999998\n",
      "9800 loss_value: 0.0 weight: [1.] [0.5000002] [1.9999999] bias: 9.999998\n",
      "9900 loss_value: 0.0 weight: [1.] [0.5000002] [1.9999999] bias: 9.999998\n"
     ]
    }
   ],
   "source": [
    "#loss function 정의\n",
    "def loss_function():\n",
    "#w,b를 aprroximation하여 pred_y값을 도출하고 Mean squared error를 loss function으로 loss 값도출\n",
    "  pred_y = w1*label_x1+w2*label_x2+w3*label_x3+ b  # w*x는 행렬 곱셈 후, bias를 더하여 pred_y를 계산\n",
    "  cost = tf.reduce_mean(tf.square(pred_y - label_y)) #Mean squared error를 loss function으로 활용 \n",
    "  return cost\n",
    "\n",
    "\n",
    "optimizer = tf.optimizers.Adam(learning_rate=0.01) #보편적으로 가장 많이 사용하는 adam optimizer 활용\n",
    "for step in range(10000): #train\n",
    "    cost_val=optimizer.minimize(loss_function, var_list=[w1,w2,w3,b])\n",
    "    if step % 100 == 0:\n",
    "        print(step,\"loss_value:\", loss_function().numpy(), 'weight:', w1.numpy(),w2.numpy(),w3.numpy(), 'bias:', b.numpy()[0])\n"
   ]
  },
  {
   "cell_type": "markdown",
   "metadata": {},
   "source": [
    "## plot result"
   ]
  },
  {
   "cell_type": "code",
   "execution_count": 14,
   "metadata": {},
   "outputs": [
    {
     "name": "stdout",
     "output_type": "stream",
     "text": [
      "tf.Tensor([ 61.  54. 140.  91. 165.], shape=(5,), dtype=float32)\n"
     ]
    },
    {
     "data": {
      "image/png": "[encoded data removed]",
      "text/plain": [
       "<Figure size 432x288 with 1 Axes>"
      ]
     },
     "metadata": {
      "needs_background": "light"
     },
     "output_type": "display_data"
    },
    {
     "data": {
      "image/png": "[encoded data removed]",
      "text/plain": [
       "<Figure size 432x288 with 1 Axes>"
      ]
     },
     "metadata": {
      "needs_background": "light"
     },
     "output_type": "display_data"
    }
   ],
   "source": [
    "import matplotlib.pyplot as plt\n",
    "pred_y_list= w1*label_x1+w2*label_x2+w3*label_x3+ b#위에서 구한 weight와 bias값을 이용해 y값 prediction\n",
    "print(pred_y_list) #실제 y값과 비교\n",
    "data_number=[1,2,3,4,5]\n",
    "# original data plot\n",
    "plt.title(\"Orginal data\")\n",
    "plt.xlabel(\"data number\")\n",
    "plt.ylabel(\"Label Y value\")\n",
    "plt.plot(data_number, label_y, 'ro', label='Original data')\n",
    "plt.show()\n",
    "# predicted value plot\n",
    "plt.title(\"Predicted value\")\n",
    "plt.xlabel(\"data number\")\n",
    "plt.ylabel(\"Predicted Y value\")\n",
    "plt.plot(data_number, pred_y_list,'bo', label='Predicted data')\n",
    "plt.legend()\n",
    "plt.show()\n",
    "\n",
    "import matplotlib.pyplot as plt\n",
    "pred_y_list= w1*label_x1+w2*label_x2+w3*label_x3+ b#위에서 구한 weight와 bias값을 이용해 y값 prediction\n",
    "print(pred_y_list) #실제 y값과 비교\n",
    "data_number=[1,2,3,4,5]\n",
    "# original data plot\n",
    "plt.title(\"Orginal data\")\n",
    "plt.xlabel(\"data number\")\n",
    "plt.ylabel(\"Label Y value\")\n",
    "plt.plot(data_number, label_y, 'ro', label='Original data')\n",
    "plt.show()\n",
    "# predicted value plot\n",
    "plt.title(\"Predicted value\")\n",
    "plt.xlabel(\"data number\")\n",
    "plt.ylabel(\"Predicted Y value\")\n",
    "plt.plot(data_number, pred_y_list,'bo', label='Predicted data')\n",
    "plt.legend()\n",
    "plt.show()"
   ]
  },
  {
   "cell_type": "code",
   "execution_count": null,
   "metadata": {},
   "outputs": [],
   "source": []
  }
 ],
 "metadata": {
  "anaconda-cloud": {},
  "kernelspec": {
   "display_name": "Python 3",
   "language": "python",
   "name": "python3"
  },
  "language_info": {
   "codemirror_mode": {
    "name": "ipython",
    "version": 3
   },
   "file_extension": ".py",
   "mimetype": "text/x-python",
   "name": "python",
   "nbconvert_exporter": "python",
   "pygments_lexer": "ipython3",
   "version": "3.6.8"
  }
 },
 "nbformat": 4,
 "nbformat_minor": 4
}
