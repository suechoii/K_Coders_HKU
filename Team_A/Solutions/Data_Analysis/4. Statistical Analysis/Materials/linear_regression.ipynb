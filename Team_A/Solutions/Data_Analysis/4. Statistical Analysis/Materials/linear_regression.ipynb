{
 "cells": [
  {
   "cell_type": "markdown",
   "metadata": {},
   "source": [
    "# Linear Regression"
   ]
  },
  {
   "cell_type": "markdown",
   "metadata": {},
   "source": [
    "### linear regression 식인 y=wx+b에서 weight(w) 값과 bias(b) 값을 텐서플로우 구현하여 찾아보고자한다"
   ]
  },
  {
   "cell_type": "code",
   "execution_count": 4,
   "metadata": {},
   "outputs": [],
   "source": [
    "##tenssorflow==2.3 환경에서 구현  \n",
    "import tensorflow as tf\n",
    "# weigh와 bias 변수 설정\n",
    "w = tf.Variable(tf.random.uniform([1]))\n",
    "b = tf.Variable(tf.random.uniform([1]))\n",
    "\n",
    "#input 데이터와 ouput 데이터 설정\n",
    "label_x=[0,1,2,3,4,5,6,7] #input data\n",
    "label_y=[20,23,25,30,33,34,35,43] #output data   "
   ]
  },
  {
   "cell_type": "code",
   "execution_count": 5,
   "metadata": {},
   "outputs": [
    {
     "name": "stdout",
     "output_type": "stream",
     "text": [
      "0 loss_value: 889.8815 weight: 0.09211404 bias: 1.0053531\n",
      "100 loss_value: 631.24744 weight: 1.059268 bias: 1.9773453\n",
      "200 loss_value: 438.20703 weight: 1.9320893 bias: 2.8703668\n",
      "300 loss_value: 299.52423 weight: 2.7030582 bias: 3.6809254\n",
      "400 loss_value: 203.82365 weight: 3.3685362 bias: 4.4092574\n",
      "500 loss_value: 140.65863 weight: 3.9271193 bias: 5.0576706\n",
      "600 loss_value: 100.884155 weight: 4.3804207 bias: 5.630875\n",
      "700 loss_value: 76.95578 weight: 4.733559 bias: 6.13602\n",
      "800 loss_value: 63.06903 weight: 4.995119 bias: 6.582358\n",
      "900 loss_value: 55.094807 weight: 5.1765213 bias: 6.9805455\n",
      "1000 loss_value: 50.335373 weight: 5.2908826 bias: 7.3417273\n",
      "1100 loss_value: 47.178974 weight: 5.3516846 bias: 7.6766195\n",
      "1200 loss_value: 44.74837 weight: 5.37157 bias: 7.9947357\n",
      "1300 loss_value: 42.610672 weight: 5.361494 bias: 8.303916\n",
      "1400 loss_value: 40.574272 weight: 5.330289 bias: 8.61016\n",
      "1500 loss_value: 38.565575 weight: 5.284668 bias: 8.917725\n",
      "1600 loss_value: 36.563175 weight: 5.229434 bias: 9.229333\n",
      "1700 loss_value: 34.566273 weight: 5.167862 bias: 9.546519\n",
      "1800 loss_value: 32.581398 weight: 5.1020947 bias: 9.869924\n",
      "1900 loss_value: 30.617142 weight: 5.033487 bias: 10.19958\n",
      "2000 loss_value: 28.682394 weight: 4.962887 bias: 10.535118\n",
      "2100 loss_value: 26.785755 weight: 4.8908386 bias: 10.875919\n",
      "2200 loss_value: 24.93529 weight: 4.817712 bias: 11.221218\n",
      "2300 loss_value: 23.138483 weight: 4.7437887 bias: 11.570163\n",
      "2400 loss_value: 21.402136 weight: 4.6693068 bias: 11.921851\n",
      "2500 loss_value: 19.732344 weight: 4.594481 bias: 12.2753525\n",
      "2600 loss_value: 18.13445 weight: 4.5195246 bias: 12.629718\n",
      "2700 loss_value: 16.613022 weight: 4.4446316 bias: 12.98398\n",
      "2800 loss_value: 15.171839 weight: 4.3700185 bias: 13.337173\n",
      "2900 loss_value: 13.813827 weight: 4.295886 bias: 13.688329\n",
      "3000 loss_value: 12.541111 weight: 4.222438 bias: 14.036477\n",
      "3100 loss_value: 11.354986 weight: 4.1498756 bias: 14.380655\n",
      "3200 loss_value: 10.255955 weight: 4.078396 bias: 14.719905\n",
      "3300 loss_value: 9.243717 weight: 4.008196 bias: 15.053291\n",
      "3400 loss_value: 8.31724 weight: 3.9394665 bias: 15.379889\n",
      "3500 loss_value: 7.4747515 weight: 3.8723896 bias: 15.698808\n",
      "3600 loss_value: 6.713839 weight: 3.8071456 bias: 16.009184\n",
      "3700 loss_value: 6.031476 weight: 3.743903 bias: 16.31019\n",
      "3800 loss_value: 5.4241385 weight: 3.6828237 bias: 16.601032\n",
      "3900 loss_value: 4.887791 weight: 3.6240613 bias: 16.880981\n",
      "4000 loss_value: 4.418029 weight: 3.5677464 bias: 17.14936\n",
      "4100 loss_value: 4.0101547 weight: 3.51401 bias: 17.405558\n",
      "4200 loss_value: 3.659257 weight: 3.4629595 bias: 17.649025\n",
      "4300 loss_value: 3.3602848 weight: 3.4146895 bias: 17.879303\n",
      "4400 loss_value: 3.1081412 weight: 3.3692746 bias: 18.096022\n",
      "4500 loss_value: 2.8977861 weight: 3.3267703 bias: 18.298899\n",
      "4600 loss_value: 2.7242737 weight: 3.2872107 bias: 18.48776\n",
      "4700 loss_value: 2.5828788 weight: 3.2506096 bias: 18.662527\n",
      "4800 loss_value: 2.4691157 weight: 3.2169569 bias: 18.823244\n",
      "4900 loss_value: 2.378807 weight: 3.186219 bias: 18.970058\n",
      "5000 loss_value: 2.3081365 weight: 3.1583414 bias: 19.103224\n",
      "5100 loss_value: 2.2536592 weight: 3.133245 bias: 19.223116\n",
      "5200 loss_value: 2.2123246 weight: 3.110828 bias: 19.330214\n",
      "5300 loss_value: 2.1814923 weight: 3.0909727 bias: 19.42508\n",
      "5400 loss_value: 2.1588936 weight: 3.0735412 bias: 19.508366\n",
      "5500 loss_value: 2.1426415 weight: 3.0583787 bias: 19.580816\n",
      "5600 loss_value: 2.1311748 weight: 3.0453196 bias: 19.643217\n",
      "5700 loss_value: 2.1232576 weight: 3.034187 bias: 19.696413\n",
      "5800 loss_value: 2.1179051 weight: 3.0248 bias: 19.74127\n",
      "5900 loss_value: 2.1143754 weight: 3.0169773 bias: 19.77865\n",
      "6000 loss_value: 2.112098 weight: 3.0105362 bias: 19.809433\n",
      "6100 loss_value: 2.110669 weight: 3.0053012 bias: 19.834446\n",
      "6200 loss_value: 2.109797 weight: 3.0011034 bias: 19.854506\n",
      "6300 loss_value: 2.1092784 weight: 2.9977858 bias: 19.87036\n",
      "6400 loss_value: 2.108979 weight: 2.995202 bias: 19.882706\n",
      "6500 loss_value: 2.108813 weight: 2.9932227 bias: 19.892162\n",
      "6600 loss_value: 2.1087224 weight: 2.9917307 bias: 19.899292\n",
      "6700 loss_value: 2.1086748 weight: 2.9906266 bias: 19.904572\n",
      "6800 loss_value: 2.1086504 weight: 2.9898238 bias: 19.908405\n",
      "6900 loss_value: 2.1086416 weight: 2.9892516 bias: 19.911139\n",
      "7000 loss_value: 2.1086352 weight: 2.9888532 bias: 19.913046\n",
      "7100 loss_value: 2.1086323 weight: 2.9885814 bias: 19.914352\n",
      "7200 loss_value: 2.1086345 weight: 2.9884 bias: 19.915216\n",
      "7300 loss_value: 2.1086335 weight: 2.9882803 bias: 19.915775\n",
      "7400 loss_value: 2.1086316 weight: 2.988205 bias: 19.916136\n",
      "7500 loss_value: 2.1086295 weight: 2.988166 bias: 19.916327\n",
      "7600 loss_value: 2.1086307 weight: 2.988129 bias: 19.916502\n",
      "7700 loss_value: 2.1086318 weight: 2.9881258 bias: 19.916517\n",
      "7800 loss_value: 2.1086311 weight: 2.9881248 bias: 19.916523\n",
      "7900 loss_value: 2.10863 weight: 2.9881234 bias: 19.91653\n",
      "8000 loss_value: 2.1086287 weight: 2.9881225 bias: 19.916536\n",
      "8100 loss_value: 2.108632 weight: 2.98812 bias: 19.916544\n",
      "8200 loss_value: 2.1086323 weight: 2.9881191 bias: 19.91655\n",
      "8300 loss_value: 2.108632 weight: 2.9881184 bias: 19.916553\n",
      "8400 loss_value: 2.1086311 weight: 2.9881167 bias: 19.916561\n",
      "8500 loss_value: 2.1086304 weight: 2.9881163 bias: 19.916565\n",
      "8600 loss_value: 2.108632 weight: 2.9881148 bias: 19.91657\n",
      "8700 loss_value: 2.1086314 weight: 2.9881139 bias: 19.916576\n",
      "8800 loss_value: 2.108632 weight: 2.9881124 bias: 19.916582\n",
      "8900 loss_value: 2.1086326 weight: 2.9881115 bias: 19.916588\n",
      "9000 loss_value: 2.1086326 weight: 2.9881115 bias: 19.916588\n",
      "9100 loss_value: 2.10863 weight: 2.9881103 bias: 19.916594\n",
      "9200 loss_value: 2.1086328 weight: 2.9881089 bias: 19.9166\n",
      "9300 loss_value: 2.108632 weight: 2.9881086 bias: 19.916601\n",
      "9400 loss_value: 2.1086323 weight: 2.9881077 bias: 19.916605\n",
      "9500 loss_value: 2.108632 weight: 2.9881074 bias: 19.916607\n",
      "9600 loss_value: 2.108629 weight: 2.9881065 bias: 19.91661\n",
      "9700 loss_value: 2.108631 weight: 2.9881058 bias: 19.916615\n",
      "9800 loss_value: 2.1086311 weight: 2.9881055 bias: 19.916616\n",
      "9900 loss_value: 2.108632 weight: 2.9881048 bias: 19.91662\n"
     ]
    }
   ],
   "source": [
    "#loss function 정의\n",
    "def loss_function():\n",
    "#w,b를 aprroximation하여 pred_y값을 도출하고 Mean squared error를 loss function으로 loss 값도출\n",
    "  pred_y = w*label_x + b # y=wx+b 식 수립\n",
    "  cost = tf.reduce_mean(tf.square(pred_y - label_y)) #Mean squared error를 loss function으로 활용 \n",
    "  return cost\n",
    "\n",
    "\n",
    "optimizer = tf.optimizers.Adam(learning_rate=0.01) #보편적으로 가장 많이 사용하는 adam optimizer 활용\n",
    "for step in range(10000): #train\n",
    "    cost_val=optimizer.minimize(loss_function, var_list=[w,b])\n",
    "    if step % 100 == 0:\n",
    "        print(step,\"loss_value:\", loss_function().numpy(), 'weight:', w.numpy()[0], 'bias:', b.numpy()[0])\n"
   ]
  },
  {
   "cell_type": "markdown",
   "metadata": {},
   "source": [
    "## plot result"
   ]
  },
  {
   "cell_type": "code",
   "execution_count": 6,
   "metadata": {},
   "outputs": [
    {
     "data": {
      "image/png": "[encoded data removed]",
      "text/plain": [
       "<Figure size 432x288 with 1 Axes>"
      ]
     },
     "metadata": {
      "needs_background": "light"
     },
     "output_type": "display_data"
    }
   ],
   "source": [
    "import matplotlib.pyplot as plt\n",
    "pred_y_list=w*label_x+b #위에서 구한 weight와 bias값을 이용해 y값 prediction\n",
    "\n",
    "# original data plot\n",
    "plt.title(\"Orginal data vs Predicted value\")\n",
    "plt.xlabel(\"X value\")\n",
    "plt.ylabel(\"Y value\")\n",
    "plt.plot(label_x, label_y, 'ro', label='Original data')\n",
    "\n",
    "# predicted value plot\n",
    "plt.plot(label_x, pred_y_list,'b', label='Fitted line')\n",
    "plt.legend()\n",
    "plt.show()"
   ]
  },
  {
   "cell_type": "code",
   "execution_count": null,
   "metadata": {},
   "outputs": [],
   "source": []
  }
 ],
 "metadata": {
  "anaconda-cloud": {},
  "kernelspec": {
   "display_name": "Python 3",
   "language": "python",
   "name": "python3"
  },
  "language_info": {
   "codemirror_mode": {
    "name": "ipython",
    "version": 3
   },
   "file_extension": ".py",
   "mimetype": "text/x-python",
   "name": "python",
   "nbconvert_exporter": "python",
   "pygments_lexer": "ipython3",
   "version": "3.6.8"
  }
 },
 "nbformat": 4,
 "nbformat_minor": 4
}
