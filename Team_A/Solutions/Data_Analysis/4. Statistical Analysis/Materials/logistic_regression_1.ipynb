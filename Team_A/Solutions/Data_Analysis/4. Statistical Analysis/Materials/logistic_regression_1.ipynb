{
 "cells": [
  {
   "cell_type": "markdown",
   "metadata": {},
   "source": [
    "# Logistic Regression"
   ]
  },
  {
   "cell_type": "markdown",
   "metadata": {},
   "source": [
    "### logistic regression을 tensorflow로 구현하여 1d 데이터의 분류를 해보고자 한다."
   ]
  },
  {
   "cell_type": "code",
   "execution_count": 5,
   "metadata": {},
   "outputs": [],
   "source": [
    "##tenssorflow==2.3 환경에서 구현  \n",
    "import tensorflow as tf\n",
    "import numpy as np\n",
    "# weigh와 bias 변수 설정\n",
    "w = tf.Variable(tf.random.uniform([1,1]))\n",
    "b = tf.Variable(tf.random.uniform([1]))\n",
    "#10보다 작은 값은 0, 큰 값은 1인 데이터\n",
    "label_x=np.array([[2],[3],[4],[6],[8],[11],[13],[14],[15]],dtype=np.float32) #input data\n",
    "label_y=np.array([[0],[0],[0],[0],[0],[1],[1],[1],[1]],dtype=np.float32) #output data "
   ]
  },
  {
   "cell_type": "code",
   "execution_count": 6,
   "metadata": {},
   "outputs": [
    {
     "name": "stdout",
     "output_type": "stream",
     "text": [
      "0 loss_value: 2.2939072 weight: [0.7964869] bias: 0.42176628\n",
      "100 loss_value: 0.5561955 weight: [0.09693141] bias: -0.3960538\n",
      "200 loss_value: 0.46829975 weight: [0.15856151] bias: -0.8903931\n",
      "300 loss_value: 0.3926319 weight: [0.20990206] bias: -1.411483\n",
      "400 loss_value: 0.33229226 weight: [0.25961727] bias: -1.9122263\n",
      "500 loss_value: 0.2854466 weight: [0.30629107] bias: -2.380283\n",
      "600 loss_value: 0.24901465 weight: [0.3497142] bias: -2.8146822\n",
      "700 loss_value: 0.22029704 weight: [0.39013186] bias: -3.2184527\n",
      "800 loss_value: 0.19726034 weight: [0.42792308] bias: -3.5956388\n",
      "900 loss_value: 0.1784454 weight: [0.46347058] bias: -3.9501603\n",
      "1000 loss_value: 0.16281551 weight: [0.4971168] bias: -4.285464\n",
      "1100 loss_value: 0.14962953 weight: [0.5291539] bias: -4.6044664\n",
      "1200 loss_value: 0.1383507 weight: [0.5598275] bias: -4.909607\n",
      "1300 loss_value: 0.12858436 weight: [0.5893413] bias: -5.202912\n",
      "1400 loss_value: 0.12003562 weight: [0.61786604] bias: -5.486072\n",
      "1500 loss_value: 0.11248047 weight: [0.6455446] bias: -5.760507\n",
      "1600 loss_value: 0.10574615 weight: [0.67249763] bias: -6.027417\n",
      "1700 loss_value: 0.09969791 weight: [0.69882715] bias: -6.287819\n",
      "1800 loss_value: 0.09422877 weight: [0.7246213] bias: -6.542589\n",
      "1900 loss_value: 0.089253105 weight: [0.74995565] bias: -6.7924848\n",
      "2000 loss_value: 0.084701665 weight: [0.77489495] bias: -7.0381527\n",
      "2100 loss_value: 0.0805177 weight: [0.7994968] bias: -7.2801704\n",
      "2200 loss_value: 0.07665429 weight: [0.82381135] bias: -7.519043\n",
      "2300 loss_value: 0.07307243 weight: [0.8478832] bias: -7.7552166\n",
      "2400 loss_value: 0.06973937 weight: [0.87175155] bias: -7.9890857\n",
      "2500 loss_value: 0.06662744 weight: [0.8954515] bias: -8.221007\n",
      "2600 loss_value: 0.063713014 weight: [0.91901463] bias: -8.451299\n",
      "2700 loss_value: 0.060975976 weight: [0.9424692] bias: -8.680247\n",
      "2800 loss_value: 0.05839893 weight: [0.96584076] bias: -8.908111\n",
      "2900 loss_value: 0.055966873 weight: [0.98915255] bias: -9.135124\n",
      "3000 loss_value: 0.053666685 weight: [1.0124258] bias: -9.361504\n",
      "3100 loss_value: 0.05148688 weight: [1.0356796] bias: -9.587448\n",
      "3200 loss_value: 0.049417496 weight: [1.058931] bias: -9.8131275\n",
      "3300 loss_value: 0.0474499 weight: [1.0821939] bias: -10.038684\n",
      "3400 loss_value: 0.045575734 weight: [1.1054881] bias: -10.264327\n",
      "3500 loss_value: 0.043788426 weight: [1.1288244] bias: -10.490151\n",
      "3600 loss_value: 0.04208171 weight: [1.152214] bias: -10.716291\n",
      "3700 loss_value: 0.04045008 weight: [1.1756688] bias: -10.94286\n",
      "3800 loss_value: 0.038888562 weight: [1.1991992] bias: -11.169963\n",
      "3900 loss_value: 0.03739272 weight: [1.2228142] bias: -11.397701\n",
      "4000 loss_value: 0.03595853 weight: [1.2465223] bias: -11.626159\n",
      "4100 loss_value: 0.03458239 weight: [1.2703311] bias: -11.855417\n",
      "4200 loss_value: 0.033260964 weight: [1.294248] bias: -12.085552\n",
      "4300 loss_value: 0.031991318 weight: [1.3182788] bias: -12.3166275\n",
      "4400 loss_value: 0.030770686 weight: [1.3424293] bias: -12.548704\n",
      "4500 loss_value: 0.02959659 weight: [1.3667045] bias: -12.781836\n",
      "4600 loss_value: 0.02846677 weight: [1.391109] bias: -13.016071\n",
      "4700 loss_value: 0.02737909 weight: [1.4156466] bias: -13.251452\n",
      "4800 loss_value: 0.026331704 weight: [1.4403201] bias: -13.488016\n",
      "4900 loss_value: 0.025322713 weight: [1.4651334] bias: -13.725797\n",
      "5000 loss_value: 0.02435058 weight: [1.4900883] bias: -13.964822\n",
      "5100 loss_value: 0.023413725 weight: [1.5151865] bias: -14.2051115\n",
      "5200 loss_value: 0.022510735 weight: [1.5404303] bias: -14.446688\n",
      "5300 loss_value: 0.021640263 weight: [1.56582] bias: -14.689565\n",
      "5400 loss_value: 0.02080109 weight: [1.5913568] bias: -14.933755\n",
      "5500 loss_value: 0.019992046 weight: [1.617041] bias: -15.179262\n",
      "5600 loss_value: 0.019211998 weight: [1.6428723] bias: -15.426093\n",
      "5700 loss_value: 0.018459972 weight: [1.6688503] bias: -15.674246\n",
      "5800 loss_value: 0.017734945 weight: [1.6949749] bias: -15.923718\n",
      "5900 loss_value: 0.017035984 weight: [1.7212453] bias: -16.174511\n",
      "6000 loss_value: 0.016362198 weight: [1.7476593] bias: -16.426609\n",
      "6100 loss_value: 0.015712745 weight: [1.7742163] bias: -16.680002\n",
      "6200 loss_value: 0.015086856 weight: [1.8009144] bias: -16.934675\n",
      "6300 loss_value: 0.0144836735 weight: [1.8277515] bias: -17.190624\n",
      "6400 loss_value: 0.013902543 weight: [1.8547262] bias: -17.44782\n",
      "6500 loss_value: 0.013342695 weight: [1.8818356] bias: -17.706253\n",
      "6600 loss_value: 0.01280345 weight: [1.9090779] bias: -17.965895\n",
      "6700 loss_value: 0.012284156 weight: [1.93645] bias: -18.226732\n",
      "6800 loss_value: 0.011784105 weight: [1.9639492] bias: -18.488733\n",
      "6900 loss_value: 0.0113027645 weight: [1.9915732] bias: -18.75188\n",
      "7000 loss_value: 0.010839478 weight: [2.0193186] bias: -19.016144\n",
      "7100 loss_value: 0.0103936335 weight: [2.0471833] bias: -19.281506\n",
      "7200 loss_value: 0.009964711 weight: [2.0751636] bias: -19.547924\n",
      "7300 loss_value: 0.009552139 weight: [2.1032557] bias: -19.815384\n",
      "7400 loss_value: 0.009155392 weight: [2.1314573] bias: -20.08385\n",
      "7500 loss_value: 0.008773902 weight: [2.1597652] bias: -20.353296\n",
      "7600 loss_value: 0.0084071895 weight: [2.1881764] bias: -20.623693\n",
      "7700 loss_value: 0.0080547705 weight: [2.216688] bias: -20.895014\n",
      "7800 loss_value: 0.0077161365 weight: [2.245295] bias: -21.167223\n",
      "7900 loss_value: 0.007390807 weight: [2.2739959] bias: -21.440304\n",
      "8000 loss_value: 0.007078329 weight: [2.3027883] bias: -21.714216\n",
      "8100 loss_value: 0.006778284 weight: [2.3316665] bias: -21.988935\n",
      "8200 loss_value: 0.0064901914 weight: [2.3606288] bias: -22.264433\n",
      "8300 loss_value: 0.0062136888 weight: [2.3896723] bias: -22.540684\n",
      "8400 loss_value: 0.005948302 weight: [2.4187942] bias: -22.817656\n",
      "8500 loss_value: 0.005693649 weight: [2.4479897] bias: -23.095314\n",
      "8600 loss_value: 0.0054493872 weight: [2.4772587] bias: -23.373652\n",
      "8700 loss_value: 0.005215068 weight: [2.5065958] bias: -23.652624\n",
      "8800 loss_value: 0.0049903626 weight: [2.5359993] bias: -23.93221\n",
      "8900 loss_value: 0.0047749043 weight: [2.5654662] bias: -24.212389\n",
      "9000 loss_value: 0.0045683845 weight: [2.5949955] bias: -24.493135\n",
      "9100 loss_value: 0.0043703895 weight: [2.6245825] bias: -24.774426\n",
      "9200 loss_value: 0.004180665 weight: [2.6542234] bias: -25.056229\n",
      "9300 loss_value: 0.003998869 weight: [2.6839192] bias: -25.338526\n",
      "9400 loss_value: 0.0038246666 weight: [2.7136652] bias: -25.621302\n",
      "9500 loss_value: 0.0036578034 weight: [2.7434611] bias: -25.904528\n",
      "9600 loss_value: 0.0034979815 weight: [2.7733026] bias: -26.18818\n",
      "9700 loss_value: 0.0033449307 weight: [2.8031888] bias: -26.472246\n",
      "9800 loss_value: 0.0031983817 weight: [2.8331156] bias: -26.756699\n",
      "9900 loss_value: 0.0030580603 weight: [2.8630834] bias: -27.041529\n"
     ]
    }
   ],
   "source": [
    "#loss function 정의\n",
    "def loss_function():\n",
    "#sigmoid function으로 pred_y값을 도출하고 cross entropy loss를 loss function으로 loss 값도출\n",
    "  z= tf.matmul(label_x,w)+b\n",
    "  pred_y = tf.sigmoid(z)\n",
    "  cost = -tf.reduce_mean(label_y * tf.math.log(pred_y) + (1 - label_y) * tf.math.log(1 - pred_y))#cross entropy loss를 loss function으로 활용\n",
    "  return cost\n",
    "optimizer = tf.optimizers.Adam(learning_rate=0.01) #보편적으로 가장 많이 사용하는 adam optimizer 활용\n",
    "\n",
    "for step in range(10000): #train\n",
    "    cost_val=optimizer.minimize(loss_function, var_list=[w,b])\n",
    "    if step % 100 == 0:\n",
    "        print(step,\"loss_value:\", loss_function().numpy(), 'weight:', w.numpy()[0], 'bias:', b.numpy()[0])"
   ]
  },
  {
   "cell_type": "code",
   "execution_count": 7,
   "metadata": {},
   "outputs": [
    {
     "name": "stdout",
     "output_type": "stream",
     "text": [
      "accuracy: 1.0\n"
     ]
    }
   ],
   "source": [
    "#최종 train accuracy 측정\n",
    "pred_y = tf.sigmoid(tf.matmul(label_x,w)+b)\n",
    "pred_final = tf.cast(pred_y > 0.5,dtype=tf.float32) #0,1로 구성된 모델이 예측한 데이터\n",
    "accuracy = tf.reduce_mean(tf.cast(tf.equal(pred_final,label_y),dtype=tf.float32))\n",
    "print(\"accuracy:\", accuracy.numpy())"
   ]
  },
  {
   "cell_type": "markdown",
   "metadata": {},
   "source": [
    "## predict"
   ]
  },
  {
   "cell_type": "code",
   "execution_count": 8,
   "metadata": {},
   "outputs": [
    {
     "name": "stdout",
     "output_type": "stream",
     "text": [
      "accuracy: 1.0\n"
     ]
    }
   ],
   "source": [
    "#test data 설정 및 학습한 모델로 predict\n",
    "test_x=np.array([[1],[16]],dtype=np.float32) \n",
    "test_y=np.array([[0],[1]],dtype=np.float32)\n",
    "\n",
    "test_pred= tf.sigmoid(tf.matmul(test_x,w)+b)\n",
    "test_pred_final= tf.cast(test_pred > 0.5,dtype=tf.float32) #0,1로 구성된 모델이 예측한 데이터\n",
    "test_accuracy = tf.reduce_mean(tf.cast(tf.equal(test_pred_final,test_y),dtype=tf.float32)) #test_accuracy\n",
    "print(\"accuracy:\", test_accuracy.numpy())"
   ]
  },
  {
   "cell_type": "markdown",
   "metadata": {},
   "source": [
    "## plot result"
   ]
  },
  {
   "cell_type": "code",
   "execution_count": 10,
   "metadata": {},
   "outputs": [
    {
     "data": {
      "image/png": "[encoded data removed]",
      "text/plain": [
       "<Figure size 432x288 with 1 Axes>"
      ]
     },
     "metadata": {
      "needs_background": "light"
     },
     "output_type": "display_data"
    },
    {
     "data": {
      "image/png": "[encoded data removed]",
      "text/plain": [
       "<Figure size 432x288 with 1 Axes>"
      ]
     },
     "metadata": {
      "needs_background": "light"
     },
     "output_type": "display_data"
    }
   ],
   "source": [
    "import matplotlib.pyplot as plt\n",
    "test_pred_final=np.array(test_pred_final)\n",
    "pred_final=np.array(pred_final)\n",
    "\n",
    "#시각화를 위해 label y가 0인 데이터와 1인 데이터를 분리한 후, 결과 plot\n",
    "label_x_0=label_x[label_y==0] \n",
    "label_x_1=label_x[label_y==1]\n",
    "label_y_0=label_y[label_y==0] \n",
    "label_y_1=label_y[label_y==1]\n",
    "# original data plot\n",
    "plt.title(\"Original data\")\n",
    "plt.xlabel(\"X value\")\n",
    "plt.ylabel(\"Y value\")\n",
    "plt.plot(label_x_0, label_y_0, 'ro', label='y=0 train data')\n",
    "plt.plot(label_x_1, label_y_1,'bo', label='y=1 train data')\n",
    "plt.plot(test_x, test_y,'go', label='test data')\n",
    "plt.legend()\n",
    "plt.show()\n",
    "\n",
    "pred_final_0=pred_final[pred_final==0]\n",
    "pred_final_1=pred_final[pred_final==1]\n",
    "\n",
    "\n",
    "test_pred_x_0=test_x[test_pred_final==0]\n",
    "test_pred_x_1=test_x[test_pred_final==1]\n",
    "test_pred_final_0=test_pred_final[test_pred_final==0]\n",
    "test_pred_final_1=test_pred_final[test_pred_final==1]\n",
    "# preidicted value plot\n",
    "plt.title(\"Predicted value\")\n",
    "plt.xlabel(\"X value\")\n",
    "plt.ylabel(\"Y value\")\n",
    "plt.plot(label_x_0, pred_final_0, 'yo', label='y=0 value')\n",
    "plt.plot(label_x_1, pred_final_1,'mo', label='y=1 value')\n",
    "plt.plot(test_pred_x_0, test_pred_final_0,'yo')\n",
    "plt.plot(test_pred_x_1, test_pred_final_1,'mo')\n",
    "plt.legend()\n",
    "plt.show()"
   ]
  },
  {
   "cell_type": "code",
   "execution_count": null,
   "metadata": {},
   "outputs": [],
   "source": []
  }
 ],
 "metadata": {
  "anaconda-cloud": {},
  "kernelspec": {
   "display_name": "Python 3",
   "language": "python",
   "name": "python3"
  },
  "language_info": {
   "codemirror_mode": {
    "name": "ipython",
    "version": 3
   },
   "file_extension": ".py",
   "mimetype": "text/x-python",
   "name": "python",
   "nbconvert_exporter": "python",
   "pygments_lexer": "ipython3",
   "version": "3.6.8"
  }
 },
 "nbformat": 4,
 "nbformat_minor": 4
}
