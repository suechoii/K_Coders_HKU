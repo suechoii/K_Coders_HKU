{
 "cells": [
  {
   "cell_type": "markdown",
   "metadata": {},
   "source": [
    "# Logistic Regression"
   ]
  },
  {
   "cell_type": "markdown",
   "metadata": {},
   "source": [
    "### logistic regression을 tensorflow로 구현하여 여러 차원 데이터의 분류를 해보고자 한다."
   ]
  },
  {
   "cell_type": "code",
   "execution_count": 83,
   "metadata": {},
   "outputs": [],
   "source": [
    "##tenssorflow==2.3 환경에서 구현  \n",
    "import tensorflow as tf\n",
    "import numpy as np\n",
    "# weigh와 bias 변수 설정\n",
    "w = tf.Variable(tf.random.uniform([2,1]))\n",
    "b = tf.Variable(tf.random.uniform([1]))\n",
    "#2D 데이터에서 특정 직선 이상의 값은 1,이하는 0인 데이터\n",
    "label_x=np.array([[2,1],[3,1],[4,3],[6,5],[8,4],[11,8],[13,8],[14,9],[15,10]],dtype=np.float32) #input data\n",
    "label_y=np.array([[0],[0],[0],[0],[0],[1],[1],[1],[1]],dtype=np.float32) #output data "
   ]
  },
  {
   "cell_type": "code",
   "execution_count": 84,
   "metadata": {},
   "outputs": [
    {
     "name": "stdout",
     "output_type": "stream",
     "text": [
      "[ 2.  3.  4.  6.  8. 11. 13. 14. 15.]\n"
     ]
    },
    {
     "data": {
      "image/png": "[encoded data removed]",
      "text/plain": [
       "<Figure size 432x288 with 1 Axes>"
      ]
     },
     "metadata": {
      "needs_background": "light"
     },
     "output_type": "display_data"
    }
   ],
   "source": [
    "import matplotlib.pyplot as plt\n",
    "t=label_x[:,0]\n",
    "print(t)\n",
    "c=label_x[:,1]\n",
    "plt.plot(t,c, 'yo', label='y=0 value')\n",
    "plt.show()"
   ]
  },
  {
   "cell_type": "code",
   "execution_count": 85,
   "metadata": {},
   "outputs": [
    {
     "name": "stdout",
     "output_type": "stream",
     "text": [
      "0 loss_value: 2.2123218 weight: [0.5910273] [0.2415994] bias: 0.53903186\n",
      "100 loss_value: 0.6017504 weight: [0.1718874] [-0.12260365] bias: -0.19914189\n",
      "200 loss_value: 0.4794584 weight: [0.1644548] [-0.01206788] bias: -0.8255329\n",
      "300 loss_value: 0.38431287 weight: [0.15397643] [0.09465483] bias: -1.4322892\n",
      "400 loss_value: 0.3150078 weight: [0.14659132] [0.189735] bias: -1.9871627\n",
      "500 loss_value: 0.2643682 weight: [0.14317004] [0.27135983] bias: -2.4904025\n",
      "600 loss_value: 0.22638161 weight: [0.14338264] [0.34099975] bias: -2.9497838\n",
      "700 loss_value: 0.1970048 weight: [0.14652796] [0.40087187] bias: -3.373388\n",
      "800 loss_value: 0.17364205 weight: [0.15188937] [0.4530545] bias: -3.767897\n",
      "900 loss_value: 0.15461451 weight: [0.15885195] [0.49926338] bias: -4.1385145\n",
      "1000 loss_value: 0.13880828 weight: [0.16692522] [0.54084736] bias: -4.4892464\n",
      "1100 loss_value: 0.12546149 weight: [0.1757335] [0.5788446] bias: -4.8231974\n",
      "1200 loss_value: 0.11403712 weight: [0.18499689] [0.6140463] bias: -5.142807\n",
      "1300 loss_value: 0.10414612 weight: [0.19451152] [0.6470524] bias: -5.4500213\n",
      "1400 loss_value: 0.09549964 weight: [0.2041321] [0.67831707] bias: -5.746415\n",
      "1500 loss_value: 0.08787841 weight: [0.21375847] [0.70818424] bias: -6.0332804\n",
      "1600 loss_value: 0.08111283 weight: [0.22332308] [0.736914] bias: -6.3116918\n",
      "1700 loss_value: 0.07506942 weight: [0.23278312] [0.7647047] bias: -6.5825586\n",
      "1800 loss_value: 0.06964174 weight: [0.24211247] [0.7917075] bias: -6.846644\n",
      "1900 loss_value: 0.064743586 weight: [0.25129795] [0.8180387] bias: -7.104609\n",
      "2000 loss_value: 0.0603043 weight: [0.26033464] [0.84378904] bias: -7.3570266\n",
      "2100 loss_value: 0.056265566 weight: [0.26922378] [0.86902946] bias: -7.6043954\n",
      "2200 loss_value: 0.052578676 weight: [0.27796936] [0.89381593] bias: -7.8471475\n",
      "2300 loss_value: 0.049202587 weight: [0.2865787] [0.9181942] bias: -8.08567\n",
      "2400 loss_value: 0.046102278 weight: [0.29505977] [0.94220203] bias: -8.320311\n",
      "2500 loss_value: 0.043248042 weight: [0.3034211] [0.9658706] bias: -8.551372\n",
      "2600 loss_value: 0.040614214 weight: [0.31167158] [0.98922646] bias: -8.779128\n",
      "2700 loss_value: 0.038178574 weight: [0.31982] [1.0122923] bias: -9.003828\n",
      "2800 loss_value: 0.035921786 weight: [0.32787454] [1.0350882] bias: -9.225697\n",
      "2900 loss_value: 0.03382699 weight: [0.3358427] [1.057632] bias: -9.444934\n",
      "3000 loss_value: 0.031879198 weight: [0.34373212] [1.0799406] bias: -9.661733\n",
      "3100 loss_value: 0.030065391 weight: [0.35154903] [1.1020277] bias: -9.876256\n",
      "3200 loss_value: 0.028373824 weight: [0.35929993] [1.123907] bias: -10.088663\n",
      "3300 loss_value: 0.026794283 weight: [0.36699063] [1.1455903] bias: -10.299095\n",
      "3400 loss_value: 0.025317412 weight: [0.37462607] [1.1670899] bias: -10.507685\n",
      "3500 loss_value: 0.023934994 weight: [0.3822111] [1.1884159] bias: -10.714555\n",
      "3600 loss_value: 0.02263957 weight: [0.3897501] [1.209578] bias: -10.919815\n",
      "3700 loss_value: 0.021424398 weight: [0.3972471] [1.2305862] bias: -11.123574\n",
      "3800 loss_value: 0.020283502 weight: [0.40470555] [1.2514486] bias: -11.325926\n",
      "3900 loss_value: 0.01921134 weight: [0.41212904] [1.2721736] bias: -11.526961\n",
      "4000 loss_value: 0.018202983 weight: [0.41952065] [1.292769] bias: -11.726763\n",
      "4100 loss_value: 0.017253831 weight: [0.4268829] [1.3132417] bias: -11.92541\n",
      "4200 loss_value: 0.016359773 weight: [0.43421888] [1.3335987] bias: -12.122977\n",
      "4300 loss_value: 0.015517052 weight: [0.44153073] [1.3538461] bias: -12.31953\n",
      "4400 loss_value: 0.014722209 weight: [0.44882062] [1.3739905] bias: -12.515133\n",
      "4500 loss_value: 0.013972063 weight: [0.45609096] [1.394037] bias: -12.709845\n",
      "4600 loss_value: 0.013263645 weight: [0.46334347] [1.4139912] bias: -12.903724\n",
      "4700 loss_value: 0.012594314 weight: [0.47058004] [1.4338583] bias: -13.096823\n",
      "4800 loss_value: 0.011961593 weight: [0.47780222] [1.4536427] bias: -13.289189\n",
      "4900 loss_value: 0.01136317 weight: [0.48501182] [1.4733493] bias: -13.48087\n",
      "5000 loss_value: 0.010796962 weight: [0.4922103] [1.4929821] bias: -13.671906\n",
      "5100 loss_value: 0.010260995 weight: [0.49939838] [1.5125452] bias: -13.862342\n",
      "5200 loss_value: 0.009753438 weight: [0.50657856] [1.5320419] bias: -14.052214\n",
      "5300 loss_value: 0.009272573 weight: [0.51375073] [1.5514761] bias: -14.241558\n",
      "5400 loss_value: 0.008816902 weight: [0.5209165] [1.5708522] bias: -14.43041\n",
      "5500 loss_value: 0.008384916 weight: [0.52807754] [1.5901713] bias: -14.618801\n",
      "5600 loss_value: 0.007975256 weight: [0.535234] [1.6094377] bias: -14.806761\n",
      "5700 loss_value: 0.0075866524 weight: [0.5423874] [1.6286536] bias: -14.994318\n",
      "5800 loss_value: 0.007217886 weight: [0.5495382] [1.6478224] bias: -15.181499\n",
      "5900 loss_value: 0.0068679284 weight: [0.5566874] [1.6669465] bias: -15.368328\n",
      "6000 loss_value: 0.0065356707 weight: [0.5638356] [1.6860275] bias: -15.55483\n",
      "6100 loss_value: 0.0062201656 weight: [0.57098395] [1.7050676] bias: -15.741027\n",
      "6200 loss_value: 0.005920483 weight: [0.57813394] [1.7240685] bias: -15.926941\n",
      "6300 loss_value: 0.0056358087 weight: [0.58528394] [1.743033] bias: -16.112581\n",
      "6400 loss_value: 0.0053652693 weight: [0.592437] [1.761965] bias: -16.297997\n",
      "6500 loss_value: 0.005108193 weight: [0.59959126] [1.7808621] bias: -16.483166\n",
      "6600 loss_value: 0.0048638177 weight: [0.6067488] [1.7997291] bias: -16.66813\n",
      "6700 loss_value: 0.0046314783 weight: [0.6139101] [1.8185664] bias: -16.852905\n",
      "6800 loss_value: 0.0044105183 weight: [0.6210765] [1.8373774] bias: -17.037508\n",
      "6900 loss_value: 0.004200391 weight: [0.6282467] [1.8561603] bias: -17.221949\n",
      "7000 loss_value: 0.004000565 weight: [0.6354203] [1.8749169] bias: -17.406204\n",
      "7100 loss_value: 0.0038104372 weight: [0.6425993] [1.8936508] bias: -17.590332\n",
      "7200 loss_value: 0.0036295322 weight: [0.6497872] [1.9123634] bias: -17.774366\n",
      "7300 loss_value: 0.0034574436 weight: [0.6569776] [1.93105] bias: -17.958235\n",
      "7400 loss_value: 0.003293653 weight: [0.6641766] [1.9497188] bias: -18.142029\n",
      "7500 loss_value: 0.0031377967 weight: [0.67138094] [1.968366] bias: -18.325706\n",
      "7600 loss_value: 0.0029893846 weight: [0.67859423] [1.9869962] bias: -18.509329\n",
      "7700 loss_value: 0.0028481819 weight: [0.68581235] [2.0056047] bias: -18.692816\n",
      "7800 loss_value: 0.0027136744 weight: [0.6930411] [2.0242019] bias: -18.876303\n",
      "7900 loss_value: 0.002585668 weight: [0.700275] [2.0427809] bias: -19.05969\n",
      "8000 loss_value: 0.002463777 weight: [0.70751643] [2.061339] bias: -19.242987\n",
      "8100 loss_value: 0.0023476956 weight: [0.7147674] [2.079886] bias: -19.426283\n",
      "8200 loss_value: 0.0022371323 weight: [0.7220311] [2.0984209] bias: -19.60958\n",
      "8300 loss_value: 0.0021318297 weight: [0.7293023] [2.116943] bias: -19.792824\n",
      "8400 loss_value: 0.002031597 weight: [0.7365753] [2.1354423] bias: -19.97593\n",
      "8500 loss_value: 0.0019360973 weight: [0.7438576] [2.1539316] bias: -20.159035\n",
      "8600 loss_value: 0.0018451408 weight: [0.75115234] [2.1724088] bias: -20.34214\n",
      "8700 loss_value: 0.0017584916 weight: [0.75845635] [2.1908767] bias: -20.525246\n",
      "8800 loss_value: 0.0016759204 weight: [0.76577264] [2.209333] bias: -20.708351\n",
      "8900 loss_value: 0.0015972654 weight: [0.77309614] [2.2277777] bias: -20.891457\n",
      "9000 loss_value: 0.0015223175 weight: [0.78043085] [2.2462134] bias: -21.074562\n",
      "9100 loss_value: 0.0014509221 weight: [0.7877756] [2.26464] bias: -21.257668\n",
      "9200 loss_value: 0.0013828975 weight: [0.79512876] [2.2830555] bias: -21.440773\n",
      "9300 loss_value: 0.001318069 weight: [0.802492] [2.3014586] bias: -21.623878\n",
      "9400 loss_value: 0.001256322 weight: [0.8098645] [2.3198562] bias: -21.806984\n",
      "9500 loss_value: 0.0011974627 weight: [0.8172475] [2.3382409] bias: -21.99009\n",
      "9600 loss_value: 0.0011413964 weight: [0.82463837] [2.356618] bias: -22.173195\n",
      "9700 loss_value: 0.0010879026 weight: [0.83204556] [2.3749917] bias: -22.356424\n",
      "9800 loss_value: 0.0010369605 weight: [0.8394671] [2.3933613] bias: -22.53972\n",
      "9900 loss_value: 0.0009884029 weight: [0.84689677] [2.4117215] bias: -22.723017\n"
     ]
    }
   ],
   "source": [
    "#loss function 정의\n",
    "def loss_function():\n",
    "#sigmoid function으로 pred_y값을 도출하고 cross entropy loss를 loss function으로 loss 값도출\n",
    "  z= tf.matmul(label_x,w)+b\n",
    "  pred_y = tf.sigmoid(z)\n",
    "  cost = -tf.reduce_mean(label_y * tf.math.log(pred_y) + (1 - label_y) * tf.math.log(1 - pred_y))#cross entropy loss를 loss function으로 활용\n",
    "  return cost\n",
    "optimizer = tf.optimizers.Adam(learning_rate=0.01) #보편적으로 가장 많이 사용하는 adam optimizer 활용\n",
    "\n",
    "for step in range(10000): #train\n",
    "    cost_val=optimizer.minimize(loss_function, var_list=[w,b])\n",
    "    if step % 100 == 0:\n",
    "        print(step,\"loss_value:\", loss_function().numpy(), 'weight:', w.numpy()[0], w.numpy()[1], 'bias:', b.numpy()[0])"
   ]
  },
  {
   "cell_type": "code",
   "execution_count": 86,
   "metadata": {},
   "outputs": [
    {
     "name": "stdout",
     "output_type": "stream",
     "text": [
      "accuracy: 1.0\n",
      "tf.Tensor(\n",
      "[[0.]\n",
      " [0.]\n",
      " [0.]\n",
      " [0.]\n",
      " [0.]\n",
      " [1.]\n",
      " [1.]\n",
      " [1.]\n",
      " [1.]], shape=(9, 1), dtype=float32)\n"
     ]
    }
   ],
   "source": [
    "#최종 train accuracy 측정\n",
    "pred_y = tf.sigmoid(tf.matmul(label_x,w)+b)\n",
    "pred_final = tf.cast(pred_y > 0.5,dtype=tf.float32) #0,1로 구성된 모델이 예측한 데이터\n",
    "accuracy = tf.reduce_mean(tf.cast(tf.equal(pred_final,label_y),dtype=tf.float32))\n",
    "print(\"accuracy:\", accuracy.numpy())\n",
    "print(pred_final)"
   ]
  },
  {
   "cell_type": "markdown",
   "metadata": {},
   "source": [
    "## predict"
   ]
  },
  {
   "cell_type": "code",
   "execution_count": 87,
   "metadata": {},
   "outputs": [
    {
     "name": "stdout",
     "output_type": "stream",
     "text": [
      "accuracy: 1.0\n"
     ]
    }
   ],
   "source": [
    "#test data 설정 및 학습한 모델로 predict\n",
    "test_x=np.array([[6,4],[12,6]],dtype=np.float32) \n",
    "test_y=np.array([[0],[1]],dtype=np.float32)\n",
    "\n",
    "test_pred= tf.sigmoid(tf.matmul(test_x,w)+b)\n",
    "test_pred_final= tf.cast(test_pred > 0.5,dtype=tf.float32) #0,1로 구성된 모델이 예측한 데이터\n",
    "test_accuracy = tf.reduce_mean(tf.cast(tf.equal(test_pred_final,test_y),dtype=tf.float32)) #test_accuracy\n",
    "print(\"accuracy:\", test_accuracy.numpy())"
   ]
  },
  {
   "cell_type": "markdown",
   "metadata": {},
   "source": [
    "## plot result"
   ]
  },
  {
   "cell_type": "code",
   "execution_count": 92,
   "metadata": {},
   "outputs": [
    {
     "data": {
      "image/png": "[encoded data removed]",
      "text/plain": [
       "<Figure size 432x288 with 1 Axes>"
      ]
     },
     "metadata": {
      "needs_background": "light"
     },
     "output_type": "display_data"
    },
    {
     "data": {
      "image/png": "[encoded data removed]",
      "text/plain": [
       "<Figure size 432x288 with 1 Axes>"
      ]
     },
     "metadata": {
      "needs_background": "light"
     },
     "output_type": "display_data"
    }
   ],
   "source": [
    "import matplotlib.pyplot as plt\n",
    "test_pred_final=np.array(test_pred_final)\n",
    "pred_final=np.array(pred_final)\n",
    "#label_x,test_x 데이터에서 x축, y축 데이터 분리\n",
    "label_x_x1=label_x[:,0]\n",
    "label_x_y1=label_x[:,1]\n",
    "\n",
    "test_x_x1=test_x[:,0]\n",
    "test_x_y1=test_x[:,1]\n",
    "\n",
    "#시각화를 위해 label y가 0인 데이터와 1인 데이터를 분리한 후, 결과 plot\n",
    "label_y=np.squeeze(label_y)\n",
    "test_pred_final=np.squeeze(test_pred_final)\n",
    "pred_final=np.squeeze(pred_final)\n",
    "\n",
    "label_x_x1_0=label_x_x1[label_y==0] \n",
    "label_x_x1_1=label_x_x1[label_y==1]\n",
    "label_x_y1_0=label_x_y1[label_y==0] \n",
    "label_x_y1_1=label_x_y1[label_y==1]\n",
    "# original data plot\n",
    "plt.title(\"Original data\")\n",
    "plt.xlabel(\"X value\")\n",
    "plt.ylabel(\"Y value\")\n",
    "plt.plot(label_x_x1_0, label_x_y1_0, 'ro', label='y=0 train data')\n",
    "plt.plot(label_x_x1_1, label_x_y1_1,'bo', label='y=1 train data')\n",
    "plt.plot(test_x_x1, test_x_y1,'go', label='test data')\n",
    "plt.legend()\n",
    "plt.show()\n",
    "\n",
    "\n",
    "pred_x_x1_0=label_x_x1[pred_final==0] \n",
    "pred_x_x1_1=label_x_x1[pred_final==1]\n",
    "pred_x_y1_0=label_x_y1[pred_final==0] \n",
    "pred_x_y1_1=label_x_y1[pred_final==1]\n",
    "\n",
    "pred_test_x_x1_0=test_x_x1[test_pred_final==0]\n",
    "pred_test_x_x1_1=test_x_x1[test_pred_final==1]\n",
    "pred_test_x_y1_0=test_x_y1[test_pred_final==0]\n",
    "pred_test_x_y1_1=test_x_y1[test_pred_final==1]\n",
    "\n",
    "# preidicted value plot\n",
    "plt.title(\"Predicted value\")\n",
    "plt.xlabel(\"X value\")\n",
    "plt.ylabel(\"Y value\")\n",
    "plt.plot(pred_x_x1_0, pred_x_y1_0, 'yo', label='y=0 value')\n",
    "plt.plot(pred_x_x1_1, pred_x_y1_1,'mo', label='y=1 value')\n",
    "plt.plot(pred_test_x_x1_0, pred_test_x_y1_0,'yo')\n",
    "plt.plot(pred_test_x_x1_1, pred_test_x_y1_1,'mo')\n",
    "plt.legend()\n",
    "plt.show()"
   ]
  },
  {
   "cell_type": "code",
   "execution_count": null,
   "metadata": {},
   "outputs": [],
   "source": []
  }
 ],
 "metadata": {
  "anaconda-cloud": {},
  "kernelspec": {
   "display_name": "Python 3",
   "language": "python",
   "name": "python3"
  },
  "language_info": {
   "codemirror_mode": {
    "name": "ipython",
    "version": 3
   },
   "file_extension": ".py",
   "mimetype": "text/x-python",
   "name": "python",
   "nbconvert_exporter": "python",
   "pygments_lexer": "ipython3",
   "version": "3.6.8"
  }
 },
 "nbformat": 4,
 "nbformat_minor": 4
}
