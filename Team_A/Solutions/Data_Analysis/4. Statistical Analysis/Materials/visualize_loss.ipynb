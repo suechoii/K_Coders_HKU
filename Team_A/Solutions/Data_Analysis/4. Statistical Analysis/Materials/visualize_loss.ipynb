{
 "cells": [
  {
   "cell_type": "markdown",
   "metadata": {},
   "source": [
    "# Linear Regression-loss 시각화"
   ]
  },
  {
   "cell_type": "markdown",
   "metadata": {},
   "source": [
    "### linear regression 식인 y=wx+b에서 weight(w) 값과 bias(b) 값을 텐서플로우 구현한 후, loss 그래프를 시각화"
   ]
  },
  {
   "cell_type": "code",
   "execution_count": 8,
   "metadata": {},
   "outputs": [],
   "source": [
    "##tenssorflow==2.3 환경에서 구현  \n",
    "import tensorflow as tf\n",
    "# weigh와 bias 변수 설정\n",
    "w = tf.Variable(tf.random.uniform([1]))\n",
    "b = tf.Variable(tf.random.uniform([1]))\n",
    "\n",
    "#input 데이터와 ouput 데이터 설정\n",
    "label_x=[0,1,2,3,4,5,6,7] #input data\n",
    "label_y=[20,23,25,30,33,34,35,43] #output data   "
   ]
  },
  {
   "cell_type": "code",
   "execution_count": 11,
   "metadata": {},
   "outputs": [
    {
     "name": "stdout",
     "output_type": "stream",
     "text": [
      "0 loss_value: 765.65356 weight: 0.7472841 bias: 0.6083818\n",
      "100 loss_value: 530.85724 weight: 1.71115 bias: 1.5783442\n",
      "200 loss_value: 360.7557 weight: 2.5707371 bias: 2.4636\n",
      "300 loss_value: 243.05327 weight: 3.3171997 bias: 3.2607362\n",
      "400 loss_value: 165.46503 weight: 3.946596 bias: 3.9709222\n",
      "500 loss_value: 116.937515 weight: 4.45837 bias: 4.5981965\n",
      "600 loss_value: 88.13436 weight: 4.856339 bias: 5.1497226\n",
      "700 loss_value: 71.753784 weight: 5.1490335 bias: 5.6355352\n",
      "800 loss_value: 62.570915 weight: 5.349112 bias: 6.067709\n",
      "900 loss_value: 57.19459 weight: 5.4719286 bias: 6.4591694\n",
      "1000 loss_value: 53.640415 weight: 5.5336585 bias: 6.822419\n",
      "1100 loss_value: 50.86602 weight: 5.5495424 bias: 7.1684713\n",
      "1200 loss_value: 48.382652 weight: 5.5326543 bias: 7.5062227\n",
      "1300 loss_value: 45.988914 weight: 5.493333 bias: 7.8422575\n",
      "1400 loss_value: 43.615517 weight: 5.439196 bias: 8.181006\n",
      "1500 loss_value: 41.24718 weight: 5.375507 bias: 8.525113\n",
      "1600 loss_value: 38.888096 weight: 5.305716 bias: 8.875866\n",
      "1700 loss_value: 36.54839 weight: 5.2319856 bias: 9.233603\n",
      "1800 loss_value: 34.23942 weight: 5.1556325 bias: 9.598043\n",
      "1900 loss_value: 31.97223 weight: 5.0774612 bias: 9.968552\n",
      "2000 loss_value: 29.757235 weight: 4.997987 bias: 10.344258\n",
      "2100 loss_value: 27.603977 weight: 4.917573 bias: 10.724191\n",
      "2200 loss_value: 25.521103 weight: 4.8365083 bias: 11.107315\n",
      "2300 loss_value: 23.516298 weight: 4.7550445 bias: 11.492569\n",
      "2400 loss_value: 21.59624 weight: 4.6734195 bias: 11.878887\n",
      "2500 loss_value: 19.766638 weight: 4.591863 bias: 12.265188\n",
      "2600 loss_value: 18.032139 weight: 4.510601 bias: 12.650403\n",
      "2700 loss_value: 16.396381 weight: 4.4298587 bias: 13.033466\n",
      "2800 loss_value: 14.861976 weight: 4.349854 bias: 13.413326\n",
      "2900 loss_value: 13.43054 weight: 4.2708044 bias: 13.788937\n",
      "3000 loss_value: 12.102722 weight: 4.192923 bias: 14.15927\n",
      "3100 loss_value: 10.878228 weight: 4.1164174 bias: 14.523322\n",
      "3200 loss_value: 9.755857 weight: 4.041489 bias: 14.880114\n",
      "3300 loss_value: 8.733579 weight: 3.9683325 bias: 15.228694\n",
      "3400 loss_value: 7.8086214 weight: 3.8971372 bias: 15.568138\n",
      "3500 loss_value: 6.97744 weight: 3.8280807 bias: 15.897581\n",
      "3600 loss_value: 6.2359343 weight: 3.7613354 bias: 16.21618\n",
      "3700 loss_value: 5.57942 weight: 3.6970525 bias: 16.523159\n",
      "3800 loss_value: 5.002792 weight: 3.635386 bias: 16.81779\n",
      "3900 loss_value: 4.500572 weight: 3.5764668 bias: 17.099413\n",
      "4000 loss_value: 4.067023 weight: 3.5204127 bias: 17.367449\n",
      "4100 loss_value: 3.6962411 weight: 3.4673245 bias: 17.621391\n",
      "4200 loss_value: 3.3822656 weight: 3.417286 bias: 17.860819\n",
      "4300 loss_value: 3.1191664 weight: 3.3703604 bias: 18.085415\n",
      "4400 loss_value: 2.9011145 weight: 3.326589 bias: 18.29496\n",
      "4500 loss_value: 2.7225103 weight: 3.2859943 bias: 18.489346\n",
      "4600 loss_value: 2.5780194 weight: 3.2485716 bias: 18.66857\n",
      "4700 loss_value: 2.4626408 weight: 3.2142942 bias: 18.832758\n",
      "4800 loss_value: 2.3717828 weight: 3.1831107 bias: 18.982143\n",
      "4900 loss_value: 2.3012745 weight: 3.1549475 bias: 19.117077\n",
      "5000 loss_value: 2.2474024 weight: 3.1297045 bias: 19.238028\n",
      "5100 loss_value: 2.206906 weight: 3.107262 bias: 19.345566\n",
      "5200 loss_value: 2.176988 weight: 3.0874805 bias: 19.44036\n",
      "5300 loss_value: 2.1552844 weight: 3.0702007 bias: 19.523165\n",
      "5400 loss_value: 2.1398454 weight: 3.0552526 bias: 19.594807\n",
      "5500 loss_value: 2.1290786 weight: 3.04245 bias: 19.656162\n",
      "5600 loss_value: 2.121732 weight: 3.0316021 bias: 19.70815\n",
      "5700 loss_value: 2.1168296 weight: 3.022514 bias: 19.751705\n",
      "5800 loss_value: 2.113637 weight: 3.0149908 bias: 19.787766\n",
      "5900 loss_value: 2.1116087 weight: 3.008841 bias: 19.817238\n",
      "6000 loss_value: 2.110355 weight: 3.0038788 bias: 19.841019\n",
      "6100 loss_value: 2.1096005 weight: 2.9999313 bias: 19.85994\n",
      "6200 loss_value: 2.109157 weight: 2.9968371 bias: 19.87477\n",
      "6300 loss_value: 2.1089077 weight: 2.9944484 bias: 19.886217\n",
      "6400 loss_value: 2.1087747 weight: 2.9926353 bias: 19.894909\n",
      "6500 loss_value: 2.1087022 weight: 2.9912817 bias: 19.901392\n",
      "6600 loss_value: 2.1086638 weight: 2.9902902 bias: 19.906145\n",
      "6700 loss_value: 2.1086457 weight: 2.989577 bias: 19.909563\n",
      "6800 loss_value: 2.1086369 weight: 2.9890747 bias: 19.911974\n",
      "6900 loss_value: 2.1086342 weight: 2.9887285 bias: 19.913628\n",
      "7000 loss_value: 2.1086335 weight: 2.9884968 bias: 19.914743\n",
      "7100 loss_value: 2.108629 weight: 2.9883432 bias: 19.91547\n",
      "7200 loss_value: 2.1086316 weight: 2.9882483 bias: 19.915937\n",
      "7300 loss_value: 2.1086335 weight: 2.988187 bias: 19.91622\n",
      "7400 loss_value: 2.1086302 weight: 2.9881494 bias: 19.91641\n",
      "7500 loss_value: 2.1086318 weight: 2.9881258 bias: 19.916517\n",
      "7600 loss_value: 2.108629 weight: 2.988125 bias: 19.91652\n",
      "7700 loss_value: 2.1086283 weight: 2.9881244 bias: 19.916525\n",
      "7800 loss_value: 2.108632 weight: 2.9881227 bias: 19.916533\n",
      "7900 loss_value: 2.1086314 weight: 2.9881215 bias: 19.916538\n",
      "8000 loss_value: 2.1086307 weight: 2.9881198 bias: 19.916546\n",
      "8100 loss_value: 2.1086318 weight: 2.9881186 bias: 19.916553\n",
      "8200 loss_value: 2.1086311 weight: 2.988117 bias: 19.91656\n",
      "8300 loss_value: 2.10863 weight: 2.9881165 bias: 19.916563\n",
      "8400 loss_value: 2.1086323 weight: 2.9881153 bias: 19.916569\n",
      "8500 loss_value: 2.1086314 weight: 2.9881144 bias: 19.916573\n",
      "8600 loss_value: 2.108631 weight: 2.9881132 bias: 19.91658\n",
      "8700 loss_value: 2.1086318 weight: 2.988112 bias: 19.916584\n",
      "8800 loss_value: 2.1086295 weight: 2.9881113 bias: 19.916588\n",
      "8900 loss_value: 2.1086297 weight: 2.988111 bias: 19.91659\n",
      "9000 loss_value: 2.108629 weight: 2.98811 bias: 19.916594\n",
      "9100 loss_value: 2.1086328 weight: 2.9881089 bias: 19.9166\n",
      "9200 loss_value: 2.1086307 weight: 2.9881084 bias: 19.916603\n",
      "9300 loss_value: 2.1086318 weight: 2.988108 bias: 19.916605\n",
      "9400 loss_value: 2.1086297 weight: 2.9881067 bias: 19.916609\n",
      "9500 loss_value: 2.108629 weight: 2.9881065 bias: 19.91661\n",
      "9600 loss_value: 2.108631 weight: 2.9881058 bias: 19.916615\n",
      "9700 loss_value: 2.1086328 weight: 2.988105 bias: 19.916618\n",
      "9800 loss_value: 2.1086297 weight: 2.988104 bias: 19.916622\n",
      "9900 loss_value: 2.1086316 weight: 2.988104 bias: 19.916624\n"
     ]
    }
   ],
   "source": [
    "#loss function 정의\n",
    "def loss_function():\n",
    "#w,b를 aprroximation하여 pred_y값을 도출하고 Mean squared error를 loss function으로 loss 값도출\n",
    "  pred_y = w*label_x + b # y=wx+b 식 수립\n",
    "  cost = tf.reduce_mean(tf.square(pred_y - label_y)) #Mean squared error를 loss function으로 활용 \n",
    "  return cost\n",
    "\n",
    "step_arr=[]\n",
    "loss_arr=[]\n",
    "optimizer = tf.optimizers.Adam(learning_rate=0.01) #보편적으로 가장 많이 사용하는 adam optimizer 활용\n",
    "for step in range(10000): #train\n",
    "    cost_val=optimizer.minimize(loss_function, var_list=[w,b])\n",
    "    if step % 100 == 0:\n",
    "        print(step,\"loss_value:\", loss_function().numpy(), 'weight:', w.numpy()[0], 'bias:', b.numpy()[0])\n",
    "        loss_arr.append(loss_function().numpy())\n",
    "        step_arr.append(step)"
   ]
  },
  {
   "cell_type": "markdown",
   "metadata": {},
   "source": [
    "## plot loss value"
   ]
  },
  {
   "cell_type": "code",
   "execution_count": 14,
   "metadata": {},
   "outputs": [
    {
     "data": {
      "image/png": "[encoded data removed]",
      "text/plain": [
       "<Figure size 432x288 with 1 Axes>"
      ]
     },
     "metadata": {
      "needs_background": "light"
     },
     "output_type": "display_data"
    }
   ],
   "source": [
    "import tensorflow as tf\n",
    "import matplotlib.pyplot as plt\n",
    "plt.title(\"Loss Graph\")\n",
    "plt.xlabel(\"Step\")\n",
    "plt.ylabel(\"Loss value\")\n",
    "plt.plot(loss_arr,step_arr)\n",
    "plt.show()"
   ]
  }
 ],
 "metadata": {
  "anaconda-cloud": {},
  "kernelspec": {
   "display_name": "Python 3",
   "language": "python",
   "name": "python3"
  },
  "language_info": {
   "codemirror_mode": {
    "name": "ipython",
    "version": 3
   },
   "file_extension": ".py",
   "mimetype": "text/x-python",
   "name": "python",
   "nbconvert_exporter": "python",
   "pygments_lexer": "ipython3",
   "version": "3.6.8"
  }
 },
 "nbformat": 4,
 "nbformat_minor": 4
}
