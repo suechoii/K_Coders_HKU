{
 "cells": [
  {
   "cell_type": "markdown",
   "id": "981f6c51",
   "metadata": {},
   "source": [
    "# Week 2, 3: Searching and Sorting"
   ]
  },
  {
   "cell_type": "markdown",
   "id": "82775699",
   "metadata": {},
   "source": [
    "__Table of Contents__ <br>\n",
    "\n",
    "1. Introduction\n",
    "2. DS: Array and Linked List\n",
    "3. Searching Algorithms\n",
    "4. Sorting Algorithms\n",
    "5. Recursion\n",
    "6. Divide & Conquer\n",
    "7. Conclusion"
   ]
  },
  {
   "cell_type": "markdown",
   "id": "78084178",
   "metadata": {},
   "source": [
    "### 1. Introduction\n",
    "\n",
    "코딩테스트는 알고리즘 테스트라고도 불리죠. 코딩테스트에서의 알고리즘 문제는 딱 세가지 분류로 압축할 수 있을 것 같은데요. 첫째로는 해답을 찾는 Searching 문제들, 둘째로는 특정 조건에 맞게끔 재배치하는 Sorting 문제들, 그리고 특정 시간안에 태스크를 완료해야하는 Efficiency 문제들로 나뉠 수 있을 것 같습니다. <br>\n",
    "  \n",
    "가장 중요한 포인트는 문제 혹은 제시된 조건에 부합하는 데이터 구조를 구현하고 그에 맞는 가장 효율적인 searching 및 sorting 알고리즘을 구현하는 것입니다. 이 포인트는 스터디 내내 가장 중요한 포인트가 될 것 입니다. 이번주는 가장 기본이 되는 자료 구조인 Array와 Linked List를 공부하고, 어떤 방식으로 알고리즘을 짤 수 있을지 생각합니다. "
   ]
  },
  {
   "cell_type": "markdown",
   "id": "748141ff",
   "metadata": {},
   "source": [
    "### 2. DS: Array and Linked List"
   ]
  },
  {
   "cell_type": "markdown",
   "id": "aa4e27d5",
   "metadata": {},
   "source": [
    "__2.1 Array__ <br>\n",
    "  \n",
    "Array(배열)이라는 자료형은 technically 파이썬 기본 모듈에는 존재하지 않습니다. 그저 리스트라는 이름으로 존재하고 있죠. 편의상 배열이라고 지칭하면 파이썬의 리스트를 생각해 주시면 감사하겠습니다. 가장 떠올리기 쉬운 배열의 예시로는 1차원 벡터가 아닐까 싶습니다. 각 엔트리에 특정한 값이 들어가는 자료 구조인데, 파이썬의 경우 배열의 자료형을 혼용해서 사용할 수 있다는 점 입니다. "
   ]
  },
  {
   "cell_type": "code",
   "execution_count": 2,
   "id": "fadf290d",
   "metadata": {},
   "outputs": [
    {
     "name": "stdout",
     "output_type": "stream",
     "text": [
      "['문자열', 1, [], True]\n"
     ]
    }
   ],
   "source": [
    "# 예시 1\n",
    "Arr1 = ['문자열', 1, [], True]\n",
    "print(Arr)"
   ]
  },
  {
   "cell_type": "markdown",
   "id": "0b6663c6",
   "metadata": {},
   "source": [
    "위의 예시1 에서의 1차원 배열 Arr1은 4개의 원소를 포함합니다. 각 원소는 다른 자료형으로, 첫번째부터 문자열 (str), 정수형 (int), 리스트, 논리값 (bool) 입니다. 원소의 인덱스는 각 원소의 위치를 나타냅니다. 모든 프로그래밍 언어는 인덱스가 0부터 시작합니다."
   ]
  },
  {
   "cell_type": "code",
   "execution_count": 6,
   "id": "3566398f",
   "metadata": {},
   "outputs": [
    {
     "name": "stdout",
     "output_type": "stream",
     "text": [
      "문자열\n",
      "['문자열', 1]\n",
      "[1, []]\n"
     ]
    }
   ],
   "source": [
    "print(Arr1[0])         #첫번째 원소 출력하기\n",
    "print(Arr1[0:2])       #인덱스 0의 원소 부터 인덱스 2 이전의 원소까지 출력하기\n",
    "print(Arr1[-3:-1])     #맨 뒤 원소의 인덱스 --> -1 , 예) 맨 뒤부터 3번째 원소의 인덱스 --> -3"
   ]
  },
  {
   "cell_type": "markdown",
   "id": "eda5841e",
   "metadata": {},
   "source": [
    "2차원 배열은 흔히들 얘기하는 행렬이 될 수 있겠습니다. 행렬은 선형 대수 연산이나 그래프를 표현하거나 할 때 자주쓰이는 자료구조 입니다. "
   ]
  },
  {
   "cell_type": "code",
   "execution_count": 10,
   "id": "bc996146",
   "metadata": {},
   "outputs": [
    {
     "name": "stdout",
     "output_type": "stream",
     "text": [
      "[1, 2, 3]\n",
      "[4, 5, 6]\n",
      "[7, 8, 9]\n"
     ]
    }
   ],
   "source": [
    "Arr2 = [[1,2,3],[4,5,6],[7,8,9]]\n",
    "\n",
    "for i in range(3):\n",
    "    print(Arr2[i])"
   ]
  },
  {
   "cell_type": "markdown",
   "id": "b82b005f",
   "metadata": {},
   "source": [
    "이제부터 다룰 내용은 코딩테스트에서 사용을 유의하여야할 라이브러리입니다. 보통 대기업에서 정형화된 코딩테스트를 치루는 경우, 파이썬 내장 모듈이 아닌 외장 모듈을 사용하는 것을 금할때가 많습니다. 하지만 지금 다루는 NumPy 라는 모듈은 배열 조작, 선형 계산, 다차원 배열을 포함한 계산에서 가장 강력한 기능을 제공합니다. 실무 혹은 과제에서 다차원 데이터를 처리해야 할 경우 굉장히 유용한 툴임으로, 외부 모듈을 사용할 수 있다면 사용을 권장합니다."
   ]
  },
  {
   "cell_type": "code",
   "execution_count": 24,
   "id": "d3ef8c83",
   "metadata": {},
   "outputs": [
    {
     "name": "stdout",
     "output_type": "stream",
     "text": [
      "#1:  [[ 1  2  3  4  5]\n",
      " [ 6  7  8  9 10]] \n",
      "\n",
      "#2:  (2, 5) \n",
      "\n",
      "#3:  int64 \n",
      "\n",
      "#4:  [[0. 0. 0. 0. 0.]\n",
      " [0. 0. 0. 0. 0.]] \n",
      "\n"
     ]
    }
   ],
   "source": [
    "import numpy as np #numpy 모듈을 np 로 import 한다\n",
    "\n",
    "#1. Numpy 배열 만들기\n",
    "data_1 = [[1,2,3,4,5],[6,7,8,9,10]] #2x5 배열\n",
    "arr1 = np.array(data_1)\n",
    "print(\"#1: \", arr1,\"\\n\")\n",
    "\n",
    "#2. 배열 크기 확인하기\n",
    "print(\"#2: \", arr1.shape,\"\\n\")\n",
    "\n",
    "#3. 배열 자료형 확인하기\n",
    "print(\"#3: \", arr1.dtype,\"\\n\")\n",
    "\n",
    "#4. 빈 배열 만들기\n",
    "arr_e = np.zeros((2,5)) #1로 가득찬 배열 만들기 --> np.ones(배열 크기)\n",
    "print(\"#4: \", arr_e, \"\\n\")\n",
    "\n",
    "#5. 넘파이 배열 연산: 행렬 연산 법칙에 따라 arr1 +-/* arr2 해주면 됩니다 ^^\n",
    "#6. 넘파이 배열 인덱싱:\n",
    "#6.1 1차원 배열: arr[0] --> 첫번째 원소, arr[13] --> 12번째 원소\n",
    "#6.2 2차원 배열: arr[2,3] --> 2행 3열에 위치한 원소\n",
    "#6.3 다차원 배열: arr[i,j,k,...]"
   ]
  },
  {
   "cell_type": "markdown",
   "id": "1d21e07f",
   "metadata": {},
   "source": [
    "기본적인 numpy 만 다뤄봤고, 굉장히 많은 기능들과 활용법들이 많으니 공부해 보시는 것도 추천 드립니다."
   ]
  },
  {
   "cell_type": "markdown",
   "id": "d491bf6e",
   "metadata": {},
   "source": [
    "__2.2 Linked List__ <br>\n",
    "  \n",
    "Linked List (연결 리스트) 는 데이터의 추가 및 삭제가 용이하다는 점에서 배열과 차이가 있습니다. 파이썬 이전의 언어를 보면 배열의 순서를 조작하기 어렵기 때문에 연결 리스트라는 개념이 등장했습니다. 사실 Python 에서는 연결 리스트의 모든 기능을 제공하기 때문에 사실 파이썬으로 코딩 테스트를 치룬다면 연결 리스트를 별도로 구현해 줄 필요는 없습니다. 그래도 연결 리스트의 원리는 추후에 다양한 자료 구조로 발전하기 위한 기초이기 때문에 공부하셔야 합니다. <br>\n",
    "  \n",
    "연결 리스트에 대한 간략한 설명은:  \n",
    "https://www.geeksforgeeks.org/data-structures/linked-list/#singlyLinkedList  \n",
    "해당 링크를 참조해 주세요. <br>\n",
    "  \n",
    "연결 리스트의 구성 요소는 크게 자료를 담는 Node, 각 노드의 위치를 알려주는 Pointer로 구성이 되어있고, 포인터의 개념이 존재하지 않는 Java 나 Python의 경우 레퍼런스로 이를 대체 합니다. <br>\n",
    "  \n",
    "연결 리스트는 크게 세가지의 종류로 나뉘는데, 한 방향으로 연결하는 Singly Linked List, 양 방향으로 연결하는 Doubly Linked List, 그리고 원형으로 연결하는 Circular Linked List 로 나뉩니다. <br>\n",
    "  \n",
    "이번 섹션에서는 파이썬으로 Singly Linked List를 파이썬으로 구현하는 방법과 각종 기능이 기본 리스트 모듈로 어떻게 작동되는지 보여드리겠습니다."
   ]
  },
  {
   "cell_type": "code",
   "execution_count": 27,
   "id": "13441321",
   "metadata": {},
   "outputs": [],
   "source": [
    "#클래스에 대해 잘 모르시는 분은 공부하셔야 합니다.\n",
    "\n",
    "#노드 리스트 구현\n",
    "class Node:\n",
    "    def __init__(self, data):\n",
    "        self.data = data\n",
    "        self.next = None\n",
    "\n",
    "#연결 리스트 구현\n",
    "class LinkedList:\n",
    "    def __init__(self, data):\n",
    "        self.head = Node(data)\n",
    "    \n",
    "    #헤더부터 탐색해 뒤에 새로운 노드 추가하기\n",
    "    def append(self, data):\n",
    "        cur = self.head\n",
    "        while cur.next is not None:\n",
    "            cur = cur.next\n",
    "        cur.next = Node(data)\n",
    "\n",
    "    #모든 노드 값 출력\n",
    "    def print_all(self):\n",
    "        cur = self.head\n",
    "        while cur is not None:\n",
    "            print(cur.data)\n",
    "            cur = cur.next\n",
    "    \n",
    "    #노드 인덱스 알아내기\n",
    "    def get_node(self, index):\n",
    "        cnt = 0\n",
    "        node = self.head\n",
    "        while cnt < index:\n",
    "            cnt += 1\n",
    "            node = node.next\n",
    "        return node\n",
    "\n",
    "    #노드 삽입\n",
    "    def add_node(self, index, value):\n",
    "        new_node = Node(value)\n",
    "        if index == 0:\n",
    "            new_node.next = self.head\n",
    "            self.head = new_node\n",
    "            return\n",
    "        node = self.get_node(index-1)\n",
    "        next_node = node.next\n",
    "        node.next = new_node\n",
    "        new_node.next = next_node\n",
    "    \n",
    "    #노드 삭제\n",
    "    def delete_node(self, index):\n",
    "        if index == 0:\n",
    "            self.head = self.head.next\n",
    "            return\n",
    "        node = self.get_node(index-1)\n",
    "        node.next = node.next.next"
   ]
  },
  {
   "cell_type": "code",
   "execution_count": 42,
   "id": "2400ea6d",
   "metadata": {},
   "outputs": [
    {
     "name": "stdout",
     "output_type": "stream",
     "text": [
      "1\n",
      "2\n"
     ]
    }
   ],
   "source": [
    "#노드 생성하기\n",
    "node1 = Node(1)\n",
    "node2 = Node(2)\n",
    "node3 = Node(3)\n",
    "node4 = Node(4)\n",
    "node1.next = node2\n",
    "node2.next = node3\n",
    "node3.next = node4\n",
    "\n",
    "print(node1.data)          #node1의 데이터 출력\n",
    "print(node1.next.data)     #node1에 연결된 다음 노드의 데이터 출력"
   ]
  },
  {
   "cell_type": "code",
   "execution_count": 56,
   "id": "6013ced0",
   "metadata": {},
   "outputs": [
    {
     "name": "stdout",
     "output_type": "stream",
     "text": [
      "#1. 연결 리스트 생성하기\n",
      "1\n",
      "2\n",
      "3\n",
      "4\n",
      "\n",
      "\n",
      "#2. 인덱스의 데이터 알아내기\n",
      "3 \n",
      "\n",
      "#3. 맨 끝에 노드 추가하기\n",
      "1\n",
      "2\n",
      "3\n",
      "4\n",
      "5\n",
      "\n",
      "\n",
      "#4. 중간에 노드 추가하기\n",
      "1\n",
      "2\n",
      "middle\n",
      "3\n",
      "4\n",
      "5\n",
      "\n",
      "\n",
      "#6. 노드 삭제하기\n",
      "1\n",
      "middle\n",
      "3\n",
      "4\n",
      "5\n"
     ]
    }
   ],
   "source": [
    "print('#1. 연결 리스트 생성하기')\n",
    "LL = LinkedList(node1.data)\n",
    "LL.append(node2.data)\n",
    "LL.append(node3.data)\n",
    "LL.append(node4.data)\n",
    "LL.print_all() \n",
    "print('\\n')\n",
    "\n",
    "print('#2. 인덱스의 데이터 알아내기')\n",
    "idx = LL.get_node(2)\n",
    "print(idx.data, '\\n')\n",
    "\n",
    "print('#3. 맨 끝에 노드 추가하기')\n",
    "node5 = Node(5)\n",
    "LL.add_node(4, node5.data)\n",
    "LL.print_all()\n",
    "print('\\n')\n",
    "\n",
    "print('#4. 중간에 노드 추가하기')\n",
    "node_mid = Node('middle')\n",
    "LL.add_node(2, node_mid.data)\n",
    "LL.print_all()\n",
    "print('\\n')\n",
    "\n",
    "print('#6. 노드 삭제하기')\n",
    "LL.delete_node(1) #인덱스 1의 해당하는 원소 삭제\n",
    "LL.print_all()"
   ]
  },
  {
   "cell_type": "code",
   "execution_count": null,
   "id": "3371cba5",
   "metadata": {},
   "outputs": [],
   "source": [
    "list.append(1)\n",
    "arr = []\n",
    "data = data\n",
    "for i in range(len(data)):\n",
    "    arr.append()"
   ]
  },
  {
   "cell_type": "markdown",
   "id": "52a3100e",
   "metadata": {},
   "source": [
    "이렇게 파이썬으로 단방향 연결리스트를 구현해 봤습니다. 만약 시간이 남으신다면, doubly / circular linked list 를 구현해 보시는 것도 추천드립니다."
   ]
  },
  {
   "cell_type": "markdown",
   "id": "ee44a508",
   "metadata": {},
   "source": [
    "### 3. Searching Algorithms"
   ]
  },
  {
   "cell_type": "markdown",
   "id": "35c5703e",
   "metadata": {},
   "source": [
    "탐색 알고리즘은 무엇을 탐색하느냐에 따라 어떤 알고리즘을 쓰는지를 결정하게 됩니다. 앞서 언급했듯이 어떤 자료구조를 사용하느냐에 따라 또 알고리즘의 선택지가 달라집니다. 저희는 가장 기본적인 탐색 알고리즘부터 공부하면서 추후에는 다양한 상황에서의 탐색 알고리즘 ex) 그래프 탐색, CSPs, Adversarial Search, Local Search 등까지 확장해서 공부할 예정입니다. 이번 주에는 선형 자료 구조에 많이 쓰이는 탐색 알고리즘인 Linear Search, Binary Search, Jump Search, Interpolation Search, Exponential Search를 배워보도록 하겠습니다. <br>\n",
    "  \n",
    "선형 자료 구조란 자료가 일차원에 표현됩니다. 예를 들어, 1차원 배열, 연결 리스트, 스택, 큐 등이 예가 될 수 있습니다. 자세한 내용은 밑의 링크를 참고해주세요. <br>\n",
    "  \n",
    "https://www.geeksforgeeks.org/fundamentals-of-algorithms/?ref=shm#SearchingandSorting"
   ]
  },
  {
   "cell_type": "markdown",
   "id": "d0a799b0",
   "metadata": {},
   "source": [
    "__3.1 Linear Search__<br>\n",
    "  \n",
    "선형 탐색은 가장 기본적인 탐색 알고리즘입니다. 예를 들어 저희가 도서관에서 책을 찾고있고, 책이 일렬로 진열되어 있다고 가정해 봅시다. 가장 직관적으로 저희가 원하는 책을 찾는 방법은 가장 맨 끝의 책부터 하나 하나 보면서 저희가 원하는 책을 찾을 때 까지 탐색을 하는 방법이 선형 탐색입니다."
   ]
  },
  {
   "cell_type": "code",
   "execution_count": 58,
   "id": "ed769687",
   "metadata": {},
   "outputs": [
    {
     "name": "stdout",
     "output_type": "stream",
     "text": [
      "3\n",
      "6\n"
     ]
    }
   ],
   "source": [
    "#선형 탐색 예시 \n",
    "def solution(L, x):\n",
    "    for i in range(len(L)):\n",
    "        if x == L[i]:\n",
    "            return i #index를 리턴\n",
    "    return -1\n",
    "\n",
    "L1 = [3,5,2,8,6,1,7]\n",
    "x = 8\n",
    "y = 7\n",
    "\n",
    "print(solution(L1, x))\n",
    "print(solution(L1, y))"
   ]
  },
  {
   "cell_type": "markdown",
   "id": "5e89d8fb",
   "metadata": {},
   "source": [
    "__3.2 Binary Search__<br>\n",
    "  \n",
    "이진 탐색의 경우 중간 (median) 부터 탐색하면서 왼쪽 및 오른쪽을 정한 뒤, 또 그 부분의 중간을 탐색하는 기법입니다. 예를 들어 저희가 찾는 책이 해리포터 불의 잔이라고 해봅시다. 그리고 다음과 같은 책장이 있다고 칩시다.<br>\n",
    "  \n",
    "책장 = ['선형대수학', '해리포터와 불의 잔'. '왜 코딩을 하는가', '내 머릿속의 지우개', '감기', '코로나 팬데믹', '진화론'] <br>\n",
    "  \n",
    "그러면 저희는 책장 전체의 중간 인덱스인 3에 해당하는 책부터 탐색하겠죠. 내 머릿속의 지우개는 저희가 찾는 책이 아닙니다. 이제 저희는 왼쪽 혹은 오른쪽을 선택합니다. 어느쪽을 선택해도 무방하니 저희는 오른쪽으로 가봅시다. 이제 인덱스 4-6의 중간값인 5에 해당하는 책을 탐색합니다. 역시 저희가 찾는 책이 아니니 또 오른쪽으로 갑니다. 진화론도 저희가 찾는 책이 아닙니다. 이제는 왼쪽으로 가보겠습니다. 인덱스 4를 방문하고, 인덱스 0-2 구간을 방문하겠죠. 그 가운데 위치한 인덱스 1을 방문하고, 저희가 찾는 책을 찾음과 동시에 코드는 종료됩니다. <br>\n",
    "  \n",
    "선형 탐색과 비교했을때, 이진 탐색은 평균적으로 속도가 훨씬 빠릅니다. [B팀은 탐색 알고리즘의 복잡도를 이해하고 있어야 합니다 (구글링 하시면 됩니다 ㅎㅎ)] 데이터의 크기가 더 크면 속도의 차이가 더 극명히 드러날 것 입니다. 둘다 완전 탐색 알고리즘 (Brute Force) 으로 모든 원소를 완전히 탐색하기에 원소가 자료안에 없는 것이 아닌 이상, 무조건 해를 찾을 수 있습니다. 이진탐색의 경우 정렬된 자료구조라면 훨씬 더 빠르게 찾을 수 있겠죠 (밑의 예시를 참고하세요!)"
   ]
  },
  {
   "cell_type": "code",
   "execution_count": 60,
   "id": "ed0ee7ff",
   "metadata": {},
   "outputs": [
    {
     "name": "stdout",
     "output_type": "stream",
     "text": [
      "3\n"
     ]
    }
   ],
   "source": [
    "#이진 탐색 예시 (위의 설명과 다름 --> 얘는 정수형 자료 혹은 실수형 자료에만 적용가능 왜일까요? --> elif data[mid] < target 구문 때문이죠)\n",
    "def binary_search(target, data):\n",
    "    data.sort()            #이진 탐색은 먼저 정렬을 해준다면, 훨씬 성능이 향상됩니다.\n",
    "    start = 0\n",
    "    end = len(data) - 1\n",
    "\n",
    "    while start <= end:\n",
    "        mid = (start + end) // 2   #가운데 인덱스\n",
    "\n",
    "        if data[mid] == target:\n",
    "            return mid # 함수를 끝내버린다.\n",
    "        elif data[mid] < target:\n",
    "            start = mid + 1\n",
    "        else:\n",
    "            end = mid -1\n",
    "\n",
    "    return None\n",
    "\n",
    "li = [i**2 for i in range(11)]\n",
    "target = 9\n",
    "idx = binary_search(target, li)\n",
    "\n",
    "print(idx)"
   ]
  },
  {
   "cell_type": "markdown",
   "id": "8cbe780f",
   "metadata": {},
   "source": [
    "__3.3 Jump Search__<br>\n",
    "  \n",
    "점프 탐색은 모호성 때문에 잘 사용되진 않습니다. 정렬된 자료 구조에 대해서, 선형 탐색보다는 빠르지만 이진 탐색보다는 느리고 구현하는데에도 귀찮기 때문에 잘 쓰이지는 않지만, 그래도 수학적으로 탐색 알고리즘을 접근한다는데 의의를 둡니다. 궁금하신 분들을 위해 밑에 예제 코드 남깁니다 ㅎㅎ.. 더 자세한 내용은 긱포긱 참고해주세요..ㅎ"
   ]
  },
  {
   "cell_type": "code",
   "execution_count": 61,
   "id": "caeb9086",
   "metadata": {},
   "outputs": [
    {
     "name": "stdout",
     "output_type": "stream",
     "text": [
      "13\n"
     ]
    }
   ],
   "source": [
    "import math\n",
    "def jump_search(arr,search):\n",
    "    flag = 0\n",
    "    interval = int(math.sqrt(len(arr)))\n",
    "    for i in range(0,len(arr),interval):\n",
    "        if arr[i] >  search:\n",
    "            chunk = i\n",
    "            flag = 1\n",
    "            break\n",
    "        if arr[i] ==  search:\n",
    "            return i\n",
    "    if flag==0:\n",
    "        c=i\n",
    "        for j in arr[i:]:\n",
    "            if j==search:\n",
    "                return c\n",
    "            c+=1\n",
    "    else:\n",
    "        arr_ls = arr[chunk-interval:chunk]\n",
    "        ind = [i for i,d in enumerate(arr_ls) if d==search]\n",
    "        return chunk-interval+ind[0]\n",
    "arr = [ i for i in range(1,200,15)]\n",
    "res = jump_search(arr, 196)\n",
    "print(res) "
   ]
  },
  {
   "cell_type": "markdown",
   "id": "6bc3976a",
   "metadata": {},
   "source": [
    "__3.4 Interpolation Search__<br>\n",
    "  \n",
    "Interpolation은 수학에서는 보간법이라고 불리고 있는데요, 탐색 알고리즘에서는 현재 위치에 따라 다음 위치를 정하는 방법으로 특정한 공식을 따릅니다. 저보다 설명을 잘하는 블로그를 찾았기에 설명은 이로 대체합니다..ㅎ <br>\n",
    "  \n",
    "https://yoongrammer.tistory.com/77#%EC%8B%9C%EA%B0%84_%EB%B3%B5%EC%9E%A1%EB%8F%84 <br>\n",
    "  \n",
    "보간 탐색은 이진 탐색과 흡사하지만 블로그에도 있듯이 다음 탐색 포지션을 정하는 공식이 다르죠. 적은 데이터 수에 대해서는 보간 탐색이 이진 탐색 보다 빠를 수도 있겠습니다만 대부분의 경우에 이진 탐색이 훨씬 빠릅니다."
   ]
  },
  {
   "cell_type": "markdown",
   "id": "af664a31",
   "metadata": {},
   "source": [
    "__3.5 Exponential Search__ <br>\n",
    "  \n",
    "지수 탐색은 이진 탐색을 조금 더 보완해 만든 알고리즘 입니다. 아주 근소하게 이진 탐색보다는 빠르지만 별반 차이 없다고 보셔도 무방합니다. 사실 코드를 보면 알겠지만 지수랑은 별로 크게 상관이 없습니다. 인덱스를 선정하는 방법이 그저 인덱스에 2를 곱해주기 때문에, doubling search 라고도 불립니다. 밑의 코드를 보시면 이진 탐색과 다른 점이 인덱스의 범위를 먼저 추정합니다. 밑의 while 구문을 보시면 인덱스가 인풋 리스트의 길이가 작고 해당 인덱스에 해당하는 값 보다 같거나 작아야합니다. 이는 정렬된 자료가 인덱스랑 선형 관계에 놓여있는 성질을 이용해서 어느 인덱스 쯤에 찾는 값이 있을거다 추정하고 처음 방문 인덱스를 설정한 뒤 이진 탐색에 넣습니다. <br>"
   ]
  },
  {
   "cell_type": "code",
   "execution_count": 65,
   "id": "6bbf09df",
   "metadata": {},
   "outputs": [
    {
     "name": "stdout",
     "output_type": "stream",
     "text": [
      "3 5 8 9 0 2 7\n",
      "3\n",
      "0\n",
      "Element found at  0\n"
     ]
    }
   ],
   "source": [
    "list1=list(map(int, input().split(\" \")))\n",
    "val=int(input())\n",
    "if list1[0] == val:\n",
    "    print(\"0\")\n",
    "i = 1\n",
    "#Finding range for binarySearch\n",
    "while(i<len(list1) and list1[i]<=val):\n",
    "        i = i * 2\n",
    "min1=min(i,len(list1))\n",
    "def binarySearch(data_list,low,high,value):\n",
    "    if(high>= low):\n",
    "        mid=int(low + ( high-low )//2)\n",
    "        if data_list[mid] == value:\n",
    "            return mid\n",
    "        if data_list[mid] > value:\n",
    "            return binarySearch(data_list,low,mid - 1,value)\n",
    "        else:\n",
    "            return binarySearch(data_list,mid + 1,high,value)\n",
    "    if(high<low):\n",
    "        return -1\n",
    "    # Applying binary search for specified range\n",
    "index=binarySearch(list1,i/2,min(i,len(list1)),val)\n",
    "if(index==-1):\n",
    "    print(\"Element not found\")\n",
    "else:\n",
    "    print(\"Element found at \",index)"
   ]
  },
  {
   "cell_type": "markdown",
   "id": "63ad0ffb",
   "metadata": {},
   "source": [
    "제가 복잡도에 대해서는 자세하게는 다루지 않았습니다만, 향후 2119를 들을 예정이 있으신 멤버분들이나 개발 직군을 준비하시는 분들은 탐색 및 정렬 알고리즘의 복잡도에 대한 이해를 잘 정립하시길 바랍니다.."
   ]
  },
  {
   "cell_type": "markdown",
   "id": "4f229bcd",
   "metadata": {},
   "source": [
    "### 4. Sorting Algorithms"
   ]
  },
  {
   "cell_type": "markdown",
   "id": "46798e9e",
   "metadata": {},
   "source": [
    "이런 탐색 알고리즘을 통해 저희가 알 수 있는건 선형 탐색을 제외한 모든 탐색 알고리즘은 자료가 정렬이 되어있을 때 성능이 향상 된다는 것입니다. 그 말인 즉슨, 자료를 선행적으로 정렬할 필요가 있다는 것이죠. 섹션 4에서는 기본적인 정렬 알고리즘들: Selection Sort, Bubble Sort, Insertion Sort, Merge Sort, Heap Sort, QuickSort에 대해 공부하고, 연결 리스트에서는 어떤 알고리즘을 사용하는게 좋고 이런 것들을 다뤄보도록 하겠습니다."
   ]
  },
  {
   "cell_type": "markdown",
   "id": "f1434e4f",
   "metadata": {},
   "source": [
    "__4.1 Selection Sort__ <br>\n",
    "  \n",
    "가장 기초적인 정렬 알고리즘인 선택 정렬부터 시작해 봅시다. 말 그대로 저희가 인덱스에 위치할 친구를 선택하게 되는데요, 반 학생의 아이들을 키 오름차순으로 정렬을 한다고 할 때, 한 명씩 한 명씩 키를 보고 제일 작은 친구를 데려와 0번째 인덱스에 세웁니다. 다음은 두 번째로 키가 작은 친구를 데려와 1번째 인덱스에 세우죠. 이런 과정을 반복하다보면, 맨 끝의 인덱스에 위치한 친구는 가장 키가 클 것 입니다. 이렇게 저희가 '선택'한다고 해서 선택 정렬이라고 부릅니다."
   ]
  },
  {
   "cell_type": "code",
   "execution_count": 70,
   "id": "51d06cb3",
   "metadata": {},
   "outputs": [
    {
     "name": "stdout",
     "output_type": "stream",
     "text": [
      "[0, 2, 4, 7, 8, 9, 12, 12]\n"
     ]
    }
   ],
   "source": [
    "#예시: for 문을 두번 볼리기 때문에 복잡도가 크다\n",
    "def selection_sort(arr):\n",
    "    for i in range(len(arr) - 1):\n",
    "        min_idx = i\n",
    "        for j in range(i + 1, len(arr)):\n",
    "            if arr[j] < arr[min_idx]:\n",
    "                min_idx = j\n",
    "        arr[i], arr[min_idx] = arr[min_idx], arr[i]\n",
    "\n",
    "arr = [12, 4, 7, 9, 12, 2, 8, 0]\n",
    "selection_sort(arr)\n",
    "print(arr)"
   ]
  },
  {
   "cell_type": "markdown",
   "id": "1a154c95",
   "metadata": {},
   "source": [
    "__4.2 Bubble Sort__ <br>\n",
    "  \n",
    "다음은 버블 정렬입니다. 사실 왜 버블이라는 이름이 붙었는지는 잘 모르겠지만, 가장 큰 값부터 뒤로 보내는 전략의 알고리즘입니다. 우선 첫 두 원소를 비교합니다. 만약 두 번째 원소가 더 작다면 첫 번째 원소랑 자리를 바꿔주고, 그렇지 않다면 그냥 내비둡니다. 그 다음은 두 번째 원소랑 세 번째 원소를 비교하고 똑같이 세 번째 원소가 더 작다면 두 번째 원소랑 자리를 바꿔줍니다. 이 과정을 맨끝 인덱스까지 반복해준다면 결국에는 가장 큰 원소가 뒤에 위치하겠죠. <br>\n",
    "  \n",
    "[3, 2, 1] : 시작 어레이 <br>\n",
    "  \n",
    "[2, 3, 1] : 첫 번째 원소랑 두 번째 원소를 비교, 2가 3보다 작기에 두 원소의 자리를 바꿔준다. <br>\n",
    "  \n",
    "[2, 1, 3] : 두 번째 원소랑 세 번째 원소를 비교, 1이 3보다 작기에 두 원소의 자리를 바꿔준다. iteration 1 끝 <br>\n",
    "  \n",
    "[1, 2, 3] : 첫 번째 원소랑 두 번째 원소를 비교, 1이 2보다 작기에 두 원소의 자리를 바꿔준다. 3은 우리가 가장 큰 수 인걸 알기에 여기서 iteration 을 마친다. "
   ]
  },
  {
   "cell_type": "code",
   "execution_count": 72,
   "id": "68905f1b",
   "metadata": {},
   "outputs": [
    {
     "name": "stdout",
     "output_type": "stream",
     "text": [
      "[0, 2, 4, 7, 8, 9, 11, 12]\n"
     ]
    }
   ],
   "source": [
    "#예시\n",
    "def bubble_sort(arr):\n",
    "    for i in range(len(arr) - 1, 0, -1):\n",
    "        for j in range(i):\n",
    "            if arr[j] > arr[j + 1]:\n",
    "                arr[j], arr[j + 1] = arr[j + 1], arr[j]\n",
    "\n",
    "arr = [11, 4, 7, 9, 12, 2, 8, 0]\n",
    "bubble_sort(arr)\n",
    "print(arr)"
   ]
  },
  {
   "cell_type": "markdown",
   "id": "cd27a148",
   "metadata": {},
   "source": [
    "__4.3 Insertion Sort__ <br>\n",
    "  \n",
    "다음은 삽입 정렬입니다. 앞서 본 선택 그리고 버블 정렬과 같은 복잡도를 가진 알고리즘입니다 [O(N^2)]. 정리하자면 선택 정렬은 먼저 가장 작은 값을 앞으로, 버블 정렬은 먼저 가장 큰 값을 뒤로 보내면서, iteration 마다 정렬 범위가 줄어들었습니다. 하지만, 삽입 정렬은 그 반대입니다. 직관적으로 예를 들면서 설명해보겠습니다. <br>\n",
    "  \n",
    "[2, 1, 5, 4, 3] : 이라는 어레이를 삽입 정렬을 사용해서 정렬을 해보겠습니다. <br>\n",
    "  \n",
    "[2, 1] --> [1, 2] : 일단 첫 두 원소를 비교하고 정렬합니다 <br>\n",
    "  \n",
    "[1, 2, 5] --> [1, 2, 5] : 정렬 범위를 1 늘려봅니다. 오름 차순이기에 내비둡니다 <br>\n",
    "  \n",
    "[1, 2, 5, 4] --> [1, 2, 4, 5] : 인덱스 3에 위치한 4랑 2에 위치한 5랑 비교합니다. 바꿔주죠. 그리고 바꿔줬다면 또 앞의 친구랑 비교해봅니다. 바꿔줄 필요가 없으니 스탑입니다. <br>\n",
    "  \n",
    "[1, 2, 5, 4, 3] --> [1, 2, 5, 3, 4] --> [1, 2, 3, 4, 5] : 마지막으로 정렬 범위를 1 늘려주고 3이 제자리를 찾아가는 과정입니다. "
   ]
  },
  {
   "cell_type": "code",
   "execution_count": 73,
   "id": "52fcabcb",
   "metadata": {},
   "outputs": [
    {
     "name": "stdout",
     "output_type": "stream",
     "text": [
      "[0, 2, 4, 7, 8, 9, 10, 12]\n"
     ]
    }
   ],
   "source": [
    "#예시\n",
    "def insertion_sort(arr):\n",
    "    for end in range(1, len(arr)):\n",
    "        for i in range(end, 0, -1):\n",
    "            if arr[i - 1] > arr[i]:\n",
    "                arr[i - 1], arr[i] = arr[i], arr[i - 1]\n",
    "                \n",
    "arr = [10, 4, 7, 9, 12, 2, 8, 0]\n",
    "bubble_sort(arr)\n",
    "print(arr)"
   ]
  },
  {
   "cell_type": "markdown",
   "id": "9cd676a9",
   "metadata": {},
   "source": [
    "__4.4 Merge Sort__ <br>\n",
    "  \n",
    "이제부터는 앞서 배운 세 정렬 알고리즘보다 빠릅니다. 다만 이제부터 다룰 알고리즘들을 구현하기 위해 재귀 호출 (recursion) 과 분할 정복 (divide & conquer) 을 알아야합니다. 재귀는 섹션 5에서 그리고 분할 정복은 섹션 6에서 다룰 예정이니 읽고 와주시길 바랍니다. <br>\n",
    "  \n",
    "주어진 배열을 원소가 하나 밖에 남지 않을 때까지 계속 둘로 쪼갠 후에 다시 크기 순으로 재배열 하면서 원래 크기의 배열로 합칩니다. 예시를 보면서 설명해 보도록 할게요. <br>\n",
    "  \n",
    "아래와 같은 배열이 주어졌다고 해봅시다."
   ]
  },
  {
   "cell_type": "code",
   "execution_count": null,
   "id": "bb7256ca",
   "metadata": {},
   "outputs": [],
   "source": [
    "array = [6, 5, 3, 1, 8, 7, 2, 4]"
   ]
  },
  {
   "cell_type": "markdown",
   "id": "becb0399",
   "metadata": {},
   "source": [
    "일단 해당 어레이를 반으로 쪼갭니다."
   ]
  },
  {
   "cell_type": "code",
   "execution_count": null,
   "id": "7d215eda",
   "metadata": {},
   "outputs": [],
   "source": [
    "array_first_half = [6,5,3,1]\n",
    "array_second_half = [8,7,2,4]"
   ]
  },
  {
   "cell_type": "markdown",
   "id": "af774353",
   "metadata": {},
   "source": [
    "그러고 원소가 하나밖에 남지 않을 때 쪼개게 된다면, 마지막에는 <br>\n",
    "\n",
    "[6] [5] [3] [1] [8] [7] [2] [4] <br>\n",
    "\n",
    "와 같이 원소가 하나인 배열 여덟 개가 만들어 질 것 입니다."
   ]
  },
  {
   "cell_type": "markdown",
   "id": "ba639125",
   "metadata": {},
   "source": [
    "이제 다시 합쳐줄건데, 2 배열씩 합칩니다, 그리고 합칠 때 값이 작은 애가 앞으로 오도록 합쳐줍니다. <br>\n",
    "  \n",
    "병합 과정 1 --> [5, 6] [1, 3] [7, 8] [2, 4] <br>\n",
    "병합 과정 2 --> [1, 3, 5, 6] [2, 4, 7, 8] <br>\n",
    "병합 과정 3 --> [1, 2, 3, 4, 5, 6, 7, 8] <br>\n",
    "  \n",
    "이러한 과정을 어떻게 구현하느냐 바로 재귀식을 이용해서 구현해줄 것 입니다. 밑의 구현 코드를 보시고 이해해 보시길 바랍니다."
   ]
  },
  {
   "cell_type": "code",
   "execution_count": 74,
   "id": "6ee4ec76",
   "metadata": {},
   "outputs": [
    {
     "data": {
      "text/plain": [
       "[0, 1, 2, 3, 4, 7, 7, 8, 9]"
      ]
     },
     "execution_count": 74,
     "metadata": {},
     "output_type": "execute_result"
    }
   ],
   "source": [
    "#예시\n",
    "def merge_sort(arr):\n",
    "    #배열의 크기가 1이면 리턴 --> 이 식이 굉장히 중요합니다. 분할된 배열의 크기가 1이면 상위식으로 이동하게 됩니다.\n",
    "    if len(arr) < 2:\n",
    "        return arr\n",
    "    \n",
    "    mid = len(arr) // 2\n",
    "    \n",
    "    #반으로 어레이를 나누는데 merge_sort() 를 재귀적으로 호출\n",
    "    low_arr = merge_sort(arr[:mid])\n",
    "    high_arr = merge_sort(arr[mid:])\n",
    "    \n",
    "    #병합 과정\n",
    "    merged_arr = []\n",
    "    l = h = 0\n",
    "    while l < len(low_arr) and h < len(high_arr):\n",
    "        if low_arr[l] < high_arr[h]:\n",
    "            merged_arr.append(low_arr[l])\n",
    "            l += 1\n",
    "        else:\n",
    "            merged_arr.append(high_arr[h])\n",
    "            h += 1\n",
    "    merged_arr += low_arr[l:]\n",
    "    merged_arr += high_arr[h:]\n",
    "    return merged_arr\n",
    "\n",
    "arr = [2, 7, 9, 1, 4, 3, 7, 0, 8]\n",
    "out = merge_sort(arr)\n",
    "out"
   ]
  },
  {
   "cell_type": "markdown",
   "id": "a8f0c8e3",
   "metadata": {},
   "source": [
    "__4.5 Heap Sort__ <br>\n",
    "  \n",
    "이제 힙 정렬입니다. 힙 정렬은 힙이라는 자료 구조를 통해 정렬을 하는 방법인데요, 이미지를 보면서 이해하시는 것을 추천드리기 때문에 제가 하는 설명은 생략을 하도록 하겠습니다..ㅎㅎ 다음 사이트를 참고해주세요~ <br>\n",
    "  \n",
    "https://gmlwjd9405.github.io/2018/05/10/algorithm-heap-sort.html <br>\n",
    "  \n",
    "힙은 최소 힙 그리고 최대 힙으로 나뉘고, 오름차순 정렬을 위해서는 최소 힙 그리고 내림차순 정렬을 위해서는 최대 힙을 사용합니다. 힙 정렬은 분할 정복을 사용하지 않습니다. 하지만 공부를 해보신다면 분할 정복의 작동 원리가 힙 자료 구조에서 구현이 될 수 있다라는 것을 보여주죠.. (사견입니다.)<br>"
   ]
  },
  {
   "cell_type": "code",
   "execution_count": 78,
   "id": "ad0ca720",
   "metadata": {},
   "outputs": [
    {
     "name": "stdout",
     "output_type": "stream",
     "text": [
      "[0, 2, 4, 7, 8, 9, 12, 13]\n"
     ]
    }
   ],
   "source": [
    "def heap_sort(arr):\n",
    "    #배열 --> 최대 힙 변환하는 부분\n",
    "    for i in range(1, len(arr)):\n",
    "        c = i\n",
    "        while c != 0:\n",
    "            r = (c-1)//2\n",
    "            if arr[r] < arr[c]:\n",
    "                arr[r], arr[c] = arr[c], arr[r]\n",
    "            \n",
    "            c = r\n",
    "            \n",
    "    #힙에 값 채워넣기\n",
    "    for j in range(len(arr)-1, -1, -1):\n",
    "        arr[0], arr[j] = arr[j], arr[0]\n",
    "        r=0\n",
    "        c=1\n",
    "        \n",
    "        while c < j:\n",
    "            c = 2*r + 1\n",
    "            if c < j-1 and arr[c] < arr[c+1]:\n",
    "                c += 1\n",
    "            if c < j and arr[r] < arr[c]:\n",
    "                arr[r], arr[c] = arr[c], arr[r]\n",
    "            \n",
    "            r = c\n",
    "\n",
    "arr = [13, 4, 7, 9, 12, 2, 8, 0]\n",
    "heap_sort(arr)\n",
    "print(arr)"
   ]
  },
  {
   "cell_type": "markdown",
   "id": "dbca0927",
   "metadata": {},
   "source": [
    "__4.6 Quick Sort__ <br>\n",
    "  \n",
    "단언컨데, 정렬 알고리즘에서 단 하나만 선택하라면 저는 주저없이 퀵 정렬을 고르지 않을까 싶을 정도로 대중적으로 알려져 있는 정렬 알고리즘들 중에서는 가장 빠른 성능을 자랑합니다. 파이썬 리스트의 메서드인 .sort()가 퀵 정렬로 구현이 되어있을 만큼 중요하다고 볼 수 있겠습니다. <br>\n",
    "  \n",
    "병합 정렬과 같이 분할 정복과 재귀를 활용하지만, 가운데를 기점으로 분할하는 병합 정렬과는 달리, 퀵 정렬은 pivot 이라고 하는 포인트를 정해서 그 포인트를 기준으로 정렬합니다. 마찬가지로 예시를 들면서 설명해 보겠습니다. <br>\n",
    "  \n",
    "[6, 5, 1, 4, 7, 2, 3] 이라는 배열이 있다고 합니다. 피벗값을 지정하는 건 유저의 마음입니다. 피벗값이 미디안에 가까울수록 성능이 더 좋아지겠죠. 예시에서는 그냥 배열에 가운데에 위치한 친구를 피벗으로 정합니다. --> pivot == 4 <br>\n",
    "  \n",
    "[1, 2, 3] 4 [6, 5, 7] : 4보다 작으면 왼쪽으로 몰고 4보다 크거나 같으면 오른쪽으로 몹니다. <br>\n",
    "  \n",
    "왼쪽 친구들 [1,2,3]을 보겠습니다. 마찬가지로 중간 인덱스의 원소를 피벗으로 설정합니다 --> 2를 기준으로 정렬이 잘 되어있으니 왼쪽은 패스합니다. <br>\n",
    "  \n",
    "이제 피벗의 오른쪽 친구들 [6, 5, 7] 을 보겠습니다. 마찬가지로 중간 인덱스의 원소를 피벗으로 설정합니다 --> 5를 기준으로 왼쪽에는 5보다 작은 친구들 아니라면 오른쪽으로 배치합니다. 그렇게되면 --> [5, 7, 6] 이 됩니다. <br>\n",
    "  \n",
    "이제 5의 오른쪽 친구들 [7,6]을 보겠습니다. 인덱스 중간값 (0.5 --> 1) 에 해당하는 6을 기점으로 6보다 작으면 왼쪽 아니라면 오른쪽으로 배치합니다. -->[6,7] 이 되겠죠. 사실 앞선 4의 왼쪽 친구들은 잘 정렬이 되어서 설명을 생략했으나, 이러한 과정을 다 거쳤다는 것 말씀드립니다. 제 미약한 설명은 구현 코드를 보시면서 이해하시면 되겠습니다. <br> "
   ]
  },
  {
   "cell_type": "code",
   "execution_count": 79,
   "id": "4f4cdac6",
   "metadata": {},
   "outputs": [
    {
     "name": "stdout",
     "output_type": "stream",
     "text": [
      "[0, 2, 4, 7, 8, 9, 12, 22]\n"
     ]
    }
   ],
   "source": [
    "def quick_sort(arr):\n",
    "    if len(arr) <= 1:\n",
    "        return arr\n",
    "    pivot = arr[len(arr) // 2]\n",
    "    lesser_arr, equal_arr, greater_arr = [], [], []\n",
    "    for num in arr:\n",
    "        if num < pivot:\n",
    "            lesser_arr.append(num)\n",
    "        elif num > pivot:\n",
    "            greater_arr.append(num)\n",
    "        else:\n",
    "            equal_arr.append(num)\n",
    "    return quick_sort(lesser_arr) + equal_arr + quick_sort(greater_arr)\n",
    "\n",
    "arr = [22, 4, 7, 9, 12, 2, 8, 0]\n",
    "out = quick_sort(arr)\n",
    "print(out)"
   ]
  },
  {
   "cell_type": "markdown",
   "id": "4b3f6ac5",
   "metadata": {},
   "source": [
    "__정리__: <br>\n",
    "  \n",
    "느림 (복잡도 다 같음) --> 선택, 버블, 삽입 <br>\n",
    "빠른 (복잡도 다 같음) --> 병합, 힙, 퀵 <br>\n",
    "  \n",
    "아주 기본적인 정렬 알고리즘에 대해서 알아봤습니다. 이외에도 정렬 알고리즘은 무수히 많습니다. 시간적으로 여유가 되시는 분들은 Radix Sort, Counting Sort 정도 더 공부해 보시면 좋을 듯 합니다. 앞서 저희가 알아봤던 탐색 알고리즘을 포함해 몇 가지 정도는 파이썬으로 구현할 줄 아는게 실력 향상에 도움이 많이 됩니다. __하지만!__ 솔직히 얘기해서 구현 코드까지는 몰라도 됩니다..ㅎㅎ 어차피 파이썬 리스트의 .sort 메소드가 퀵정렬을 지원하기 때문입니다. __하지만!__ 그건 배열이라는 자료구조 한정해서의 얘기입니다. 물론 다른 파이썬에서 구현된 다른 자료구조들도 좋은 정렬 메소드가 있지만, 외부 모듈에서 구현된 경우라면 저희가 테스트때 사용을 못할수도 있으니까요. 가끔은 그냥 테스트나 인터뷰 과정에서 from scratch로 무슨 정렬을 구현해 봐라! 하는 경우도 더러 있으니까 알아둬서 나쁠건 없죠. 그래서 자신의 상황을 잘 인지하시고, 구현을 할 줄 아는게 도움이 많이 되겠다 하면 구현하는 방법을 아셔야 할 겁니다. <br>\n",
    "  \n",
    "밑에서는 연결 리스트에서의 정렬을 알아보겠습니다."
   ]
  },
  {
   "cell_type": "markdown",
   "id": "243e1815",
   "metadata": {},
   "source": [
    "__4.7 Merge Sort for LL__ <br>\n",
    "  \n",
    "앞서 언급 드린대로 파이썬에서는 연결 리스트의 대부분의 기능을 이미 리스트 클래스에서 지원하기 때문에 연결 리스트를 필수적으로 알아야 한다 뭐 이런건 없지만, 차후에 다른 자료구조를 이해하는데 도움이 많이 되는 자료 구조이기 때문에 학습을 하시는 걸 권장드립니다. <br>\n",
    "  \n",
    "섹션 4.7과 4.8은 GFG를 참조했고, 다른 토픽들도 많으니까 사이트 한 번 들어가 보셔서 쭉 look through 하시길 권장드립니다. <br>\n",
    "  \n",
    "이제 본론으로 넘어가서, 연결 리스트에서 가장 선호되는 정렬 알고리즘은 병합 정렬입니다. 앞서 배열에서는 퀵 정렬이 가장 빠르다고 말씀 드렸는데 연결 리스트에는 해당이 되지 않는 이유는 간단합니다. 바로 구조 때문인데요. 배열은 빠르게 모든 원소를 iterate 할 수 있다는 장점이 있지만, 연결 리스트는 그렇지 않습니다. 단방향 연결 리스트는 한 방향으로밖에 iterate 하지 못할 뿐더러, 구현도 까다로우니까요. 그래서 병합 정렬이외의 알고리즘들은 random-access 의 성질을 띄고 있기 때문에 연결리스트에서는 선호되지 않습니다. 또한 연결 리스트의 경우 힙 구조로 변환이 굉장히 비효율적이기 때문에 힙 정렬도 사용하지 않습니다. <br>\n",
    "  \n",
    "밑의 구현 코드는 GFG 에서 복붙해 왔습니다. 아래 코드는 구현할 필요가 거의 없다고 보셔도 무방합니다. 다만, 이해는 하고 넘어가시는게 좋을 듯 합니다."
   ]
  },
  {
   "cell_type": "code",
   "execution_count": 2,
   "id": "7d55fb3d",
   "metadata": {},
   "outputs": [
    {
     "name": "stdout",
     "output_type": "stream",
     "text": [
      "Sorted Linked List is:\n",
      "2 3 5 10 15 20  \n"
     ]
    }
   ],
   "source": [
    "# Python3 program to merge sort of linked list\n",
    "\n",
    "# create Node using class Node.\n",
    "class Node:\n",
    "\tdef __init__(self, data):\n",
    "\t\tself.data = data\n",
    "\t\tself.next = None\n",
    "\n",
    "class LinkedList:\n",
    "\tdef __init__(self):\n",
    "\t\tself.head = None\n",
    "\t\n",
    "\t# push new value to linked list\n",
    "\t# using append method\n",
    "\tdef append(self, new_value):\n",
    "\t\t\n",
    "\t\t# Allocate new node\n",
    "\t\tnew_node = Node(new_value)\n",
    "\t\t\n",
    "\t\t# if head is None, initialize it to new node\n",
    "\t\tif self.head is None:\n",
    "\t\t\tself.head = new_node\n",
    "\t\t\treturn\n",
    "\t\tcurr_node = self.head\n",
    "\t\twhile curr_node.next is not None:\n",
    "\t\t\tcurr_node = curr_node.next\n",
    "\t\t\t\n",
    "\t\t# Append the new node at the end\n",
    "\t\t# of the linked list\n",
    "\t\tcurr_node.next = new_node\n",
    "\t\t\n",
    "\tdef sortedMerge(self, a, b):\n",
    "\t\tresult = None\n",
    "\t\t\n",
    "\t\t# Base cases\n",
    "\t\tif a == None:\n",
    "\t\t\treturn b\n",
    "\t\tif b == None:\n",
    "\t\t\treturn a\n",
    "\t\t\t\n",
    "\t\t# pick either a or b and recur..\n",
    "\t\tif a.data <= b.data:\n",
    "\t\t\tresult = a\n",
    "\t\t\tresult.next = self.sortedMerge(a.next, b)\n",
    "\t\telse:\n",
    "\t\t\tresult = b\n",
    "\t\t\tresult.next = self.sortedMerge(a, b.next)\n",
    "\t\treturn result\n",
    "\t\n",
    "\tdef mergeSort(self, h):\n",
    "\t\t\n",
    "\t\t# Base case if head is None\n",
    "\t\tif h == None or h.next == None:\n",
    "\t\t\treturn h\n",
    "\n",
    "\t\t# get the middle of the list\n",
    "\t\tmiddle = self.getMiddle(h)\n",
    "\t\tnexttomiddle = middle.next\n",
    "\n",
    "\t\t# set the next of middle node to None\n",
    "\t\tmiddle.next = None\n",
    "\n",
    "\t\t# Apply mergeSort on left list\n",
    "\t\tleft = self.mergeSort(h)\n",
    "\t\t\n",
    "\t\t# Apply mergeSort on right list\n",
    "\t\tright = self.mergeSort(nexttomiddle)\n",
    "\n",
    "\t\t# Merge the left and right lists\n",
    "\t\tsortedlist = self.sortedMerge(left, right)\n",
    "\t\treturn sortedlist\n",
    "\t\n",
    "\t# Utility function to get the middle\n",
    "\t# of the linked list\n",
    "\tdef getMiddle(self, head):\n",
    "\t\tif (head == None):\n",
    "\t\t\treturn head\n",
    "\n",
    "\t\tslow = head\n",
    "\t\tfast = head\n",
    "\n",
    "\t\twhile (fast.next != None and\n",
    "\t\t\tfast.next.next != None):\n",
    "\t\t\tslow = slow.next\n",
    "\t\t\tfast = fast.next.next\n",
    "\t\t\t\n",
    "\t\treturn slow\n",
    "\t\t\n",
    "# Utility function to print the linked list\n",
    "def printList(head):\n",
    "\tif head is None:\n",
    "\t\tprint(' ')\n",
    "\t\treturn\n",
    "\tcurr_node = head\n",
    "\twhile curr_node:\n",
    "\t\tprint(curr_node.data, end = \" \")\n",
    "\t\tcurr_node = curr_node.next\n",
    "\tprint(' ')\n",
    "\t\n",
    "# Driver Code\n",
    "if __name__ == '__main__':\n",
    "\tli = LinkedList()\n",
    "\t\n",
    "\t# Let us create a unsorted linked list\n",
    "\t# to test the functions created.\n",
    "\t# The list shall be a: 2->3->20->5->10->15\n",
    "\tli.append(15)\n",
    "\tli.append(10)\n",
    "\tli.append(5)\n",
    "\tli.append(20)\n",
    "\tli.append(3)\n",
    "\tli.append(2)\n",
    "\t\n",
    "\t# Apply merge Sort\n",
    "\tli.head = li.mergeSort(li.head)\n",
    "\tprint (\"Sorted Linked List is:\")\n",
    "\tprintList(li.head)\n",
    "\n",
    "# This code is contributed by Vikas Chitturi"
   ]
  },
  {
   "cell_type": "markdown",
   "id": "991f2af5",
   "metadata": {},
   "source": [
    "__4.8 Quick Sort for LL__ <br>\n",
    "  \n",
    "이전 섹션과 거의 할 말은 동일합니다. 퀵 정렬은 비선호 하긴하나 그래도 알아뒤서 나쁠 것 없으니까요. 밑의 구현 코드를 보시고 이해하는 수준에서 마무리 하셔도 무방할 듯 합니다."
   ]
  },
  {
   "cell_type": "code",
   "execution_count": 81,
   "id": "c175bc99",
   "metadata": {},
   "outputs": [
    {
     "name": "stdout",
     "output_type": "stream",
     "text": [
      "\n",
      "Linked List before sorting\n",
      "30 3 4 20 5 \n",
      "Linked List after sorting\n",
      "3 4 5 20 30 "
     ]
    }
   ],
   "source": [
    "'''\n",
    "\n",
    "sort a linked list using quick sort\n",
    "\n",
    "'''\n",
    "\n",
    "class Node:\n",
    "\tdef __init__(self, val):\n",
    "\t\tself.data = val\n",
    "\t\tself.next = None\n",
    "\n",
    "class QuickSortLinkedList:\n",
    "\n",
    "\tdef __init__(self):\n",
    "\t\tself.head=None\n",
    "\n",
    "\tdef addNode(self,data):\n",
    "\t\tif (self.head == None):\n",
    "\t\t\tself.head = Node(data)\n",
    "\t\t\treturn\n",
    "\n",
    "\t\tcurr = self.head\n",
    "\t\twhile (curr.next != None):\n",
    "\t\t\tcurr = curr.next\n",
    "\n",
    "\t\tnewNode = Node(data)\n",
    "\t\tcurr.next = newNode\n",
    "\n",
    "\tdef printList(self,n):\n",
    "\t\twhile (n != None):\n",
    "\t\t\tprint(n.data, end=\" \")\n",
    "\t\t\tn = n.next\n",
    "\n",
    "\t''' takes first and last node,but do not\n",
    "\tbreak any links in the whole linked list'''\n",
    "\tdef paritionLast(self,start, end):\n",
    "\t\tif (start == end or start == None or end == None):\n",
    "\t\t\treturn start\n",
    "\n",
    "\t\tpivot_prev = start\n",
    "\t\tcurr = start\n",
    "\t\tpivot = end.data\n",
    "\n",
    "\t\t'''iterate till one before the end,\n",
    "\t\tno need to iterate till the end because end is pivot'''\n",
    "\n",
    "\t\twhile (start != end):\n",
    "\t\t\tif (start.data < pivot):\n",
    "\t\t\t\n",
    "\t\t\t\t# keep tracks of last modified item\n",
    "\t\t\t\tpivot_prev = curr\n",
    "\t\t\t\ttemp = curr.data\n",
    "\t\t\t\tcurr.data = start.data\n",
    "\t\t\t\tstart.data = temp\n",
    "\t\t\t\tcurr = curr.next\n",
    "\t\t\tstart = start.next\n",
    "\n",
    "\t\t'''swap the position of curr i.e.\n",
    "\t\tnext suitable index and pivot'''\n",
    "\n",
    "\t\ttemp = curr.data\n",
    "\t\tcurr.data = pivot\n",
    "\t\tend.data = temp\n",
    "\n",
    "\t\t''' return one previous to current because\n",
    "\t\tcurrent is now pointing to pivot '''\n",
    "\t\treturn pivot_prev\n",
    "\n",
    "\tdef sort(self, start, end):\n",
    "\t\tif(start == None or start == end or start == end.next):\n",
    "\t\t\treturn\n",
    "\n",
    "\t\t# split list and partition recurse\n",
    "\t\tpivot_prev = self.paritionLast(start, end)\n",
    "\t\tself.sort(start, pivot_prev)\n",
    "\n",
    "\t\t'''\n",
    "\t\tif pivot is picked and moved to the start,\n",
    "\t\tthat means start and pivot is same\n",
    "\t\tso pick from next of pivot\n",
    "\t\t'''\n",
    "\t\tif(pivot_prev != None and pivot_prev == start):\n",
    "\t\t\tself.sort(pivot_prev.next, end)\n",
    "\n",
    "\t\t# if pivot is in between of the list,start from next of pivot,\n",
    "\t\t# since we have pivot_prev, so we move two nodes\n",
    "\t\telif (pivot_prev != None and pivot_prev.next != None):\n",
    "\t\t\tself.sort(pivot_prev.next.next, end)\n",
    "\n",
    "if __name__ == \"__main__\":\n",
    "\tll = QuickSortLinkedList()\n",
    "\tll.addNode(30)\n",
    "\tll.addNode(3)\n",
    "\tll.addNode(4)\n",
    "\tll.addNode(20)\n",
    "\tll.addNode(5)\n",
    "\n",
    "\tn = ll.head\n",
    "\twhile (n.next != None):\n",
    "\t\tn = n.next\n",
    "\n",
    "\tprint(\"\\nLinked List before sorting\")\n",
    "\tll.printList(ll.head)\n",
    "\n",
    "\tll.sort(ll.head, n)\n",
    "\n",
    "\tprint(\"\\nLinked List after sorting\");\n",
    "\tll.printList(ll.head)\n",
    "\t\n",
    "\t# This code is contributed by humpheykibet.\n"
   ]
  },
  {
   "cell_type": "markdown",
   "id": "42ddf4fb",
   "metadata": {},
   "source": [
    "### 5. Recursion"
   ]
  },
  {
   "cell_type": "markdown",
   "id": "b179c742",
   "metadata": {},
   "source": [
    "Recursion은 한국어로 \"재귀\" 라고 표현합니다. 앞서 설명한 Quicksort, Merge sort에 이미 재귀가 등장한 바 있는데요, 4.4 Merge sort 예시를 보시면 merge_sort 함수는 함수 내에서 자기 자신을 또 다시 호출합니다. 이처럼 한 함수 내에서 같은 함수를 다시 호출하는 것이 바로 재귀입니다. 개념 자체는 간단하지만 추후 더 어려운 수준의 알고리즘 문제에서도 꾸준히 필요한 테크닉이기 때문에 확실히 이해하고 넘어가시면 좋을 것 같습니다. 섹션 5에서는 재귀의 알고리즘과 주의 사항에 대해 설명하고 간단한 예시를 보여드리도록 하겠습니다."
   ]
  },
  {
   "cell_type": "markdown",
   "id": "eb0c7b4f",
   "metadata": {},
   "source": [
    "__5.1 Recursion__ <br>\n",
    "\n",
    "Recursion 알고리즘은 두 가지를 필요로 합니다. 첫 번째는 이미 아시다시피 자기 자신을 호출하는 것이고, 두 번째는 바로 base case입니다. 설명에 들어가기 앞서 아래 코드를 한 번 봐주세요."
   ]
  },
  {
   "cell_type": "code",
   "execution_count": 4,
   "id": "f6ce5961",
   "metadata": {},
   "outputs": [],
   "source": [
    "def factorial(n):\n",
    "    return n * factorial(n-1)\n",
    "\n",
    "print(factorial(5))"
   ]
  },
  {
   "cell_type": "markdown",
   "id": "38337c77",
   "metadata": {},
   "source": [
    "팩토리얼을 계산하는 코드를 재귀로 짜 보았습니다. 위 코드를 실행하면 어떤 일이 일어날까요? <br>\n",
    "먼저 factorial(5)는 5 * factorial(4)를 반환합니다. factorial(4)는 4 * factorial(3)을 반환합니다. <br>\n",
    "이런 식으로 쭉 들어가다 보면 factorial(1)은 1 * factorial(0)을, factorial(0)은 0 * factorial(-1)...<br>\n",
    "잘못된 점을 눈치 채셨나요? 그렇습니다. 위 코드는 결과를 출력하기는 커녕, call stack에 overflow가 발생할 때 까지 factorial 함수만 호출하다가 결국 강제로 종료될 겁니다. 이와 같이 Recursion에서 base case를 명시해주지 않으면 무한 루프에 빠지게 되기 때문에 항상 base case를 명시해야 합니다.<br> \n",
    "아래는 base case를 포함한 코드입니다."
   ]
  },
  {
   "cell_type": "code",
   "execution_count": 6,
   "id": "c1c54add",
   "metadata": {},
   "outputs": [
    {
     "name": "stdout",
     "output_type": "stream",
     "text": [
      "120\n"
     ]
    }
   ],
   "source": [
    "def factorial(n):\n",
    "    # base case\n",
    "    if n == 1:\n",
    "        return 1\n",
    "    \n",
    "    # recursion\n",
    "    return n * factorial(n-1)\n",
    "\n",
    "print(factorial(5))"
   ]
  },
  {
   "cell_type": "markdown",
   "id": "27cc7ece",
   "metadata": {},
   "source": [
    "이런 식으로 자기 자신을 한 번씩만 호출하는 재귀 함수도 있지만, 여러 번 호출 또한 가능합니다. 재귀 함수를 설명할 때 빠지지 않는 예시가 또 하나 있는데, 바로 피보나치 수입니다."
   ]
  },
  {
   "cell_type": "code",
   "execution_count": null,
   "id": "72036337",
   "metadata": {},
   "outputs": [],
   "source": [
    "def fibonacci(n):\n",
    "    #base case\n",
    "    if n < 2:\n",
    "        return 1\n",
    "    \n",
    "    return fibonacci(n-1) + fibonacci(n-2)"
   ]
  },
  {
   "cell_type": "markdown",
   "id": "444d56f5",
   "metadata": {},
   "source": [
    "피보나치 수열은 두 개의 1로 시작하며, 수열의 n번째 수는 n-1번째 수와 n-2번째 수의 합입니다. n의 크기가 작을 땐 위와 같이 재귀로 간단하게 풀 수 있는 문제이기는 하나, n의 값이 커질 수록 계산량이 기하급수적으로 늘어나게 됩니다.<br>\n",
    "n의 값이 100이라고 가정해 봅시다. <br>\n",
    "fibonacci(100)은 fibonacci를 총 두 번 (fibonacci(99)와 fibonacci(98)) 호출합니다. fibonacci(99)은 fibonacci(98)과 fibonacci(97)을, fibonacci(98)은 fibonacci(97)과 fibonacci(96)을 호출합니다.<br>\n",
    "이런 식이면 n이 증가함에 따라 함수 호출 횟수는 기하급수적으로 더 늘어나겠죠? <br>\n",
    "더군다나 fibonacci(99)와 fibonacci(98)은 각자 한 번씩 fibonacci(97)을 중복해서 호출하는 걸 보면 아시겠지만 이렇게 기하급수적으로 많이 호출된 함수들 중 상당수가 중복되면서 매우 비효율적이게 됩니다.<br>\n",
    "이런 문제를 해결하는 방법은 추후에 공부하게 되겠지만, 혹시 궁금하신 분들은 \"Dynamic programming\", \"동적 계획법\" 이라는 키워드로 검색을 해 보시면 되겠습니다."
   ]
  },
  {
   "cell_type": "markdown",
   "id": "7080e321",
   "metadata": {},
   "source": [
    "### 6. Divide and Conquer"
   ]
  },
  {
   "cell_type": "markdown",
   "id": "1ff6e0b0",
   "metadata": {},
   "source": [
    "Divide and Conquer은 말 그대로 분할 정복, 쉽게 말하면 문제를 부분 문제 (subproblem) 들로 분할하여 해결하는 알고리즘입니다. Divide and Conquer의 핵심은 문제를 최소 단위의 부분 문제까지 분할해 각 부분 문제들을 해결하는 것입니다. 앞서 보여드린 <b>3.2 binary search, 4.4 Quicksort, 4.6 Merge sort</b>는 분할 정복 알고리즘의 대표격이며, 위에서 이미 설명한 바 있기 때문에 섹션 6에서는 따로 예제 없이 분할 정복 알고리즘의 각 부분에 대해서만 간략히 설명하겠습니다."
   ]
  },
  {
   "cell_type": "markdown",
   "id": "882dee6b",
   "metadata": {},
   "source": [
    "__6.1 Divide__ <br>\n",
    "\n",
    "Divide and Conquer는 당연한 얘기지만 Divide와 Conquer 두 부분으로 나눌 수 있습니다. <br> \n",
    "Divide and Conquer 알고리즘에서는 먼저 문제를 최소 단위의 subproblem들로 나누게 됩니다. <br>\n",
    "여기서 최소 단위란 subproblem을 더 이상 쪼갤 수 없는 경우를 의미하며, 가장 직관적인 예를 들자면 앞서 설명한 <b>4.4 Merge sort</b>에서 subarray의 length가 1이 되는 부분이 최소 단위입니다. <br>\n",
    "subproblem으로 분할하는 과정에서 재귀 또는 반복문을 사용하기 때문에 무한 루프를 방지하기 위한 base case가 존재해야 하며, 이 때 base case가 바로 최소 단위의 부분 문제입니다.<br>\n",
    "subproblem이 base case가 될 때까지 나누는 것을 Divide라고 보시면 됩니다.\n"
   ]
  },
  {
   "cell_type": "markdown",
   "id": "86e2cb93",
   "metadata": {},
   "source": [
    "__6.2 Conquer__ <br>\n",
    "\n",
    "두 번째 부분인 Conquer은 최소 단위로 쪼개진 subproblem들을 해결하는 부분입니다.<br>\n",
    "<b>3.2 Binary search</b>에서는 인덱스에 있는 값을 찾고자 하는 값과 비교하는 부분이라고 보면 되겠고, <b>4.4 Merge sort</b>의 경우에는 값의 크기를 서로 비교하는 부분이라고 보면 됩니다.<br>\n",
    "binary search는 값을 찾는 순간 return 하면 끝이지만, merge sort나 quicksort같은 경우는 각 subproblem의 답들을 다시 하나로 합쳐야 온전한 답을 얻을 수 있기 때문에 각각의 답들을 적절히 Combine해주는 과정을 거쳐야 합니다. <br>\n",
    "이처럼 같은 분할 정복 알고리즘이라도 재귀 vs 반복문, Combine 과정의 유무 등 차이가 있을 수 있지만, 하나의 문제를 작은 단위로 쪼개어 푼다는 큰 틀은 동일합니다. 각 문제의 요구사항에 따라 가장 적합한 방법으로 풀어내시면 되겠습니다."
   ]
  },
  {
   "cell_type": "markdown",
   "id": "ff32428e",
   "metadata": {},
   "source": [
    "### 7. Conclusion"
   ]
  },
  {
   "cell_type": "code",
   "execution_count": null,
   "id": "62432f74",
   "metadata": {},
   "outputs": [],
   "source": []
  }
 ],
 "metadata": {
  "kernelspec": {
   "display_name": "Python 3 (ipykernel)",
   "language": "python",
   "name": "python3"
  },
  "language_info": {
   "codemirror_mode": {
    "name": "ipython",
    "version": 3
   },
   "file_extension": ".py",
   "mimetype": "text/x-python",
   "name": "python",
   "nbconvert_exporter": "python",
   "pygments_lexer": "ipython3",
   "version": "3.9.5"
  }
 },
 "nbformat": 4,
 "nbformat_minor": 5
}
