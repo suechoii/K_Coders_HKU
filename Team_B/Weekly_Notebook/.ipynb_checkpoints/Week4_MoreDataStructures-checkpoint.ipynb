{
 "cells": [
  {
   "cell_type": "markdown",
   "id": "4854cd60",
   "metadata": {},
   "source": [
    "# Week 4+5: More Data Structures"
   ]
  },
  {
   "cell_type": "markdown",
   "id": "a5d7bfc0",
   "metadata": {},
   "source": [
    "__Table of Contents__ <br>\n",
    "\n",
    "1. Stack, Queue, Priority Queue\n",
    "2. Binary Tree\n",
    "3. Binary Search Tree\n",
    "4. Hash\n",
    "5. Graph\n",
    "6. Matrix"
   ]
  },
  {
   "cell_type": "markdown",
   "id": "9cf14c5f",
   "metadata": {},
   "source": [
    "사실 많은 알고리즘들을 다루기전에 데이터 구조를 미리 다 이해하는게 낫다고 생각되서 꼭 필요한 데이터 구조를 이번 주에 학습을 완료하고자 합니다. 배열과 연결리스트 그리고 힙을 다뤄봤는데, 추가적으로 스택, 큐, 우선순위 큐, 이진 트리, 이진 탐색 트리, 해시, 그래프, 매트릭스를 다뤄보고자 합니다. 이번에 다루는 데이터 구조까지 학습을 완료한다면, 필수적으로 알아야하는 데이터 구조에 대한 학습이 끝이 납니다."
   ]
  },
  {
   "cell_type": "markdown",
   "id": "1bbb50c1",
   "metadata": {},
   "source": [
    "### 1. Stack, Queue, Priority Queue"
   ]
  },
  {
   "cell_type": "markdown",
   "id": "8b2d1d1f",
   "metadata": {},
   "source": [
    "#### 1.1 Stack\n",
    "\n",
    "스택은 이름에서부터 알 수 있듯이 쌓아올리는 구조의 데이터 구조입니다. 예를 들어, 프링글스를 저희가 만들고 까서 먹어본다고 해봅시다. 프링글스 제일 밑바닥에 위치할 칩은 제일 먼저 들어가는 칩이겠죠. 하지만 저희가 막상 꺼내어 먹을 때는 가장 마지막으로 꺼내는 칩이 될 것입니다. 반면, 프링글스 제일 위에 위치할 칩은 가장 나중에 들어갈 칩이죠. 하지만 저희가 가장 먼저 먹게 될 칩이기도 합니다. 이렇게 제일 마지막에 들어간 데이터가 제일 먼저 나오는 데이터 구조입니다. (Last in First Out - LIFO). <br>\n",
    "  \n",
    "스택이라는 자료구조는 파이썬 기본 패키지에 따로 구현되어있지 않습니다. 하지만 이 역시 파이썬의 리스트에서 스택의 모든 기능을 다하고 있기 때문에 리스트로 충분히 스택의 핵심 기능을 구현할 수 있습니다. "
   ]
  },
  {
   "cell_type": "code",
   "execution_count": 1,
   "id": "b28e5732",
   "metadata": {},
   "outputs": [
    {
     "name": "stdout",
     "output_type": "stream",
     "text": [
      "3\n"
     ]
    }
   ],
   "source": [
    "a_list = [1,2,3]\n",
    "\n",
    "print(a_list.pop())"
   ]
  },
  {
   "cell_type": "code",
   "execution_count": 2,
   "id": "001b8b93",
   "metadata": {},
   "outputs": [
    {
     "data": {
      "text/plain": [
       "[1, 2]"
      ]
     },
     "execution_count": 2,
     "metadata": {},
     "output_type": "execute_result"
    }
   ],
   "source": [
    "a_list #리스트에서 3이 없어짐"
   ]
  },
  {
   "cell_type": "code",
   "execution_count": 3,
   "id": "fd6938d1",
   "metadata": {},
   "outputs": [
    {
     "data": {
      "text/plain": [
       "[1, 2, 4]"
      ]
     },
     "execution_count": 3,
     "metadata": {},
     "output_type": "execute_result"
    }
   ],
   "source": [
    "a_list.append(4) #스택에 4를 추가\n",
    "\n",
    "a_list"
   ]
  },
  {
   "cell_type": "markdown",
   "id": "d9132a58",
   "metadata": {},
   "source": [
    "#### 1.2 Queue\n",
    "\n",
    "큐 역시 이름에서부터 감이 오듯이 먼저 들어간 친구가 먼저 나오는 (First in First out - FIFO) 데이터 구조입니다. 식당에 가서 웨이팅이 걸려있을때 먼저 와서 기다린 사람이 먼저 자리를 겟 하듯 큐도 그런 방식으로 작동합니다. <br>\n",
    "  \n",
    "큐 자료형은 파이썬 내장 모듈인 collections에 deque 로 구현가능합니다. deque 자료형으로 스택도 구현 가능합니다. 밑의 예시를 참고해 주세요!"
   ]
  },
  {
   "cell_type": "code",
   "execution_count": 8,
   "id": "1a919d58",
   "metadata": {},
   "outputs": [
    {
     "data": {
      "text/plain": [
       "deque([1, 1, 2, 3, 4])"
      ]
     },
     "execution_count": 8,
     "metadata": {},
     "output_type": "execute_result"
    }
   ],
   "source": [
    "from collections import deque\n",
    "a_list = deque([1,1,2,3,4])\n",
    "a_list"
   ]
  },
  {
   "cell_type": "code",
   "execution_count": 9,
   "id": "d159a482",
   "metadata": {},
   "outputs": [
    {
     "data": {
      "text/plain": [
       "deque([0, 1, 1, 2, 3, 4, 5])"
      ]
     },
     "execution_count": 9,
     "metadata": {},
     "output_type": "execute_result"
    }
   ],
   "source": [
    "a_list.append(5) #맨 끝에 데이터 추가\n",
    "a_list.appendleft(0) #맨 왼쪽에 데이터 추가 (새치기라고 생각하시면 됩니다.)\n",
    "\n",
    "a_list"
   ]
  },
  {
   "cell_type": "code",
   "execution_count": 10,
   "id": "649b9e9c",
   "metadata": {},
   "outputs": [
    {
     "name": "stdout",
     "output_type": "stream",
     "text": [
      "5\n",
      "0\n"
     ]
    }
   ],
   "source": [
    "print(a_list.pop()) #스택처럼 마지막 친구를 도출\n",
    "print(a_list.popleft()) #큐처럼 줄 제일 앞의 친구를 도출"
   ]
  },
  {
   "cell_type": "code",
   "execution_count": 11,
   "id": "d25db034",
   "metadata": {},
   "outputs": [
    {
     "data": {
      "text/plain": [
       "deque([1, 1, 2, 3, 4])"
      ]
     },
     "execution_count": 11,
     "metadata": {},
     "output_type": "execute_result"
    }
   ],
   "source": [
    "a_list #나간 친구들은 큐에 더 이상 존재 x"
   ]
  },
  {
   "cell_type": "markdown",
   "id": "f40372f1",
   "metadata": {},
   "source": [
    "deque 모듈은 더 많은 기능을 제공하니, official documentation을 참고해주세요"
   ]
  },
  {
   "cell_type": "markdown",
   "id": "413cd53b",
   "metadata": {},
   "source": [
    "#### 1.3 Priority Queue\n",
    "\n",
    "우선순위 큐와 이전의 큐와 차이점은 우선 순위대로 원소를 pop합니다. 예를 들자면 예약 번호가 더 빠른 손님을 먼저 호출하듯이 데이터에 우선 순위를 부여할 수 있습니다. 이러한 자료 구조형은 추후에 그리디 탐색이나 A* 탐색같은 문제들에서 활용될 수 있습니다. 만약 우선 순위가 같다면 먼저 입력된 자료가 호출됩니다. <br>\n",
    "  \n",
    "우선순위 큐는 파이썬 내장 모듈인 queue에서 PriorityQueue 모듈을 불러와서 사용할 수 있습니다. 밑의 예시를 참고해주세요!"
   ]
  },
  {
   "cell_type": "code",
   "execution_count": 15,
   "id": "a7bc3012",
   "metadata": {},
   "outputs": [],
   "source": [
    "from queue import PriorityQueue\n",
    "\n",
    "q = PriorityQueue()\n",
    "\n",
    "q.put((1, 'Sam')) #우선순위 큐에 자료 넣기 - (우선 순위, 자료) 이런 식으로 넣거나 단순히 정수만 넣어도 됨\n",
    "q.put((2, 'Tom'))\n",
    "q.put((3, 'Lam'))\n",
    "q.put((3, 'Lol'))\n",
    "q.put((4, 'Mam'))\n",
    "q.put((5, 'Tam'))\n",
    "\n",
    "# 해당 모듈은 iterable 하지 않기 때문에 전체 리스트를 한꺼번에 출력 불가"
   ]
  },
  {
   "cell_type": "code",
   "execution_count": 16,
   "id": "b4f2f01d",
   "metadata": {},
   "outputs": [
    {
     "name": "stdout",
     "output_type": "stream",
     "text": [
      "Sam\n",
      "(2, 'Tom')\n",
      "Lam\n",
      "Lol\n"
     ]
    }
   ],
   "source": [
    "print(q.get()[1]) #호출하기 [1]은 우선순위가 아닌 값을 호출\n",
    "print(q.get()) #통째로 호출\n",
    "print(q.get()[1]) # 우선 순위가 같아도 Lam 이 먼저 들어갔기 때문에 먼저 나옴\n",
    "print(q.get()[1])"
   ]
  },
  {
   "cell_type": "markdown",
   "id": "e37f19cb",
   "metadata": {},
   "source": [
    "### 2. Binary Tree"
   ]
  },
  {
   "cell_type": "markdown",
   "id": "4abfb329",
   "metadata": {},
   "source": [
    "Tree 구조는 부모노드와 자식노드로 이루어진 자료 구조입니다. 각 노드는 Edge로 이어져 있습니다. Binary Tree 이진 트리는 기존 트리 구조와는 다르게 자식 노드가 두개뿐인 트리입니다. 이미지는 아래 링크를 참고해주세요. <br>\n",
    "  \n",
    "https://www.google.com/search?q=binary+tree&sxsrf=APq-WBtc80PxOcukHq88_aQzFlFuqv0Fkw:1644086007589&source=lnms&tbm=isch&sa=X&ved=2ahUKEwi3ltnTmen1AhWwyosBHWLPBycQ_AUoAXoECAoQAw&biw=1440&bih=705&dpr=2 <br>\n",
    "  \n",
    "이진 트리는 굉장히 중요한 자료구조입니다. 데이터 탐색을 더 빠른 시간안에 가능케 해주고, 추후 많은 알고리즘에서 활용되는 자료구조입니다. 트리와 그래프는 각 노드가 엣지로 이어져 있다는 점에서 유사하지만, 가장 큰 차이점은 노드가 전개되는 방향에 있습니다. 트리는 위에서 아래로 (부모 노드에서 자식노드로) 전개되는 반면 (directed), 그래프는 방향성 없이 (undirected) 전개된다는 점에서 차이를 가집니다. <br>\n",
    "  \n",
    "밑의 이진 트리 구현 코드를 참고해주시길 바랍니다."
   ]
  },
  {
   "cell_type": "code",
   "execution_count": 1,
   "id": "0105ae22",
   "metadata": {},
   "outputs": [],
   "source": [
    "class Node():\n",
    "    def __init__(self, data):\n",
    "        self.data = data\n",
    "        self.left = None #왼쪽 자식 노드\n",
    "        self.right = None #오른쪽 자식 노드\n",
    "\n",
    "class BinaryTree():\n",
    "    def __init__(self): #Tree 만들기\n",
    "        self.root = None\n",
    "    \n",
    "# 노드 생성\n",
    "tree = BinaryTree()\n",
    "n1 = Node(10)\n",
    "n2 = Node(20)\n",
    "n3 = Node(30)\n",
    "n4 = Node(40)\n",
    "n5 = Node(50)\n",
    "n6 = Node(60)\n",
    "n7 = Node(70)\n",
    "n8 = Node(80)\n",
    "\n",
    "# 트리 만들기\n",
    "\"\"\"\n",
    "            n1\n",
    "        /        \\\n",
    "       n2        n3\n",
    "      /  \\      /  \\\n",
    "    n4   n5    n6  n7\n",
    "   /\n",
    "  n8\n",
    "\"\"\"\n",
    "tree.root = n1\n",
    "n1.left = n2\n",
    "n1.right = n3\n",
    "n2.left = n4\n",
    "n2.right = n5\n",
    "n3.left = n6\n",
    "n3.right = n7\n",
    "n4.left = n8"
   ]
  },
  {
   "cell_type": "markdown",
   "id": "eba0e182",
   "metadata": {},
   "source": [
    "__Traversal__<br>\n",
    "  \n",
    "순회 (Traversal) 는 노드를 방문하는 순서를 일컫습니다. 트리 순회 방법으로는 대표적으로 3+1가지가 있는데, 전위 (preorder), 중위 (inorder), 후위 (postorder), 그리고 레벨 (levelorder) 순회가 있습니다. 각 순회 방법에 대해서는 구글링해보시거나 긱포긱을 참고해서 읽어보시고 이번 주 문제에도 있는 순회 구현 문제를 풀어보시길 바랍니다. 위의 BinaryTree 클래스 하위에 순회 함수를 구현해서 각 순회 방법을 통한 노드 출력 순서를 연습해 보시길 권장드립니다."
   ]
  },
  {
   "cell_type": "markdown",
   "id": "9da13b6d",
   "metadata": {},
   "source": [
    "### 3. Binary Search Tree"
   ]
  },
  {
   "cell_type": "markdown",
   "id": "38693d73",
   "metadata": {},
   "source": [
    "Binary Search Tree (BST), 이진 탐색 트리는 이진 트리에서 탐색을 더 용이하게 만들고자 데이터를 넣는 순서를 미리 정해둔 자료 구조입니다. 이 규칙은 모든 노드에 대해서 왼쪽 노드보다 오른쪽 노드가 더 크게 나열하는 것입니다. 물론 그냥 해당 규칙을 따르면 안되겠죠. 트리가 Balanced 임을 지키면서 해당 규칙에 맞게 데이터를 넣습니다. 균형 트리라하면, 모든 노드의 자식 노드 개수가 자기 자신의 부모 노드의 자식 노드 갯수보다 많으면 안됩니다. 쉽게 풀어 얘기하자면, 그냥 한 쪽에만 몰아 넣을 수 없고 최대한 좌우 대칭적이게끔 트리를 구성하여야 한다는 얘기입니다. 자세한 얘기는 Google 또는 긱포긱에 Balanced Tree 그리고 BST를 검색하셔서 이해하시기 바랍니다..ㅎㅎ <br>\n",
    "  \n",
    "밑은 파이썬 구현 코드입니다."
   ]
  },
  {
   "cell_type": "code",
   "execution_count": 3,
   "id": "13eed2c0",
   "metadata": {},
   "outputs": [],
   "source": [
    "class Node:\n",
    "    def __init__(self, data):\n",
    "        self.data = data\n",
    "        self.left = None\n",
    "        self.right = None\n",
    "\n",
    "class BST:\n",
    "    def __init__(self, root):\n",
    "        self.root = root\n",
    "\n",
    "    def insert(self, value): #아래의 코드를 잘 이해해보시기 바랍니다!\n",
    "        self.current_node = self.root\n",
    "        \"\"\"\n",
    "        삽입하고자 하는 값이 current_node의 값보다 작을 때. 현재 노드의 왼쪽 자식 노드가 있는지 확인하고 있으면 current_node를 갱신합니다. \n",
    "        없을 경우에는 current_node의 왼쪽 자식 노드에 삽입하고자 하는 노드를 삽입합니다.\n",
    "        \"\"\"\n",
    "        while True:\n",
    "            if value < self.current_node.value:\n",
    "                if self.current_node.left != None:\n",
    "                    self.current_node = self.current_node.left\n",
    "                else:\n",
    "                    self.current_node.left = Node(value)\n",
    "                    break\n",
    "            else:\n",
    "                if self.current_node.right != None:\n",
    "                    self.current_node = self.current_node.right\n",
    "                else:\n",
    "                    self.current_node.right = Node(value)\n",
    "                    break"
   ]
  },
  {
   "cell_type": "markdown",
   "id": "dd20fc31",
   "metadata": {},
   "source": [
    "이진 탐색 트리에서 값을 넣는 insert 함수는 재귀로도 구현이 가능합니다! 한 번 도전해보시기 바랍니다. 순회 함수를 사용해서 탐색 그리고 삭제 함수도 구현해 보시기 바랍니다."
   ]
  },
  {
   "cell_type": "markdown",
   "id": "63f14767",
   "metadata": {},
   "source": [
    "### 4. Hash"
   ]
  },
  {
   "cell_type": "markdown",
   "id": "e5a58ce8",
   "metadata": {},
   "source": [
    "해시입니다! 물론 해시도 자세히 들여다보면 알아야 될 부분이 많지만, 저희는 굉장히 간단히 짚고만 넘어가 봅시다. 해시 / 해시테이블은 특정 키값을 이용해 값에 엑세스 할 수 있도록하는 자료구조입니다. 예를 들자면, 저희가 타오바오에 회원가입을 한다고 해봅시다. 회원가입을 마치면 저희의 User_id 가 생길 것이고, 그 User_id 하위에 [이름, 생년월일, 이메일 주소, 휴대폰 번호, ...] 라는 배열이 저장되겠죠. 만약 타오바오측에서 저희의 정보를 엑세스하고 싶다면 User_id를 가지고 엑세스하기 훨씬 더 간편해 지겠죠. <br>\n",
    "  \n",
    "이렇게 key-value 쌍으로 데이터를 저장하게 되면 고차원의 대용량 데이터를 활용하기 훨씬 더 용이해 질 것입니다. 실제로 해시 테이블을 사용하게되면 데이터 입력, 탐색, 삭제등의 기능들이 O(1) 시간 안에 구현이 가능하게 됩니다. 그렇다면 해시테이블 같은 자료구조가 언제 가장 많이 사용될까 생각해보면 역시 DB 관리가 아닐까 싶네요..<br>\n",
    "  \n",
    "파이썬으로 해시를 구현하는 방법은 굉장히 간단합니다. 바로 딕셔너리 자료형을 쓰는 것이죠. 딕셔너리 자체가 key-value 형태로 이루어져 있기 때문입니다. 예제 코드는 다루지 않겠습니다. "
   ]
  },
  {
   "cell_type": "markdown",
   "id": "04196913",
   "metadata": {},
   "source": [
    "### 5. Graph"
   ]
  },
  {
   "cell_type": "markdown",
   "id": "92c781c4",
   "metadata": {},
   "source": [
    "### 6. Matrix"
   ]
  }
 ],
 "metadata": {
  "kernelspec": {
   "display_name": "Python 3 (ipykernel)",
   "language": "python",
   "name": "python3"
  },
  "language_info": {
   "codemirror_mode": {
    "name": "ipython",
    "version": 3
   },
   "file_extension": ".py",
   "mimetype": "text/x-python",
   "name": "python",
   "nbconvert_exporter": "python",
   "pygments_lexer": "ipython3",
   "version": "3.9.7"
  }
 },
 "nbformat": 4,
 "nbformat_minor": 5
}
