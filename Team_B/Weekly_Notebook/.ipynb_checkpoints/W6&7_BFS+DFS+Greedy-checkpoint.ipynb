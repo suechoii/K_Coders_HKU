{
 "cells": [
  {
   "cell_type": "markdown",
   "id": "2d52cd51",
   "metadata": {},
   "source": [
    "# Week 6&7: BFS, DFS, and Greedy Algorithm"
   ]
  },
  {
   "cell_type": "markdown",
   "id": "313a0eaa",
   "metadata": {},
   "source": [
    "__Table of Contents__ <br>\n",
    "\n",
    "1. Bredth First Search (BFS)\n",
    "2. Depth First Search (DFS)\n",
    "3. Greedy Algorithm"
   ]
  },
  {
   "cell_type": "markdown",
   "id": "f8bc2d63",
   "metadata": {},
   "source": [
    "이번에는 너비우선탐색 (BFS), 깊이우선탐색 (DFS), 그리고 그리디 알고리즘을 다뤄볼까 합니다. 알고리즘 같은 경우, 앞서 살펴본 선형 탐색 및 정렬 기법들과, 트리 및 그래프 탐색 기법, 최단 경로 기법들이 나오는데 오늘 그 트리 및 그래프 탐색 기법들을 살펴보고자 합니다. 또한 접근 방식에 따라 또 문제를 나눌 수 있는데, 그리디 혹은 다이내믹 프로그래밍으로 어떻게 문제를 접근하는가에 대해서 다뤄볼까 합니다. <br>"
   ]
  },
  {
   "cell_type": "markdown",
   "id": "78475651",
   "metadata": {},
   "source": [
    "### 1. BFS"
   ]
  },
  {
   "cell_type": "markdown",
   "id": "d9485645",
   "metadata": {},
   "source": [
    "BFS와 DFS는 그래프 탐색 기법들입니다. 물론 더 많은 알고리즘도 존재하지만 (UCS, A*, etc.) 가장 대표적이고 무조건 알아야하는 탐색 기법인 BFS 와 DFS를 살펴보도록 하겠습니다. <br>\n",
    "  \n",
    "너비 우선 탐색 (BFS) 은 이름에서부터 알 수 있듯이 근처의 노드들 부터 탐색하는 것입니다. 지난 시간에 트리와 그래프를 인접 리스트로 표현하는 방법을 다뤄봤는데, BFS는 큐자료형을 이용해서 쉽게 구현이 가능합니다. 코드를 보면서 설명을 드리도록하겠습니다."
   ]
  },
  {
   "cell_type": "code",
   "execution_count": 1,
   "id": "e7d918ae",
   "metadata": {},
   "outputs": [
    {
     "data": {
      "text/plain": [
       "{1: {3, 4}, 2: {3, 4, 5}, 3: {1, 5}, 4: {1}, 5: {2, 6}, 6: {3, 5}}"
      ]
     },
     "execution_count": 1,
     "metadata": {},
     "output_type": "execute_result"
    }
   ],
   "source": [
    "graph_list = {1: set([3, 4]),\n",
    "              2: set([3, 4, 5]),\n",
    "              3: set([1, 5]),\n",
    "              4: set([1]),\n",
    "              5: set([2, 6]),\n",
    "              6: set([3, 5])}\n",
    "root_node = 1\n",
    "graph_list"
   ]
  },
  {
   "cell_type": "markdown",
   "id": "bdd945a9",
   "metadata": {},
   "source": [
    "일단 인접리스트로 표현된 그래프인 graph_list 를 만들어줍니다. root_node (시작점) 는 현재 1입니다. 이 그래프를 그려보시면 트리가 아닌 것을 확인할 수 있는데, BFS나 DFS는 트리 자료형에도 적용이 가능하다는 걸 알고계시기 바랍니다. "
   ]
  },
  {
   "cell_type": "code",
   "execution_count": 2,
   "id": "284f9701",
   "metadata": {},
   "outputs": [
    {
     "name": "stdout",
     "output_type": "stream",
     "text": [
      "[1, 3, 4, 5, 2, 6]\n"
     ]
    }
   ],
   "source": [
    "from collections import deque\n",
    "\n",
    "def BFS_with_adj_list(graph, root):\n",
    "    visited = []\n",
    "    queue = deque([root])\n",
    "\n",
    "    while queue:\n",
    "        n = queue.popleft()\n",
    "        if n not in visited:\n",
    "            visited.append(n)\n",
    "            queue += graph[n] - set(visited)\n",
    "    return visited\n",
    "  \n",
    "print(BFS_with_adj_list(graph_list, root_node))"
   ]
  },
  {
   "cell_type": "markdown",
   "id": "e50033fe",
   "metadata": {},
   "source": [
    "파이썬의 내장 라이브러리인 collections 에서 deque 자료형을 응용합니다. 이유는 간단합니다. 일반 list.pop 보다 빠르기 때문입니다. <br>\n",
    "  \n",
    "이제 코드를 살펴보시면, 초기 설정에 리턴값인 visted 와 루트노드인 1을 큐자료형에 집어넣는걸 볼 수 있습니다. 큐에 넣는 이유는 인접한 노드부터 보기 때문입니다. 루트 노드인 1의 근접 노드인 3, 4를 차례로 볼 수 있습니다. 한마디로 루트 노드를 기준으로 각기 다른 path level에 있는 노드를 순차적으로 탐색할 수 있게끔 해주는 자료형이죠. 반복문을 살펴보도록 합시다. <br>\n",
    "  \n",
    "queue 안에 자료가 있으면 이 반복문이 돌아가는데요, 일단 큐 안에 1이 있기때문에 반복문에 들어갑니다. n에다가 팝한값을 넣어줍니다 (1). 그리고 visited 안에 1이 없기 때문에 넣어주고 큐에다가 grpah[1] - set(visited) 한 값을 넣어줍니다. graph[1] 은 현재 set(3, 4) 가 들어가 있고, 거기에 set(visited) --> set(1) 을 빼준다면 그대로 set(3, 4)가 큐에 들어가는 걸 볼 수 있죠. <br>\n",
    "  \n",
    "이제 queue 에는 3, 4가 들어가 있고, n은 3이 됩니다. 마찬가지로 visited에 3을 넣어주고, queue에 graph[3] - set(visited)를 넣어줍니다. 간단히 식으로 표현하면 [4] += [1,5] - [1,3] --> queue = [4, 5] 가 됩니다. 이런식으로 반복하다보면 모든 노드를 순회하게 되고 visited 를 리턴하게 되겠죠. 리턴값은 BFS를 사용해서 방문한 노드 순서가 됩니다."
   ]
  },
  {
   "cell_type": "markdown",
   "id": "15b9b6b0",
   "metadata": {},
   "source": [
    "### 2. DFS"
   ]
  },
  {
   "cell_type": "markdown",
   "id": "a40b40a6",
   "metadata": {},
   "source": [
    "앞선 BFS가 너비를 우선적으로 탐색했다면, DFS는 깊이를 우선적으로 탐색합니다. 한 path의 가장 깊은 곳까지 탐색했다면 다른 path로 넘어가 탐색을 하게됩니다. 코드를 보면서 추가적으로 설명하겠습니다."
   ]
  },
  {
   "cell_type": "code",
   "execution_count": 4,
   "id": "9b2d1fc9",
   "metadata": {},
   "outputs": [
    {
     "name": "stdout",
     "output_type": "stream",
     "text": [
      "[1, 4, 3, 5, 6, 2]\n"
     ]
    }
   ],
   "source": [
    "def DFS_with_adj_list(graph, root):\n",
    "    visited = []\n",
    "    stack = [root]\n",
    "\n",
    "    while stack:\n",
    "        n = stack.pop()\n",
    "        if n not in visited:\n",
    "            visited.append(n)\n",
    "            stack += graph[n] - set(visited)\n",
    "    return visited\n",
    "\n",
    "print(DFS_with_adj_list(graph_list, root_node))"
   ]
  },
  {
   "cell_type": "markdown",
   "id": "a1e7d3ed",
   "metadata": {},
   "source": [
    "BFS에서는 큐 자료형을 사용했다면, DFS에서는 스택 자료형을 사용하는데요. 그 이유는 인접 노드들을 먼저 생각하는 너비 우선 탐색의 성질과는 다르기 때문입니다. 큐는 선입선출이라면 스택은 후입선출입니다. 고로, 인접한 레벨에 몇개의 노드가 스택에 들어가도, assess되는 노드의 인접 노드들이 다음 반복문에서 assess 되기 때문입니다. <br>\n",
    "  \n",
    "마찬가지로 초기 설정을 해주고, 반복문에 들어갑니다. n은 똑같이 1이 들어가고, stack 에는 3,4가 들어갑니다. 다음 루프때는 n이 3이 아니라 4가 됩니다. 4의 인접 노드가 1하나기 때문에 3으로 넘어가지만, 만약 4의 인접 노드에 7이 있었다고 가정해 봅시다. 그렇다면, stack 은 [3, 7] 로 업데이트가 되고 다음 반복문에서는 n이 7이 될 것입니다."
   ]
  },
  {
   "cell_type": "markdown",
   "id": "201f7caf",
   "metadata": {},
   "source": [
    "#### Important\n",
    "\n",
    "너비 우선 탐색과 깊이 우선 탐색은 트리나 그래프 자료형에서 사용되는 탐색 기법입니다. 여기서의 탐색이라고 하면, 특정 노드를 찾는 값이 될 수도 있고 특정 path를 찾는 task 가 될 수도 있습니다. 만약 특정 노드를 찾는 경우 위에서 제시된 코드가 효율적입니다. 위의 코드들에서는 visited 라는 자료형을 넣어 방문한 노드를 기록해서 방문한 노드를 다시 탐색하지 않게끔 해주었습니다. 이로써 불필요한 방문의 수를 줄이면서 코드를 더 효율적이게 만들었고, 더 빠른 시간안에 task를 수행할 수 있게됩니다. 또한 무한 루프로 빠지지 않게끔 해주기도 하죠. <br>\n",
    "  \n",
    "하지만 특정 path를 찾는 문제의 경우 (예를 들어 path 상의 노드의 minimum 합 혹은 가장 빠른 길 등), visited 를 설정하게되면 다시는 그 노드를 탐색하지 않게 됩니다. 그 말인 즉슨 한 노드에 대해 한 개보다 적은 path 만을 기록하게되죠. 고로 visited를 설정하는 것이 해당 task에는 적용이 되지 않습니다. <br>\n",
    "  \n",
    "  \n",
    "고로 문제의 성질을 잘 파악하시고 문제에 맞게끔 알고리즘을 살짝씩 변형 시키기 바랍니다 :)"
   ]
  },
  {
   "cell_type": "markdown",
   "id": "f7409258",
   "metadata": {},
   "source": [
    "### 3. Greedy Algorithm"
   ]
  },
  {
   "cell_type": "markdown",
   "id": "c0bc3d0b",
   "metadata": {},
   "source": [
    "그리디 알고리즘 또는 탐욕법은 현재 상황에서 가장 좋은 (optimal) 것만 고르는 방법입니다. 반복적으로 탐욕법을 사용해도 되는가에 대한 정당성 분석이 굉장히 중요합니다. 그 말인즉슨, 탐욕법으로 최적의 해를 구할 수 있는 문제인가를 graphically 혹은 mathematically 정당화 할 수 있어야 합니다. 그리디 알고리즘 같은 경우에는 밑의 유튜브가 굉장히 많은 예시들을 잘 다루고 있기 때문에 참고해 주시면 감사하겠습니다 :) <br>\n",
    "  \n",
    "유투부: https://www.youtube.com/watch?v=2zjoKjt97vQ&list=PLRx0vPvlEmdAghTr5mXQxGpHjWqSz0dgC&index=2"
   ]
  },
  {
   "cell_type": "markdown",
   "id": "5806832c",
   "metadata": {},
   "source": [
    "__Greedy in Finding Shortest Path in Graph__ <br>\n",
    "  \n",
    "최단 경로를 찾는 문제 혹은 경로 최적화 문제들이 자주 나옵니다. 테크 기업을 목표로 하고 있다면 꼭 공부하시길 바라는 최단 경로 문제입니다. 그래프 상에서의 최단 경로를 찾는 알고리즘들 중에서 최고의 성능과 최적의 해를 보장하는 알고리즘은 다익스트라 (Dijkstra) 알고리즘입니다. 나중에 기회가 되고 시간이 되면 더 자세히 다뤄보도록 하겠습니다. 밑의 블로그 링크에 소스코드가 있으니 관심있으시면 참고해 주세요. <br>\n",
    "  \n",
    "최단 경로를 찾는 문제에 BFS, DFS, 그리고 Greedy를 이용해서도 문제를 풀 수 있습니다. 그리고 조금 덜 알려졌지만 이들보다도 성능이 좋은 알고리즘으로는 Uniform Cost Search, A* Search 가 있습니다. 사실 그리디는 최적의 해를 보장할 수 없습니다. 그래도 속도도 빠르고 구현도 쉽기 때문에 한 번 공부해 보시는 것도 추천드립니다."
   ]
  }
 ],
 "metadata": {
  "kernelspec": {
   "display_name": "Python 3 (ipykernel)",
   "language": "python",
   "name": "python3"
  },
  "language_info": {
   "codemirror_mode": {
    "name": "ipython",
    "version": 3
   },
   "file_extension": ".py",
   "mimetype": "text/x-python",
   "name": "python",
   "nbconvert_exporter": "python",
   "pygments_lexer": "ipython3",
   "version": "3.9.7"
  }
 },
 "nbformat": 4,
 "nbformat_minor": 5
}
