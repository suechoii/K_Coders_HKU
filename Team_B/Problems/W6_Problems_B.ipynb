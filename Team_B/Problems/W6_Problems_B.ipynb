{
 "cells": [
  {
   "cell_type": "markdown",
   "id": "4294966c",
   "metadata": {},
   "source": [
    "# Week 6, 7 Problems (Team B)\n",
    "\n",
    "- Algorithms: BFS, DFS, Greedy\n",
    "\n",
    "__Source에 제공된 링크로 들어가 문제를 봅니다. 참고로 해당 플랫폼의 계정을 만들어야 합니다.__ <br>\n",
    "__문제풀이 테스트 하는 법: 해당 링크로 들어간다 --> 언어를 파이썬으로 설정한다 --> 자신의 풀이 코드를 넣고 돌려본다.__"
   ]
  },
  {
   "cell_type": "markdown",
   "id": "6ed61575",
   "metadata": {},
   "source": [
    "### Feb 23\n",
    "__Comment: BFS와 DFS는 Algorithm/Graph_Algorithm 폴더에 저장해 주세요!__ <br>\n",
    "BFS와 DFS의 문제의 경우 두 알고리즘을 동시에 사용해서 풀 수 있는 문제들이 있고, 아닌 문제들도 있으며 어느 하나의 알고리즘의 효율성이 더 높은 케이스도 있습니다. 문제를 푸시면서 어느 알고리즘이 더 적합할지 생각해보시기 바랍니다 :)"
   ]
  },
  {
   "cell_type": "markdown",
   "id": "3ee2830a",
   "metadata": {},
   "source": [
    "__Q1.Same Tree__ <br>\n",
    "\n",
    "__Problem No.__: LAB001 <br>\n",
    "__Topic__: BFS <br>\n",
    "__Source__: https://leetcode.com/problems/same-tree/ <br>\n",
    "__Difficulty__: Easy"
   ]
  },
  {
   "cell_type": "markdown",
   "id": "88db9dec",
   "metadata": {},
   "source": [
    "__Q2. Binary Tree Level Order Traversal__ <br>\n",
    "\n",
    "__Problem No.__: LAB002 <br>\n",
    "__Topic__: BFS <br>\n",
    "__Source__: https://leetcode.com/problems/binary-tree-level-order-traversal/<br>\n",
    "__Difficulty__: Easy"
   ]
  },
  {
   "cell_type": "markdown",
   "id": "b229eac1",
   "metadata": {},
   "source": [
    "__Q3. Path Sum__ <br>\n",
    "\n",
    "__Problem No.__: LAB003<br>\n",
    "__Topic__: BFS <br>\n",
    "__Source__: https://leetcode.com/problems/path-sum/ <br>\n",
    "__Difficulty__: Easy"
   ]
  },
  {
   "cell_type": "markdown",
   "id": "83c84eaa",
   "metadata": {},
   "source": [
    "__Q4. Populating Next Right Pointers in Each Node__ <br>\n",
    "\n",
    "__Problem No.__: LAB004 <br>\n",
    "__Topic__: BFS <br>\n",
    "__Source__: https://leetcode.com/problems/populating-next-right-pointers-in-each-node/ <br>\n",
    "__Difficulty__: Medium"
   ]
  },
  {
   "cell_type": "markdown",
   "id": "e15966cc",
   "metadata": {},
   "source": [
    "__Q5. Word Ladder 2__ <br>\n",
    "\n",
    "__Problem No.__: LAB005 <br>\n",
    "__Topic__: BFS <br>\n",
    "__Source__: https://leetcode.com/problems/word-ladder-ii/ <br>\n",
    "__Difficulty__: Hard"
   ]
  },
  {
   "cell_type": "markdown",
   "id": "c807bf0d",
   "metadata": {},
   "source": [
    "### Feb 24\n",
    "Comment: DFS"
   ]
  },
  {
   "cell_type": "markdown",
   "id": "dfa1e50b",
   "metadata": {},
   "source": [
    "__Q1. Lexicographical Numbers__ <br>\n",
    "\n",
    "__Problem No.__: LAB006 <br>\n",
    "__Topic__: DFS <br>\n",
    "__Source__: https://leetcode.com/problems/lexicographical-numbers/ <br>\n",
    "__Difficulty__: Medium"
   ]
  },
  {
   "cell_type": "markdown",
   "id": "f3aa4215",
   "metadata": {},
   "source": [
    "__Q2. Evaluate Division__ <br>\n",
    "\n",
    "__Problem No.__: LAB007<br>\n",
    "__Topic__: DFS <br>\n",
    "__Source__: https://leetcode.com/problems/evaluate-division/ <br>\n",
    "__Difficulty__: Medium"
   ]
  },
  {
   "cell_type": "markdown",
   "id": "165b17a8",
   "metadata": {},
   "source": [
    "__Q3. Sum of Left Leaves__ <br>\n",
    "\n",
    "__Problem No.__: LAB008 <br>\n",
    "__Topic__: DFS <br>\n",
    "__Source__: https://leetcode.com/problems/sum-of-left-leaves/ <br>\n",
    "__Difficulty__: Easy"
   ]
  },
  {
   "cell_type": "markdown",
   "id": "68a6d810",
   "metadata": {},
   "source": [
    "__Q4. Path Sum 3__ <br>\n",
    "\n",
    "__Problem No.__: LAB009 <br>\n",
    "__Topic__: DFS <br>\n",
    "__Source__: https://leetcode.com/problems/path-sum-iii/ <br>\n",
    "__Difficulty__: Medium"
   ]
  },
  {
   "cell_type": "markdown",
   "id": "fe6d4e16",
   "metadata": {},
   "source": [
    "__Q5. Most Frequent Subtree Sum__ <br>\n",
    "\n",
    "__Problem No.__: LAB010 <br>\n",
    "__Topic__: DFS <br>\n",
    "__Source__: https://leetcode.com/problems/most-frequent-subtree-sum/ <br>\n",
    "__Difficulty__: Medium"
   ]
  },
  {
   "cell_type": "markdown",
   "id": "b42d9c88",
   "metadata": {},
   "source": [
    "### Feb 25\n",
    "Comment: Greedy - Hackerrank Essentials"
   ]
  },
  {
   "cell_type": "markdown",
   "id": "44a81631",
   "metadata": {},
   "source": [
    "__Q1.Minimum Absolute Difference in an Array__ <br>\n",
    "\n",
    "__Problem No.__: HAG001 <br>\n",
    "__Topic__: Greedy <br>\n",
    "__Source__: https://www.hackerrank.com/challenges/minimum-absolute-difference-in-an-array/problem?isFullScreen=true <br>\n",
    "__Difficulty__: Easy"
   ]
  },
  {
   "cell_type": "markdown",
   "id": "64fc74d9",
   "metadata": {},
   "source": [
    "__Q2. Luck Balance__ <br>\n",
    "\n",
    "__Problem No.__: HAG002 <br>\n",
    "__Topic__: Greedy <br>\n",
    "__Source__: https://www.hackerrank.com/challenges/luck-balance/problem?isFullScreen=true <br>\n",
    "__Difficulty__: Easy"
   ]
  },
  {
   "cell_type": "markdown",
   "id": "f0d2859a",
   "metadata": {},
   "source": [
    "__Q3. Maximum Perimeter Triangle__ <br>\n",
    "\n",
    "__Problem No.__: HAG003 <br>\n",
    "__Topic__: Greedy <br>\n",
    "__Source__: https://www.hackerrank.com/challenges/maximum-perimeter-triangle/problem?isFullScreen=true<br>\n",
    "__Difficulty__: Easy"
   ]
  },
  {
   "cell_type": "markdown",
   "id": "56cd8474",
   "metadata": {},
   "source": [
    "__Q4. Candies__ <br>\n",
    "\n",
    "__Problem No.__: HAG004 <br>\n",
    "__Topic__: Greedy <br>\n",
    "__Source__: https://www.hackerrank.com/challenges/candies/problem?isFullScreen=true<br>\n",
    "__Difficulty__: Medium"
   ]
  },
  {
   "cell_type": "markdown",
   "id": "b44daa19",
   "metadata": {},
   "source": [
    "__Q5. Largest Permutation__ <br>\n",
    "\n",
    "__Problem No.__: HAG005 <br>\n",
    "__Topic__: Greedy <br>\n",
    "__Source__: https://www.hackerrank.com/challenges/largest-permutation/problem?isFullScreen=true<br>\n",
    "__Difficulty__: Easy"
   ]
  },
  {
   "cell_type": "markdown",
   "id": "5d95a858",
   "metadata": {},
   "source": [
    "### Feb 28\n",
    "Comment: More Greedies!"
   ]
  },
  {
   "cell_type": "markdown",
   "id": "443a5439",
   "metadata": {},
   "source": [
    "__Q1. Greedy Florist__ <br>\n",
    "\n",
    "__Problem No.__: HAG007 <br>\n",
    "__Topic__: Greedy <br>\n",
    "__Source__: https://www.hackerrank.com/challenges/greedy-florist/problem?isFullScreen=true <br>\n",
    "__Difficulty__: Medium"
   ]
  },
  {
   "cell_type": "markdown",
   "id": "6ca1633e",
   "metadata": {},
   "source": [
    "__Q2. Permuting Two Arrays__ <br>\n",
    "\n",
    "__Problem No.__: HAG009 <br>\n",
    "__Topic__: Greedy <br>\n",
    "__Source__: https://www.hackerrank.com/challenges/two-arrays?isFullScreen=true <br>\n",
    "__Difficulty__: Medium"
   ]
  },
  {
   "cell_type": "markdown",
   "id": "4ecdb9cb",
   "metadata": {},
   "source": [
    "__Q3. Cloudy Day__ <br>\n",
    "\n",
    "__Problem No.__: HAG010<br>\n",
    "__Topic__: Greedy <br>\n",
    "__Source__: https://www.hackerrank.com/challenges/cloudy-day?isFullScreen=true <br>\n",
    "__Difficulty__: Medium"
   ]
  },
  {
   "cell_type": "markdown",
   "id": "bb9633ae",
   "metadata": {},
   "source": [
    "__Q4. Integer Replacement__ <br>\n",
    "\n",
    "__Problem No.__: LAG003 <br>\n",
    "__Topic__: Greedy <br>\n",
    "__Source__: https://leetcode.com/problems/integer-replacement/ <br>\n",
    "__Difficulty__: Medium"
   ]
  },
  {
   "cell_type": "markdown",
   "id": "b3cfd4ed",
   "metadata": {},
   "source": [
    "__Q5. Team Formation__ <br>\n",
    "\n",
    "__Problem No.__: HAG013 <br>\n",
    "__Topic__: Greedy <br>\n",
    "__Source__: https://www.hackerrank.com/challenges/team-formation?isFullScreen=true <br>\n",
    "__Difficulty__: Hard"
   ]
  },
  {
   "cell_type": "markdown",
   "id": "b3c9a5fd",
   "metadata": {},
   "source": [
    "### Mar 1\n",
    "Comment: "
   ]
  },
  {
   "cell_type": "markdown",
   "id": "64c3db02",
   "metadata": {},
   "source": [
    "__Q1. Jump Game__ <br>\n",
    "\n",
    "__Problem No.__: LAG005 <br>\n",
    "__Topic__: Greedy <br>\n",
    "__Source__: https://leetcode.com/problems/jump-game/<br>\n",
    "__Difficulty__: Medium"
   ]
  },
  {
   "cell_type": "markdown",
   "id": "4370f243",
   "metadata": {},
   "source": [
    "__Q2. Gas Station__ <br>\n",
    "\n",
    "__Problem No.__: LAG001<br>\n",
    "__Topic__: Greedy <br>\n",
    "__Source__: https://leetcode.com/problems/gas-station/ <br>\n",
    "__Difficulty__: Medium"
   ]
  },
  {
   "cell_type": "markdown",
   "id": "3b21a929",
   "metadata": {},
   "source": [
    "__Q3. Remove Duplicate Letters__ <br>\n",
    "\n",
    "__Problem No.__: LAG002 <br>\n",
    "__Topic__: Greedy <br>\n",
    "__Source__: https://leetcode.com/problems/remove-duplicate-letters/ <br>\n",
    "__Difficulty__: Medium"
   ]
  },
  {
   "cell_type": "markdown",
   "id": "2857f3a5",
   "metadata": {},
   "source": [
    "__Q4. Integer Replacement__ <br>\n",
    "\n",
    "__Problem No.__: LAG003 <br>\n",
    "__Topic__: Greedy <br>\n",
    "__Source__: https://leetcode.com/problems/integer-replacement/ <br>\n",
    "__Difficulty__: Medium"
   ]
  },
  {
   "cell_type": "markdown",
   "id": "352fcd27",
   "metadata": {},
   "source": [
    "__Q5. Strong Password Checker__ <br>\n",
    "\n",
    "__Problem No.__: LAG006 <br>\n",
    "__Topic__: Greedy <br>\n",
    "__Source__: https://leetcode.com/problems/strong-password-checker/ <br>\n",
    "__Difficulty__: Hard"
   ]
  },
  {
   "cell_type": "markdown",
   "id": "2cc7a00d",
   "metadata": {},
   "source": [
    "### Mar 2\n",
    "Comment: Hard Questions!"
   ]
  },
  {
   "cell_type": "markdown",
   "id": "c50acfa6",
   "metadata": {},
   "source": [
    "__Q1. Longest Increasing Path in a Matrix__ <br>\n",
    "\n",
    "__Problem No.__: LAB011 <br>\n",
    "__Topic__: DFS <br>\n",
    "__Source__: https://leetcode.com/problems/longest-increasing-path-in-a-matrix/ <br>\n",
    "__Difficulty__: Hard"
   ]
  },
  {
   "cell_type": "markdown",
   "id": "f517c5f2",
   "metadata": {},
   "source": [
    "__Q2. Concatenated Words__ <br>\n",
    "\n",
    "__Problem No.__: LAB012 <br>\n",
    "__Topic__: DFS <br>\n",
    "__Source__: https://leetcode.com/problems/concatenated-words/<br>\n",
    "__Difficulty__: Hard"
   ]
  },
  {
   "cell_type": "markdown",
   "id": "60387382",
   "metadata": {},
   "source": [
    "__Q3. Remove Invalid Parentheses__ <br>\n",
    "\n",
    "__Problem No.__: LAB013 <br>\n",
    "__Topic__: BFS <br>\n",
    "__Source__: https://leetcode.com/problems/remove-invalid-parentheses/<br>\n",
    "__Difficulty__: Hard"
   ]
  },
  {
   "cell_type": "markdown",
   "id": "c5c73d1f",
   "metadata": {},
   "source": [
    "__Q4. Min Cost to Hire k Workers__ <br>\n",
    "\n",
    "__Problem No.__: LAG007<br>\n",
    "__Topic__: Greedy <br>\n",
    "__Source__: https://leetcode.com/problems/minimum-cost-to-hire-k-workers/ <br>\n",
    "__Difficulty__: Hard"
   ]
  },
  {
   "cell_type": "markdown",
   "id": "647661e7",
   "metadata": {},
   "source": [
    "__Q5. Stamping the Sequence__ <br>\n",
    "\n",
    "__Problem No.__: LAG008 <br>\n",
    "__Topic__: Greedy <br>\n",
    "__Source__: https://leetcode.com/problems/stamping-the-sequence/ <br>\n",
    "__Difficulty__: Hard"
   ]
  }
 ],
 "metadata": {
  "kernelspec": {
   "display_name": "Python 3 (ipykernel)",
   "language": "python",
   "name": "python3"
  },
  "language_info": {
   "codemirror_mode": {
    "name": "ipython",
    "version": 3
   },
   "file_extension": ".py",
   "mimetype": "text/x-python",
   "name": "python",
   "nbconvert_exporter": "python",
   "pygments_lexer": "ipython3",
   "version": "3.9.5"
  }
 },
 "nbformat": 4,
 "nbformat_minor": 5
}
