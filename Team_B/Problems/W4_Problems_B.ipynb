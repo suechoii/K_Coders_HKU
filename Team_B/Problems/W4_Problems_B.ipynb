{
 "cells": [
  {
   "cell_type": "markdown",
   "id": "4294966c",
   "metadata": {},
   "source": [
    "# Week 4, 5 Problems (Team B)\n",
    "\n",
    "- Data Structure: Stack, Queue, Binary Tree, BST, Hash, Graph, Matrix\n",
    "\n",
    "__Source에 제공된 링크로 들어가 문제를 봅니다. 참고로 해당 플랫폼의 계정을 만들어야 합니다.__ <br>\n",
    "__문제풀이 테스트 하는 법: 해당 링크로 들어간다 --> 언어를 파이썬으로 설정한다 --> 자신의 풀이 코드를 넣고 돌려본다.__"
   ]
  },
  {
   "cell_type": "markdown",
   "id": "6ed61575",
   "metadata": {},
   "source": [
    "### Feb 7\n",
    "Comment: Stack"
   ]
  },
  {
   "cell_type": "markdown",
   "id": "3ee2830a",
   "metadata": {},
   "source": [
    "__Q1. Largest Rectangle__ <br>\n",
    "\n",
    "__Problem No.__: HDS002 <br>\n",
    "__Topic__: Stack <br>\n",
    "__Source__: https://www.hackerrank.com/challenges/largest-rectangle/problem?isFullScreen=true <br>\n",
    "__Difficulty__: Medium"
   ]
  },
  {
   "cell_type": "markdown",
   "id": "88db9dec",
   "metadata": {},
   "source": [
    "__Q2. Balanced Brackets__ <br>\n",
    "\n",
    "__Problem No.__: HDS003 <br>\n",
    "__Topic__: Stack <br>\n",
    "__Source__: https://www.hackerrank.com/challenges/balanced-brackets/problem?isFullScreen=true <br>\n",
    "__Difficulty__: Medium"
   ]
  },
  {
   "cell_type": "markdown",
   "id": "b229eac1",
   "metadata": {},
   "source": [
    "__Q3. Maximum Frequency Stack__ <br>\n",
    "\n",
    "__Problem No.__: LDS001 <br>\n",
    "__Topic__: Stack <br>\n",
    "__Source__: https://leetcode.com/problems/maximum-frequency-stack/ <br>\n",
    "__Difficulty__: Medium"
   ]
  },
  {
   "cell_type": "markdown",
   "id": "83c84eaa",
   "metadata": {},
   "source": [
    "__Q4. Dinner Plate Stacks__ <br>\n",
    "\n",
    "__Problem No.__: LDS002 <br>\n",
    "__Topic__: Stack <br>\n",
    "__Source__: https://leetcode.com/problems/dinner-plate-stacks/ <br>\n",
    "__Difficulty__: Hard"
   ]
  },
  {
   "cell_type": "markdown",
   "id": "e15966cc",
   "metadata": {},
   "source": [
    "__Q5. Poisonous Plants__ <br>\n",
    "\n",
    "__Problem No.__: HDS004 <br>\n",
    "__Topic__: Stack <br>\n",
    "__Source__: https://www.hackerrank.com/challenges/poisonous-plants/problem?isFullScreen=true <br>\n",
    "__Difficulty__: Hard"
   ]
  },
  {
   "cell_type": "markdown",
   "id": "c807bf0d",
   "metadata": {},
   "source": [
    "### Feb 8\n",
    "Comment: Queue"
   ]
  },
  {
   "cell_type": "markdown",
   "id": "dfa1e50b",
   "metadata": {},
   "source": [
    "__Q1. Queue Using Two Stacks__ <br>\n",
    "\n",
    "__Problem No.__: HDQ001 <br>\n",
    "__Topic__: Queue <br>\n",
    "__Source__: https://www.hackerrank.com/challenges/queue-using-two-stacks/problem?isFullScreen=true<br>\n",
    "__Difficulty__: Medium"
   ]
  },
  {
   "cell_type": "markdown",
   "id": "f3aa4215",
   "metadata": {},
   "source": [
    "__Q2. Castle on the Grid__ <br>\n",
    "\n",
    "__Problem No.__: HDQ002 <br>\n",
    "__Topic__: Queue <br>\n",
    "__Source__: https://www.hackerrank.com/challenges/castle-on-the-grid/problem?isFullScreen=true <br>\n",
    "__Difficulty__: Medium"
   ]
  },
  {
   "cell_type": "markdown",
   "id": "165b17a8",
   "metadata": {},
   "source": [
    "__Q3. Orderly Queue__ <br>\n",
    "\n",
    "__Problem No.__: LDQ002 <br>\n",
    "__Topic__: Queue <br>\n",
    "__Source__: https://leetcode.com/problems/orderly-queue/ <br>\n",
    "__Difficulty__: Hard"
   ]
  },
  {
   "cell_type": "markdown",
   "id": "68a6d810",
   "metadata": {},
   "source": [
    "__Q4. Number of Visible People in a Queue__ <br>\n",
    "\n",
    "__Problem No.__: LDQ003 <br>\n",
    "__Topic__: Queue <br>\n",
    "__Source__: https://leetcode.com/problems/number-of-visible-people-in-a-queue/ <br>\n",
    "__Difficulty__: Hard"
   ]
  },
  {
   "cell_type": "markdown",
   "id": "fe6d4e16",
   "metadata": {},
   "source": [
    "__Q5. Truck Tour__ <br>\n",
    "\n",
    "__Problem No.__: HDQ003 <br>\n",
    "__Topic__: Queue <br>\n",
    "__Source__: https://www.hackerrank.com/challenges/truck-tour/problem?isFullScreen=true <br>\n",
    "__Difficulty__: Hard"
   ]
  },
  {
   "cell_type": "markdown",
   "id": "b42d9c88",
   "metadata": {},
   "source": [
    "### Feb 9\n",
    "Comment: Binary Tree"
   ]
  },
  {
   "cell_type": "markdown",
   "id": "44a81631",
   "metadata": {},
   "source": [
    "__Q1. Balanced Binary Tree__ <br>\n",
    "\n",
    "__Problem No.__: LDB001 <br>\n",
    "__Topic__: Binary Tree <br>\n",
    "__Source__: https://leetcode.com/problems/balanced-binary-tree/ <br>\n",
    "__Difficulty__: Easy"
   ]
  },
  {
   "cell_type": "markdown",
   "id": "64fc74d9",
   "metadata": {},
   "source": [
    "__Q2. Print Binary Tree__ <br>\n",
    "\n",
    "__Problem No.__: LDB002 <br>\n",
    "__Topic__: Binary Tree <br>\n",
    "__Source__: https://leetcode.com/problems/print-binary-tree/<br>\n",
    "__Difficulty__: Easy"
   ]
  },
  {
   "cell_type": "markdown",
   "id": "f0d2859a",
   "metadata": {},
   "source": [
    "__Q3. Binary Tree Pruning__ <br>\n",
    "\n",
    "__Problem No.__: LDB003 <br>\n",
    "__Topic__: Binary Tree <br>\n",
    "__Source__: https://leetcode.com/problems/binary-tree-pruning/<br>\n",
    "__Difficulty__: Medium"
   ]
  },
  {
   "cell_type": "markdown",
   "id": "56cd8474",
   "metadata": {},
   "source": [
    "__Q4. Tree Huffman Decoding__ <br>\n",
    "\n",
    "__Problem No.__: HDB001 <br>\n",
    "__Topic__: Binary Tree <br>\n",
    "__Source__: https://www.hackerrank.com/challenges/tree-huffman-decoding/problem?isFullScreen=true<br>\n",
    "__Difficulty__: Medium"
   ]
  },
  {
   "cell_type": "markdown",
   "id": "b44daa19",
   "metadata": {},
   "source": [
    "__Q5. Binary Tree Cameras__ <br>\n",
    "\n",
    "__Problem No.__: LDB004 <br>\n",
    "__Topic__: Binary Tree <br>\n",
    "__Source__: https://leetcode.com/problems/binary-tree-cameras/<br>\n",
    "__Difficulty__: Hard"
   ]
  },
  {
   "cell_type": "markdown",
   "id": "5d95a858",
   "metadata": {},
   "source": [
    "### Feb 10"
   ]
  },
  {
   "cell_type": "markdown",
   "id": "443a5439",
   "metadata": {},
   "source": [
    "__Q1. Is this Binary Search Tree?__ <br>\n",
    "\n",
    "__Problem No.__: HDB004 <br>\n",
    "__Topic__: Binary Search Tree <br>\n",
    "__Source__: https://www.hackerrank.com/challenges/is-binary-search-tree/problem?isFullScreen=true <br>\n",
    "__Difficulty__: Medium"
   ]
  },
  {
   "cell_type": "markdown",
   "id": "6ca1633e",
   "metadata": {},
   "source": [
    "__Q2. Convert Sorted Array to BST__ <br>\n",
    "\n",
    "__Problem No.__: LDB006 <br>\n",
    "__Topic__: Binary Search Tree <br>\n",
    "__Source__: https://leetcode.com/problems/convert-sorted-array-to-binary-search-tree/ <br>\n",
    "__Difficulty__: Medium"
   ]
  },
  {
   "cell_type": "markdown",
   "id": "4ecdb9cb",
   "metadata": {},
   "source": [
    "__Q3. Balanced Forest__ <br>\n",
    "\n",
    "__Problem No.__: HDB005 <br>\n",
    "__Topic__: Binary Search Tree <br>\n",
    "__Source__: https://www.hackerrank.com/challenges/balanced-forest/problem?isFullScreen=true <br>\n",
    "__Difficulty__: Hard"
   ]
  },
  {
   "cell_type": "markdown",
   "id": "bb9633ae",
   "metadata": {},
   "source": [
    "__Q4. Unique BST__ <br>\n",
    "\n",
    "__Problem No.__: LDB007 <br>\n",
    "__Topic__: Binary Search Tree <br>\n",
    "__Source__: https://leetcode.com/problems/unique-binary-search-trees/ <br>\n",
    "__Difficulty__: Medium"
   ]
  },
  {
   "cell_type": "markdown",
   "id": "b3cfd4ed",
   "metadata": {},
   "source": [
    "__Q5. Square Ten Tree__ <br>\n",
    "\n",
    "__Problem No.__: HDB006 <br>\n",
    "__Topic__: Binary Search Tree <br>\n",
    "__Source__: https://www.hackerrank.com/challenges/square-ten-tree/problem?isFullScreen=true <br>\n",
    "__Difficulty__: Hard"
   ]
  },
  {
   "cell_type": "markdown",
   "id": "b3c9a5fd",
   "metadata": {},
   "source": [
    "### Feb 11\n",
    "Comment: 도전 문제들만 모아놨습니다~"
   ]
  },
  {
   "cell_type": "markdown",
   "id": "64c3db02",
   "metadata": {},
   "source": [
    "__Q1. Kitty's Calculations on a Tree__ <br>\n",
    "\n",
    "__Problem No.__: HDG001 <br>\n",
    "__Topic__: Graph <br>\n",
    "__Source__: https://www.hackerrank.com/challenges/kittys-calculations-on-a-tree/problem?isFullScreen=true <br>\n",
    "__Difficulty__: Hard"
   ]
  },
  {
   "cell_type": "markdown",
   "id": "4370f243",
   "metadata": {},
   "source": [
    "__Q2. Find the Running Median__ <br>\n",
    "\n",
    "__Problem No.__: HDA004 <br>\n",
    "__Topic__: Array <br>\n",
    "__Source__: https://www.hackerrank.com/challenges/find-the-running-median/problem?isFullScreen=true <br>\n",
    "__Difficulty__: Hard"
   ]
  },
  {
   "cell_type": "markdown",
   "id": "3b21a929",
   "metadata": {},
   "source": [
    "__Q3. Word Ladder__ <br>\n",
    "\n",
    "__Problem No.__: LDH001 <br>\n",
    "__Topic__: Hash <br>\n",
    "__Source__: https://leetcode.com/problems/word-ladder/ <br>\n",
    "__Difficulty__: Hard"
   ]
  },
  {
   "cell_type": "markdown",
   "id": "2857f3a5",
   "metadata": {},
   "source": [
    "__Q4. Binary Tree Maximum Path Sum__ <br>\n",
    "\n",
    "__Problem No.__: LDB008 <br>\n",
    "__Topic__: Binary Tree <br>\n",
    "__Source__: https://leetcode.com/problems/binary-tree-maximum-path-sum/ <br>\n",
    "__Difficulty__: Hard"
   ]
  },
  {
   "cell_type": "markdown",
   "id": "352fcd27",
   "metadata": {},
   "source": [
    "__Q5. Max Points on a Line__ <br>\n",
    "\n",
    "__Problem No.__: LDA005 <br>\n",
    "__Topic__: Array, Geometry <br>\n",
    "__Source__: https://leetcode.com/problems/max-points-on-a-line/ <br>\n",
    "__Difficulty__: Hard"
   ]
  },
  {
   "cell_type": "markdown",
   "id": "2cc7a00d",
   "metadata": {},
   "source": [
    "### Feb 18"
   ]
  },
  {
   "cell_type": "markdown",
   "id": "c50acfa6",
   "metadata": {},
   "source": [
    "__Q1. Clone Graph__ <br>\n",
    "\n",
    "__Problem No.__: LDG001 <br>\n",
    "__Topic__: Graph <br>\n",
    "__Source__: https://leetcode.com/problems/clone-graph/ <br>\n",
    "__Difficulty__: Medium"
   ]
  },
  {
   "cell_type": "markdown",
   "id": "f517c5f2",
   "metadata": {},
   "source": [
    "__Q2. Course Schedule__ <br>\n",
    "\n",
    "__Problem No.__: LDG002 <br>\n",
    "__Topic__: Graph <br>\n",
    "__Source__: https://leetcode.com/problems/course-schedule <br>\n",
    "__Difficulty__: Medium"
   ]
  },
  {
   "cell_type": "markdown",
   "id": "60387382",
   "metadata": {},
   "source": [
    "__Q3. Longest Increasing Path in a Matrix__ <br>\n",
    "\n",
    "__Problem No.__: LDG003 <br>\n",
    "__Topic__: Graph <br>\n",
    "__Source__: https://leetcode.com/problems/longest-increasing-path-in-a-matrix/ <br>\n",
    "__Difficulty__: Hard"
   ]
  },
  {
   "cell_type": "markdown",
   "id": "c5c73d1f",
   "metadata": {},
   "source": [
    "__Q4. Course Schedule 2__ <br>\n",
    "\n",
    "__Problem No.__: LDG004 <br>\n",
    "__Topic__: Graph <br>\n",
    "__Source__: https://leetcode.com/problems/course-schedule-ii/ <br>\n",
    "__Difficulty__: Medium"
   ]
  },
  {
   "cell_type": "markdown",
   "id": "647661e7",
   "metadata": {},
   "source": [
    "__Q5. Reconstruct Itinerary__ <br>\n",
    "\n",
    "__Problem No.__: LDG005 <br>\n",
    "__Topic__: Graph <br>\n",
    "__Source__: https://leetcode.com/problems/reconstruct-itinerary/ <br>\n",
    "__Difficulty__: Hard"
   ]
  }
 ],
 "metadata": {
  "kernelspec": {
   "display_name": "Python 3 (ipykernel)",
   "language": "python",
   "name": "python3"
  },
  "language_info": {
   "codemirror_mode": {
    "name": "ipython",
    "version": 3
   },
   "file_extension": ".py",
   "mimetype": "text/x-python",
   "name": "python",
   "nbconvert_exporter": "python",
   "pygments_lexer": "ipython3",
   "version": "3.9.7"
  }
 },
 "nbformat": 4,
 "nbformat_minor": 5
}
