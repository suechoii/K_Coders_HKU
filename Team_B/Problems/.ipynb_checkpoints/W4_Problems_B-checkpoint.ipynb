{
 "cells": [
  {
   "cell_type": "markdown",
   "id": "455af438",
   "metadata": {},
   "source": [
    "# Week 4, 5 Problems (Team B)\n",
    "\n",
    "- Data Structure: Stack, Queue, Binary Tree, BST, Hash, Graph, Matrix\n",
    "\n",
    "__Source에 제공된 링크로 들어가 문제를 봅니다. 참고로 해당 플랫폼의 계정을 만들어야 합니다.__ <br>\n",
    "__문제풀이 테스트 하는 법: 해당 링크로 들어간다 --> 언어를 파이썬으로 설정한다 --> 자신의 풀이 코드를 넣고 돌려본다.__"
   ]
  },
  {
   "cell_type": "markdown",
   "id": "6fa4ac80",
   "metadata": {},
   "source": [
    "### Feb 7\n",
    "Comment: Stack"
   ]
  },
  {
   "cell_type": "markdown",
   "id": "12811665",
   "metadata": {},
   "source": [
    "__Q1. Largest Rectangle__ <br>\n",
    "\n",
    "__Problem No.__: HDS002 <br>\n",
    "__Topic__: Stack <br>\n",
    "__Source__: https://www.hackerrank.com/challenges/largest-rectangle/problem?isFullScreen=true <br>\n",
    "__Difficulty__: Medium"
   ]
  },
  {
   "cell_type": "markdown",
   "id": "28a7b082",
   "metadata": {},
   "source": [
    "__Q2. Balanced Brackets__ <br>\n",
    "\n",
    "__Problem No.__: HDS003 <br>\n",
    "__Topic__: Stack <br>\n",
    "__Source__: https://www.hackerrank.com/challenges/balanced-brackets/problem?isFullScreen=true <br>\n",
    "__Difficulty__: Medium"
   ]
  },
  {
   "cell_type": "markdown",
   "id": "7387739a",
   "metadata": {},
   "source": [
    "__Q3. Maximum Frequency Stack__ <br>\n",
    "\n",
    "__Problem No.__: LDS001 <br>\n",
    "__Topic__: Stack <br>\n",
    "__Source__: https://leetcode.com/problems/maximum-frequency-stack/ <br>\n",
    "__Difficulty__: Medium"
   ]
  },
  {
   "cell_type": "markdown",
   "id": "d41c54ea",
   "metadata": {},
   "source": [
    "__Q4. Dinner Plate Stacks__ <br>\n",
    "\n",
    "__Problem No.__: LDS002 <br>\n",
    "__Topic__: Stack <br>\n",
    "__Source__: https://leetcode.com/problems/dinner-plate-stacks/ <br>\n",
    "__Difficulty__: Hard"
   ]
  },
  {
   "cell_type": "markdown",
   "id": "4f3292b2",
   "metadata": {},
   "source": [
    "__Q5. Poisonous Plants__ <br>\n",
    "\n",
    "__Problem No.__: HDS004 <br>\n",
    "__Topic__: Stack <br>\n",
    "__Source__: https://www.hackerrank.com/challenges/poisonous-plants/problem?isFullScreen=true <br>\n",
    "__Difficulty__: Hard"
   ]
  },
  {
   "cell_type": "markdown",
   "id": "b1eda836",
   "metadata": {},
   "source": [
    "### Feb 8\n",
    "Comment: Queue"
   ]
  },
  {
   "cell_type": "markdown",
   "id": "ba98e10f",
   "metadata": {},
   "source": [
    "__Q1. Queue Using Two Stacks__ <br>\n",
    "\n",
    "__Problem No.__: HDQ001 <br>\n",
    "__Topic__: Queue <br>\n",
    "__Source__: https://www.hackerrank.com/challenges/queue-using-two-stacks/problem?isFullScreen=true<br>\n",
    "__Difficulty__: Medium"
   ]
  },
  {
   "cell_type": "markdown",
   "id": "7f7df42c",
   "metadata": {},
   "source": [
    "__Q2. Castle on the Grid__ <br>\n",
    "\n",
    "__Problem No.__: HDQ002 <br>\n",
    "__Topic__: Queue <br>\n",
    "__Source__: https://www.hackerrank.com/challenges/castle-on-the-grid/problem?isFullScreen=true <br>\n",
    "__Difficulty__: Medium"
   ]
  },
  {
   "cell_type": "markdown",
   "id": "9e152b58",
   "metadata": {},
   "source": [
    "__Q3. Orderly Queue__ <br>\n",
    "\n",
    "__Problem No.__: LDQ002 <br>\n",
    "__Topic__: Queue <br>\n",
    "__Source__: https://leetcode.com/problems/orderly-queue/ <br>\n",
    "__Difficulty__: Hard"
   ]
  },
  {
   "cell_type": "markdown",
   "id": "dfc1267e",
   "metadata": {},
   "source": [
    "__Q4. Number of Visible People in a Queue__ <br>\n",
    "\n",
    "__Problem No.__: LDQ003 <br>\n",
    "__Topic__: Queue <br>\n",
    "__Source__: https://leetcode.com/problems/number-of-visible-people-in-a-queue/ <br>\n",
    "__Difficulty__: Hard"
   ]
  },
  {
   "cell_type": "markdown",
   "id": "adcb9b03",
   "metadata": {},
   "source": [
    "__Q5. Truck Tour__ <br>\n",
    "\n",
    "__Problem No.__: HDQ003 <br>\n",
    "__Topic__: Queue <br>\n",
    "__Source__: https://www.hackerrank.com/challenges/truck-tour/problem?isFullScreen=true <br>\n",
    "__Difficulty__: Hard"
   ]
  },
  {
   "cell_type": "markdown",
   "id": "5a8c5c29",
   "metadata": {},
   "source": [
    "### Feb 9\n",
    "Comment: Binary Tree"
   ]
  },
  {
   "cell_type": "markdown",
   "id": "41638b27",
   "metadata": {},
   "source": [
    "__Q1. Balanced Binary Tree__ <br>\n",
    "\n",
    "__Problem No.__: LDB001 <br>\n",
    "__Topic__: Binary Tree <br>\n",
    "__Source__: https://leetcode.com/problems/balanced-binary-tree/ <br>\n",
    "__Difficulty__: Easy"
   ]
  },
  {
   "cell_type": "markdown",
   "id": "0269c301",
   "metadata": {},
   "source": [
    "__Q2. Print Binary Tree__ <br>\n",
    "\n",
    "__Problem No.__: LDB002 <br>\n",
    "__Topic__: Binary Tree <br>\n",
    "__Source__: https://leetcode.com/problems/print-binary-tree/<br>\n",
    "__Difficulty__: Easy"
   ]
  },
  {
   "cell_type": "markdown",
   "id": "427d9e19",
   "metadata": {},
   "source": [
    "__Q3. Binary Tree Pruning__ <br>\n",
    "\n",
    "__Problem No.__: LDB003 <br>\n",
    "__Topic__: Binary Tree <br>\n",
    "__Source__: https://leetcode.com/problems/binary-tree-pruning/<br>\n",
    "__Difficulty__: Medium"
   ]
  },
  {
   "cell_type": "markdown",
   "id": "da8d4fe1",
   "metadata": {},
   "source": [
    "__Q4. Tree Huffman Decoding__ <br>\n",
    "\n",
    "__Problem No.__: HDB001 <br>\n",
    "__Topic__: Binary Tree <br>\n",
    "__Source__: https://www.hackerrank.com/challenges/tree-huffman-decoding/problem?isFullScreen=true<br>\n",
    "__Difficulty__: Medium"
   ]
  },
  {
   "cell_type": "markdown",
   "id": "eebd374e",
   "metadata": {},
   "source": [
    "__Q5. Binary Tree Cameras__ <br>\n",
    "\n",
    "__Problem No.__: LDB004 <br>\n",
    "__Topic__: Binary Tree <br>\n",
    "__Source__: https://leetcode.com/problems/binary-tree-cameras/<br>\n",
    "__Difficulty__: Hard"
   ]
  },
  {
   "cell_type": "markdown",
   "id": "cc3267e6",
   "metadata": {},
   "source": [
    "### Feb 10"
   ]
  },
  {
   "cell_type": "markdown",
   "id": "d68f8cfc",
   "metadata": {},
   "source": [
    "### Feb 11"
   ]
  },
  {
   "cell_type": "markdown",
   "id": "8329cfdd",
   "metadata": {},
   "source": [
    "### Feb 14"
   ]
  },
  {
   "cell_type": "markdown",
   "id": "8a452627",
   "metadata": {},
   "source": [
    "### Feb 15"
   ]
  },
  {
   "cell_type": "markdown",
   "id": "8b635ef2",
   "metadata": {},
   "source": [
    "### Feb 16"
   ]
  },
  {
   "cell_type": "markdown",
   "id": "911526b6",
   "metadata": {},
   "source": [
    "### Feb 17"
   ]
  }
 ],
 "metadata": {
  "kernelspec": {
   "display_name": "Python 3 (ipykernel)",
   "language": "python",
   "name": "python3"
  },
  "language_info": {
   "codemirror_mode": {
    "name": "ipython",
    "version": 3
   },
   "file_extension": ".py",
   "mimetype": "text/x-python",
   "name": "python",
   "nbconvert_exporter": "python",
   "pygments_lexer": "ipython3",
   "version": "3.9.5"
  }
 },
 "nbformat": 4,
 "nbformat_minor": 5
}
