{
 "cells": [
  {
   "cell_type": "markdown",
   "id": "80bc212e",
   "metadata": {},
   "source": [
    "# Week 2 Problems (Team B)\n",
    "\n",
    "- Algorithm: Search, Sort, Math\n",
    "- Data Structure: Array Linked List\n",
    "\n",
    "__Source에 제공된 링크로 들어가 문제를 봅니다. 참고로 해당 플랫폼의 계정을 만들어야 합니다.__ <br>\n",
    "__문제풀이 테스트 하는 법: 해당 링크로 들어간다 --> 언어를 파이썬으로 설정한다 --> 자신의 풀이 코드를 넣고 돌려본다.__"
   ]
  },
  {
   "cell_type": "markdown",
   "id": "f376eb25",
   "metadata": {},
   "source": [
    "### 24 Jan 2022\n",
    "\n",
    "Comment: Array 정복기"
   ]
  },
  {
   "cell_type": "markdown",
   "id": "adf784d3",
   "metadata": {},
   "source": [
    "__Q1. HackerRank 2D Array__ <br>\n",
    "\n",
    "__Problem No.__: HDA001 <br>\n",
    "__Topic__: Array <br>\n",
    "__Source__: https://www.hackerrank.com/challenges/2d-array/problem?isFullScreen=true <br>\n",
    "__Difficulty__: Medium"
   ]
  },
  {
   "cell_type": "code",
   "execution_count": null,
   "id": "a6690060",
   "metadata": {},
   "outputs": [],
   "source": [
    "#!/bin/python3\n",
    "\n",
    "import math\n",
    "import os\n",
    "import random\n",
    "import re\n",
    "import sys\n",
    "\n",
    "#\n",
    "# Complete the 'hourglassSum' function below.\n",
    "#\n",
    "# The function is expected to return an INTEGER.\n",
    "# The function accepts 2D_INTEGER_ARRAY arr as parameter.\n",
    "#\n",
    "\n",
    "def hourglassSum(arr):\n",
    "    # Write your code here\n",
    "\n",
    "if __name__ == '__main__':\n",
    "    fptr = open(os.environ['OUTPUT_PATH'], 'w')\n",
    "\n",
    "    arr = []\n",
    "\n",
    "    for _ in range(6):\n",
    "        arr.append(list(map(int, input().rstrip().split())))\n",
    "\n",
    "    result = hourglassSum(arr)\n",
    "\n",
    "    fptr.write(str(result) + '\\n')\n",
    "\n",
    "    fptr.close()"
   ]
  },
  {
   "cell_type": "markdown",
   "id": "0b755041",
   "metadata": {},
   "source": [
    "__Q2. HackerRank Sparse Arrays__ <br>\n",
    "\n",
    "__Problem No.__: HDA002 <br>\n",
    "__Topic__: Array <br>\n",
    "__Source__: https://www.hackerrank.com/challenges/sparse-arrays/problem?isFullScreen=true <br>\n",
    "__Difficulty__: Hard"
   ]
  },
  {
   "cell_type": "code",
   "execution_count": null,
   "id": "6e04b42e",
   "metadata": {},
   "outputs": [],
   "source": [
    "#!/bin/python3\n",
    "\n",
    "import math\n",
    "import os\n",
    "import random\n",
    "import re\n",
    "import sys\n",
    "\n",
    "#\n",
    "# Complete the 'matchingStrings' function below.\n",
    "#\n",
    "# The function is expected to return an INTEGER_ARRAY.\n",
    "# The function accepts following parameters:\n",
    "#  1. STRING_ARRAY strings\n",
    "#  2. STRING_ARRAY queries\n",
    "#\n",
    "\n",
    "def matchingStrings(strings, queries):\n",
    "    # Write your code here\n",
    "\n",
    "if __name__ == '__main__':\n",
    "    fptr = open(os.environ['OUTPUT_PATH'], 'w')\n",
    "\n",
    "    strings_count = int(input().strip())\n",
    "\n",
    "    strings = []\n",
    "\n",
    "    for _ in range(strings_count):\n",
    "        strings_item = input()\n",
    "        strings.append(strings_item)\n",
    "\n",
    "    queries_count = int(input().strip())\n",
    "\n",
    "    queries = []\n",
    "\n",
    "    for _ in range(queries_count):\n",
    "        queries_item = input()\n",
    "        queries.append(queries_item)\n",
    "\n",
    "    res = matchingStrings(strings, queries)\n",
    "\n",
    "    fptr.write('\\n'.join(map(str, res)))\n",
    "    fptr.write('\\n')\n",
    "\n",
    "    fptr.close()"
   ]
  },
  {
   "cell_type": "markdown",
   "id": "4c12fb9c",
   "metadata": {},
   "source": [
    "__Q3. HackerRank Array Manipulation__ <br>\n",
    "\n",
    "__Problem No.__: HDA003 <br>\n",
    "__Topic__: Array <br>\n",
    "__Source__: https://www.hackerrank.com/challenges/crush/problem?isFullScreen=true <br>\n",
    "__Difficulty__: Hard"
   ]
  },
  {
   "cell_type": "code",
   "execution_count": null,
   "id": "576f5ce2",
   "metadata": {},
   "outputs": [],
   "source": [
    "#!/bin/python3\n",
    "\n",
    "import math\n",
    "import os\n",
    "import random\n",
    "import re\n",
    "import sys\n",
    "\n",
    "#\n",
    "# Complete the 'arrayManipulation' function below.\n",
    "#\n",
    "# The function is expected to return a LONG_INTEGER.\n",
    "# The function accepts following parameters:\n",
    "#  1. INTEGER n\n",
    "#  2. 2D_INTEGER_ARRAY queries\n",
    "#\n",
    "\n",
    "def arrayManipulation(n, queries):\n",
    "    # Write your code here\n",
    "\n",
    "if __name__ == '__main__':\n",
    "    fptr = open(os.environ['OUTPUT_PATH'], 'w')\n",
    "\n",
    "    first_multiple_input = input().rstrip().split()\n",
    "\n",
    "    n = int(first_multiple_input[0])\n",
    "\n",
    "    m = int(first_multiple_input[1])\n",
    "\n",
    "    queries = []\n",
    "\n",
    "    for _ in range(m):\n",
    "        queries.append(list(map(int, input().rstrip().split())))\n",
    "\n",
    "    result = arrayManipulation(n, queries)\n",
    "\n",
    "    fptr.write(str(result) + '\\n')\n",
    "\n",
    "    fptr.close()"
   ]
  },
  {
   "cell_type": "markdown",
   "id": "4ed6d349",
   "metadata": {},
   "source": [
    "__Q4. Trapping Rain Water__ <br>\n",
    "\n",
    "__Problem No.__: LDA003 <br>\n",
    "__Topic__: Array, DP, Stack, Two Pointer <br>\n",
    "__Source__: https://leetcode.com/problems/trapping-rain-water/ <br>\n",
    "__Difficulty__: Hard"
   ]
  },
  {
   "cell_type": "code",
   "execution_count": null,
   "id": "7d87b1cc",
   "metadata": {},
   "outputs": [],
   "source": [
    "class Solution:\n",
    "    def trap(self, height: List[int]) -> int:\n",
    "        #Your Solution Here"
   ]
  },
  {
   "cell_type": "markdown",
   "id": "86722498",
   "metadata": {},
   "source": [
    "__Q5. N-Queens__ <br>\n",
    "\n",
    "__Problem No.__: LDA004 <br>\n",
    "__Topic__: Array, Backtracking  <br>\n",
    "__Source__: https://leetcode.com/problems/n-queens/ <br>\n",
    "__Difficulty__: Medium"
   ]
  },
  {
   "cell_type": "code",
   "execution_count": null,
   "id": "f1255162",
   "metadata": {},
   "outputs": [],
   "source": [
    "class Solution:\n",
    "    def solveNQueens(self, n: int) -> List[List[str]]:\n",
    "        #Your Solution Here"
   ]
  },
  {
   "cell_type": "markdown",
   "id": "40201ca3",
   "metadata": {},
   "source": [
    "### 25 Jan 2022\n",
    "Comment: Linked List :)"
   ]
  },
  {
   "cell_type": "markdown",
   "id": "98e3747c",
   "metadata": {},
   "source": [
    "__Q1. Merge k Sorted Lists__ <br>\n",
    "\n",
    "__Problem No.__: LDL001 <br>\n",
    "__Topic__: Linked List  <br>\n",
    "__Source__: https://leetcode.com/problems/merge-k-sorted-lists/ <br>\n",
    "__Difficulty__: Medium"
   ]
  },
  {
   "cell_type": "code",
   "execution_count": null,
   "id": "b6471eeb",
   "metadata": {},
   "outputs": [],
   "source": [
    "# Definition for singly-linked list.\n",
    "# class ListNode:\n",
    "#     def __init__(self, val=0, next=None):\n",
    "#         self.val = val\n",
    "#         self.next = next\n",
    "class Solution:\n",
    "    def mergeKLists(self, lists: List[Optional[ListNode]]) -> Optional[ListNode]:\n",
    "        #Your Solution Here"
   ]
  },
  {
   "cell_type": "markdown",
   "id": "d1d732f8",
   "metadata": {},
   "source": [
    "__Q2. Cycle Detection__ <br>\n",
    "\n",
    "__Problem No.__: HDL002 <br>\n",
    "__Topic__: Linked List  <br>\n",
    "__Source__: https://www.hackerrank.com/challenges/detect-whether-a-linked-list-contains-a-cycle/problem?isFullScreen=true <br>\n",
    "__Difficulty__: Medium"
   ]
  },
  {
   "cell_type": "code",
   "execution_count": null,
   "id": "d099d2b5",
   "metadata": {},
   "outputs": [],
   "source": [
    "#!/bin/python3\n",
    "\n",
    "import math\n",
    "import os\n",
    "import random\n",
    "import re\n",
    "import sys\n",
    "\n",
    "# Complete the has_cycle function below.\n",
    "\n",
    "#\n",
    "# For your reference:\n",
    "#\n",
    "# SinglyLinkedListNode:\n",
    "#     int data\n",
    "#     SinglyLinkedListNode next\n",
    "\n",
    "def has_cycle(head):\n",
    "\n",
    "if __name__ == '__main__':\n",
    "    fptr = open(os.environ['OUTPUT_PATH'], 'w')\n",
    "\n",
    "    tests = int(input())\n",
    "\n",
    "    for tests_itr in range(tests):\n",
    "        index = int(input())\n",
    "\n",
    "        llist_count = int(input())\n",
    "\n",
    "        llist = SinglyLinkedList()\n",
    "\n",
    "        for _ in range(llist_count):\n",
    "            llist_item = int(input())\n",
    "            llist.insert_node(llist_item)\n",
    "\n",
    "        extra = SinglyLinkedListNode(-1);\n",
    "        temp = llist.head;\n",
    "\n",
    "        for i in range(llist_count):\n",
    "            if i == index:\n",
    "                extra = temp\n",
    "\n",
    "            if i != llist_count-1:\n",
    "                temp = temp.next\n",
    "\n",
    "        temp.next = extra\n",
    "\n",
    "        result = has_cycle(llist.head)\n",
    "\n",
    "        fptr.write(str(int(result)) + '\\n')\n",
    "\n",
    "    fptr.close()"
   ]
  },
  {
   "cell_type": "markdown",
   "id": "d1be7945",
   "metadata": {},
   "source": [
    "__Q3. Remove duplicates from sorted list 2__ <br>\n",
    "\n",
    "__Problem No.__: LDL003 <br>\n",
    "__Topic__: Linked List  <br>\n",
    "__Source__: https://leetcode.com/problems/remove-duplicates-from-sorted-list-ii/ <br>\n",
    "__Difficulty__: Medium"
   ]
  },
  {
   "cell_type": "code",
   "execution_count": null,
   "id": "c2b4c237",
   "metadata": {},
   "outputs": [],
   "source": [
    "# Definition for singly-linked list.\n",
    "# class ListNode:\n",
    "#     def __init__(self, val=0, next=None):\n",
    "#         self.val = val\n",
    "#         self.next = next\n",
    "class Solution:\n",
    "    def deleteDuplicates(self, head: Optional[ListNode]) -> Optional[ListNode]:\n",
    "        #Your Solution Here"
   ]
  },
  {
   "cell_type": "markdown",
   "id": "8ee777c0",
   "metadata": {},
   "source": [
    "__Q4. Reverse nodes in k group__ <br>\n",
    "\n",
    "__Problem No.__: LDL004 <br>\n",
    "__Topic__: Linked List  <br>\n",
    "__Source__: https://leetcode.com/problems/reverse-nodes-in-k-group/ <br>\n",
    "__Difficulty__: Medium"
   ]
  },
  {
   "cell_type": "code",
   "execution_count": null,
   "id": "6bf3d327",
   "metadata": {},
   "outputs": [],
   "source": [
    "# Definition for singly-linked list.\n",
    "# class ListNode:\n",
    "#     def __init__(self, val=0, next=None):\n",
    "#         self.val = val\n",
    "#         self.next = next\n",
    "class Solution:\n",
    "    def reverseKGroup(self, head: Optional[ListNode], k: int) -> Optional[ListNode]:\n",
    "        #Your Solution Here"
   ]
  },
  {
   "cell_type": "markdown",
   "id": "781297c3",
   "metadata": {},
   "source": [
    "__Q5. Design Twitter - LL Ver.__ <br>\n",
    "\n",
    "__Problem No.__: LDL005 <br>\n",
    "__Topic__: Linked List  <br>\n",
    "__Source__: https://leetcode.com/problems/design-twitter/ <br>\n",
    "__Difficulty__: Medium"
   ]
  },
  {
   "cell_type": "code",
   "execution_count": null,
   "id": "6c86ee95",
   "metadata": {},
   "outputs": [],
   "source": [
    "class Twitter:\n",
    "\n",
    "    def __init__(self):\n",
    "        \n",
    "\n",
    "    def postTweet(self, userId: int, tweetId: int) -> None:\n",
    "        \n",
    "\n",
    "    def getNewsFeed(self, userId: int) -> List[int]:\n",
    "        \n",
    "\n",
    "    def follow(self, followerId: int, followeeId: int) -> None:\n",
    "        \n",
    "\n",
    "    def unfollow(self, followerId: int, followeeId: int) -> None:\n",
    "        \n",
    "\n",
    "\n",
    "# Your Twitter object will be instantiated and called as such:\n",
    "# obj = Twitter()\n",
    "# obj.postTweet(userId,tweetId)\n",
    "# param_2 = obj.getNewsFeed(userId)\n",
    "# obj.follow(followerId,followeeId)\n",
    "# obj.unfollow(followerId,followeeId)"
   ]
  },
  {
   "cell_type": "markdown",
   "id": "838580fb",
   "metadata": {},
   "source": [
    "### 26 Jan 2022\n",
    "Comment: Searching Algorithms, 5번은 Challenge 문제!"
   ]
  },
  {
   "cell_type": "markdown",
   "id": "18393278",
   "metadata": {},
   "source": [
    "__Q1. Minimum Loss__ <br>\n",
    "\n",
    "__Problem No.__: HAS001 <br>\n",
    "__Topic__: Search  <br>\n",
    "__Source__: https://www.hackerrank.com/challenges/minimum-loss/problem?isFullScreen=true <br>\n",
    "__Difficulty__: Easy"
   ]
  },
  {
   "cell_type": "code",
   "execution_count": null,
   "id": "d5508830",
   "metadata": {},
   "outputs": [],
   "source": [
    "#!/bin/python3\n",
    "\n",
    "import math\n",
    "import os\n",
    "import random\n",
    "import re\n",
    "import sys\n",
    "\n",
    "#\n",
    "# Complete the 'minimumLoss' function below.\n",
    "#\n",
    "# The function is expected to return an INTEGER.\n",
    "# The function accepts LONG_INTEGER_ARRAY price as parameter.\n",
    "#\n",
    "\n",
    "def minimumLoss(price):\n",
    "    # Write your code here\n",
    "\n",
    "if __name__ == '__main__':\n",
    "    fptr = open(os.environ['OUTPUT_PATH'], 'w')\n",
    "\n",
    "    n = int(input().strip())\n",
    "\n",
    "    price = list(map(int, input().rstrip().split()))\n",
    "\n",
    "    result = minimumLoss(price)\n",
    "\n",
    "    fptr.write(str(result) + '\\n')\n",
    "\n",
    "    fptr.close()"
   ]
  },
  {
   "cell_type": "markdown",
   "id": "caa93817",
   "metadata": {},
   "source": [
    "__Q2. Maximum Subarray Sum__ <br>\n",
    "\n",
    "__Problem No.__: HAS002 <br>\n",
    "__Topic__: Search  <br>\n",
    "__Source__: https://www.hackerrank.com/challenges/maximum-subarray-sum/problem?isFullScreen=true <br>\n",
    "__Difficulty__: Hard"
   ]
  },
  {
   "cell_type": "code",
   "execution_count": null,
   "id": "044f8b10",
   "metadata": {},
   "outputs": [],
   "source": [
    "#!/bin/python3\n",
    "\n",
    "import math\n",
    "import os\n",
    "import random\n",
    "import re\n",
    "import sys\n",
    "\n",
    "#\n",
    "# Complete the 'maximumSum' function below.\n",
    "#\n",
    "# The function is expected to return a LONG_INTEGER.\n",
    "# The function accepts following parameters:\n",
    "#  1. LONG_INTEGER_ARRAY a\n",
    "#  2. LONG_INTEGER m\n",
    "#\n",
    "\n",
    "def maximumSum(a, m):\n",
    "    # Write your code here\n",
    "\n",
    "if __name__ == '__main__':\n",
    "    fptr = open(os.environ['OUTPUT_PATH'], 'w')\n",
    "\n",
    "    q = int(input().strip())\n",
    "\n",
    "    for q_itr in range(q):\n",
    "        first_multiple_input = input().rstrip().split()\n",
    "\n",
    "        n = int(first_multiple_input[0])\n",
    "\n",
    "        m = int(first_multiple_input[1])\n",
    "\n",
    "        a = list(map(int, input().rstrip().split()))\n",
    "\n",
    "        result = maximumSum(a, m)\n",
    "\n",
    "        fptr.write(str(result) + '\\n')\n",
    "\n",
    "    fptr.close()"
   ]
  },
  {
   "cell_type": "markdown",
   "id": "f6c637fa",
   "metadata": {},
   "source": [
    "__Q3. Short Palindrome__ <br>\n",
    "\n",
    "__Problem No.__: HAS003 <br>\n",
    "__Topic__: Search  <br>\n",
    "__Source__: https://www.hackerrank.com/challenges/short-palindrome/problem?isFullScreen=true <br>\n",
    "__Difficulty__: Medium"
   ]
  },
  {
   "cell_type": "code",
   "execution_count": null,
   "id": "d8b5592e",
   "metadata": {},
   "outputs": [],
   "source": [
    "#!/bin/python3\n",
    "\n",
    "import math\n",
    "import os\n",
    "import random\n",
    "import re\n",
    "import sys\n",
    "\n",
    "#\n",
    "# Complete the 'shortPalindrome' function below.\n",
    "#\n",
    "# The function is expected to return an INTEGER.\n",
    "# The function accepts STRING s as parameter.\n",
    "#\n",
    "\n",
    "def shortPalindrome(s):\n",
    "    # Write your code here\n",
    "\n",
    "if __name__ == '__main__':\n",
    "    fptr = open(os.environ['OUTPUT_PATH'], 'w')\n",
    "\n",
    "    s = input()\n",
    "\n",
    "    result = shortPalindrome(s)\n",
    "\n",
    "    fptr.write(str(result) + '\\n')\n",
    "\n",
    "    fptr.close()\n"
   ]
  },
  {
   "cell_type": "markdown",
   "id": "f5e7ba88",
   "metadata": {},
   "source": [
    "__Q4. Median of two sorted arrays__ <br>\n",
    "\n",
    "__Problem No.__: LAS002 <br>\n",
    "__Topic__: Search  <br>\n",
    "__Source__: https://leetcode.com/problems/median-of-two-sorted-arrays/ <br>\n",
    "__Difficulty__: Medium"
   ]
  },
  {
   "cell_type": "code",
   "execution_count": null,
   "id": "d7de31a1",
   "metadata": {},
   "outputs": [],
   "source": [
    "class Solution:\n",
    "    def findMedianSortedArrays(self, nums1: List[int], nums2: List[int]) -> float:\n",
    "        #Your Solution Here"
   ]
  },
  {
   "cell_type": "markdown",
   "id": "e807e078",
   "metadata": {},
   "source": [
    "__Q5. Gridland Metro__ <br>\n",
    "\n",
    "__Problem No.__: HAS004 <br>\n",
    "__Topic__: Matrix, Search  <br>\n",
    "__Source__: https://www.hackerrank.com/challenges/gridland-metro/problem?isFullScreen=true <br>\n",
    "__Difficulty__: Hard"
   ]
  },
  {
   "cell_type": "code",
   "execution_count": null,
   "id": "5d138592",
   "metadata": {},
   "outputs": [],
   "source": [
    "#!/bin/python3\n",
    "\n",
    "import math\n",
    "import os\n",
    "import random\n",
    "import re\n",
    "import sys\n",
    "\n",
    "#\n",
    "# Complete the 'gridlandMetro' function below.\n",
    "#\n",
    "# The function is expected to return an INTEGER.\n",
    "# The function accepts following parameters:\n",
    "#  1. INTEGER n\n",
    "#  2. INTEGER m\n",
    "#  3. INTEGER k\n",
    "#  4. 2D_INTEGER_ARRAY track\n",
    "#\n",
    "\n",
    "def gridlandMetro(n, m, k, track):\n",
    "    # Write your code here\n",
    "\n",
    "if __name__ == '__main__':\n",
    "    fptr = open(os.environ['OUTPUT_PATH'], 'w')\n",
    "\n",
    "    first_multiple_input = input().rstrip().split()\n",
    "\n",
    "    n = int(first_multiple_input[0])\n",
    "\n",
    "    m = int(first_multiple_input[1])\n",
    "\n",
    "    k = int(first_multiple_input[2])\n",
    "\n",
    "    track = []\n",
    "\n",
    "    for _ in range(k):\n",
    "        track.append(list(map(int, input().rstrip().split())))\n",
    "\n",
    "    result = gridlandMetro(n, m, k, track)\n",
    "\n",
    "    fptr.write(str(result) + '\\n')\n",
    "\n",
    "    fptr.close()\n"
   ]
  },
  {
   "cell_type": "markdown",
   "id": "9bb84256",
   "metadata": {},
   "source": [
    "### 27 Jan 2022"
   ]
  },
  {
   "cell_type": "markdown",
   "id": "9172104c",
   "metadata": {},
   "source": [
    "Comment: Sorting"
   ]
  },
  {
   "cell_type": "markdown",
   "id": "93189d9a",
   "metadata": {},
   "source": [
    "__Q1. Closest Numbers__ <br>\n",
    "\n",
    "__Problem No.__: HST001 <br>\n",
    "__Topic__: Sorting  <br>\n",
    "__Source__: https://www.hackerrank.com/challenges/closest-numbers/problem?isFullScreen=true <br>\n",
    "__Difficulty__: Easy"
   ]
  },
  {
   "cell_type": "code",
   "execution_count": null,
   "id": "8438881a",
   "metadata": {},
   "outputs": [],
   "source": [
    "#!/bin/python3\n",
    "\n",
    "import math\n",
    "import os\n",
    "import random\n",
    "import re\n",
    "import sys\n",
    "\n",
    "#\n",
    "# Complete the 'closestNumbers' function below.\n",
    "#\n",
    "# The function is expected to return an INTEGER_ARRAY.\n",
    "# The function accepts INTEGER_ARRAY arr as parameter.\n",
    "#\n",
    "\n",
    "def closestNumbers(arr):\n",
    "    # Write your code here\n",
    "    \n",
    "\n",
    "if __name__ == '__main__':\n",
    "    fptr = open(os.environ['OUTPUT_PATH'], 'w')\n",
    "\n",
    "    n = int(input().strip())\n",
    "\n",
    "    arr = list(map(int, input().rstrip().split()))\n",
    "\n",
    "    result = closestNumbers(arr)\n",
    "\n",
    "    fptr.write(' '.join(map(str, result)))\n",
    "    fptr.write('\\n')\n",
    "\n",
    "    fptr.close()\n"
   ]
  },
  {
   "cell_type": "markdown",
   "id": "02b51fb3",
   "metadata": {},
   "source": [
    "__Q2. Fraudulent Activity Notifications__ <br>\n",
    "\n",
    "__Problem No.__: HST002 <br>\n",
    "__Topic__: Sorting  <br>\n",
    "__Source__: https://www.hackerrank.com/challenges/fraudulent-activity-notifications/problem?isFullScreen=true <br>\n",
    "__Difficulty__: Medium"
   ]
  },
  {
   "cell_type": "code",
   "execution_count": null,
   "id": "796bab4f",
   "metadata": {},
   "outputs": [],
   "source": [
    "#!/bin/python3\n",
    "\n",
    "import math\n",
    "import os\n",
    "import random\n",
    "import re\n",
    "import sys\n",
    "\n",
    "#\n",
    "# Complete the 'activityNotifications' function below.\n",
    "#\n",
    "# The function is expected to return an INTEGER.\n",
    "# The function accepts following parameters:\n",
    "#  1. INTEGER_ARRAY expenditure\n",
    "#  2. INTEGER d\n",
    "#\n",
    "\n",
    "def activityNotifications(expenditure, d):\n",
    "    # Write your code here\n",
    "\n",
    "if __name__ == '__main__':\n",
    "    fptr = open(os.environ['OUTPUT_PATH'], 'w')\n",
    "\n",
    "    first_multiple_input = input().rstrip().split()\n",
    "\n",
    "    n = int(first_multiple_input[0])\n",
    "\n",
    "    d = int(first_multiple_input[1])\n",
    "\n",
    "    expenditure = list(map(int, input().rstrip().split()))\n",
    "\n",
    "    result = activityNotifications(expenditure, d)\n",
    "\n",
    "    fptr.write(str(result) + '\\n')\n",
    "\n",
    "    fptr.close()\n"
   ]
  },
  {
   "cell_type": "markdown",
   "id": "485e9c13",
   "metadata": {},
   "source": [
    "__Q3. 좌표 압축__ <br>\n",
    "\n",
    "__Problem No.__: BST001 <br>\n",
    "__Topic__: Sorting  <br>\n",
    "__Source__: https://www.acmicpc.net/problem/18870 <br>\n",
    "__Difficulty__: Medium"
   ]
  },
  {
   "cell_type": "markdown",
   "id": "2f3f98db",
   "metadata": {},
   "source": [
    "__Q4. 3Sum__ <br>\n",
    "\n",
    "__Problem No.__: LST001 <br>\n",
    "__Topic__: Sorting  <br>\n",
    "__Source__: https://leetcode.com/problems/3sum/ <br>\n",
    "__Difficulty__: Medium"
   ]
  },
  {
   "cell_type": "code",
   "execution_count": 2,
   "id": "481895b7",
   "metadata": {},
   "outputs": [],
   "source": [
    "class Solution(object):\n",
    "    def threeSum(self, nums):\n",
    "        \"\"\"\n",
    "        :type nums: List[int]\n",
    "        :rtype: List[List[int]]\n",
    "        \"\"\"\n",
    "        "
   ]
  },
  {
   "cell_type": "markdown",
   "id": "77eb9e72",
   "metadata": {},
   "source": [
    "__Q5. Russian Doll Envelopes__ <br>\n",
    "\n",
    "__Problem No.__: LST002 <br>\n",
    "__Topic__: Sorting  <br>\n",
    "__Source__: https://leetcode.com/problems/russian-doll-envelopes/ <br>\n",
    "__Difficulty__: Hard"
   ]
  },
  {
   "cell_type": "code",
   "execution_count": 4,
   "id": "ca51f56a",
   "metadata": {},
   "outputs": [],
   "source": [
    "class Solution(object):\n",
    "    def maxEnvelopes(self, envelopes):\n",
    "        \"\"\"\n",
    "        :type envelopes: List[List[int]]\n",
    "        :rtype: int\n",
    "        \"\"\"\n",
    "        "
   ]
  },
  {
   "cell_type": "markdown",
   "id": "05eb5a3c",
   "metadata": {},
   "source": [
    "### 28 Jan 2022"
   ]
  },
  {
   "cell_type": "markdown",
   "id": "76095483",
   "metadata": {},
   "source": [
    "__Q1. Merge Sorted Array__ <br>\n",
    "\n",
    "__Problem No.__: LST003 <br>\n",
    "__Topic__: Sorting  <br>\n",
    "__Source__: https://leetcode.com/problems/merge-sorted-array/ <br>\n",
    "__Difficulty__: Easy"
   ]
  },
  {
   "cell_type": "code",
   "execution_count": 7,
   "id": "de4e9873",
   "metadata": {},
   "outputs": [],
   "source": [
    "class Solution(object):\n",
    "    def merge(self, nums1, m, nums2, n):\n",
    "        \"\"\"\n",
    "        :type nums1: List[int]\n",
    "        :type m: int\n",
    "        :type nums2: List[int]\n",
    "        :type n: int\n",
    "        :rtype: None Do not return anything, modify nums1 in-place instead.\n",
    "        \"\"\"\n",
    "        "
   ]
  },
  {
   "cell_type": "markdown",
   "id": "e4f6de84",
   "metadata": {},
   "source": [
    "__Q2. 나이순 정렬__ <br>\n",
    "\n",
    "__Problem No.__: BST002 <br>\n",
    "__Topic__: Sorting  <br>\n",
    "__Source__: https://www.acmicpc.net/problem/10814 <br>\n",
    "__Difficulty__: Medium"
   ]
  },
  {
   "cell_type": "markdown",
   "id": "f605dff1",
   "metadata": {},
   "source": [
    "__Q3. Lily's Homework__ <br>\n",
    "\n",
    "__Problem No.__: HST003 <br>\n",
    "__Topic__: Sorting  <br>\n",
    "__Source__: https://www.hackerrank.com/challenges/lilys-homework/problem?isFullScreen=true <br>\n",
    "__Difficulty__: Medium"
   ]
  },
  {
   "cell_type": "code",
   "execution_count": null,
   "id": "77f6f642",
   "metadata": {},
   "outputs": [],
   "source": [
    "#!/bin/python3\n",
    "\n",
    "import math\n",
    "import os\n",
    "import random\n",
    "import re\n",
    "import sys\n",
    "\n",
    "#\n",
    "# Complete the 'lilysHomework' function below.\n",
    "#\n",
    "# The function is expected to return an INTEGER.\n",
    "# The function accepts INTEGER_ARRAY arr as parameter.\n",
    "#\n",
    "\n",
    "def lilysHomework(arr):\n",
    "    # Write your code here\n",
    "\n",
    "if __name__ == '__main__':\n",
    "    fptr = open(os.environ['OUTPUT_PATH'], 'w')\n",
    "\n",
    "    n = int(input().strip())\n",
    "\n",
    "    arr = list(map(int, input().rstrip().split()))\n",
    "\n",
    "    result = lilysHomework(arr)\n",
    "\n",
    "    fptr.write(str(result) + '\\n')\n",
    "\n",
    "    fptr.close()\n"
   ]
  },
  {
   "cell_type": "markdown",
   "id": "63db76c0",
   "metadata": {},
   "source": [
    "__Q4. 단어 정렬__ <br>\n",
    "\n",
    "__Problem No.__: BST003 <br>\n",
    "__Topic__: Sorting  <br>\n",
    "__Source__: https://www.acmicpc.net/problem/1181 <br>\n",
    "__Difficulty__: Medium"
   ]
  },
  {
   "cell_type": "markdown",
   "id": "800a06a8",
   "metadata": {},
   "source": [
    "__Q5. Smallest Range Covering Elements from K Lists__ <br>\n",
    "\n",
    "__Problem No.__: LST004 <br>\n",
    "__Topic__: Sorting  <br>\n",
    "__Source__: https://leetcode.com/problems/smallest-range-covering-elements-from-k-lists/ <br>\n",
    "__Difficulty__: Hard"
   ]
  },
  {
   "cell_type": "code",
   "execution_count": null,
   "id": "ed85e04a",
   "metadata": {},
   "outputs": [],
   "source": [
    "class Solution(object):\n",
    "    def smallestRange(self, nums):\n",
    "        \"\"\"\n",
    "        :type nums: List[List[int]]\n",
    "        :rtype: List[int]\n",
    "        \"\"\"\n",
    "        "
   ]
  }
 ],
 "metadata": {
  "kernelspec": {
   "display_name": "Python 3 (ipykernel)",
   "language": "python",
   "name": "python3"
  },
  "language_info": {
   "codemirror_mode": {
    "name": "ipython",
    "version": 3
   },
   "file_extension": ".py",
   "mimetype": "text/x-python",
   "name": "python",
   "nbconvert_exporter": "python",
   "pygments_lexer": "ipython3",
   "version": "3.9.7"
  }
 },
 "nbformat": 4,
 "nbformat_minor": 5
}
